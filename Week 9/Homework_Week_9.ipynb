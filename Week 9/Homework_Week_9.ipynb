{
 "cells": [
  {
   "cell_type": "code",
   "execution_count": 1,
   "metadata": {},
   "outputs": [],
   "source": [
    "import gym \n",
    "import itertools \n",
    "import matplotlib \n",
    "import matplotlib.style \n",
    "import numpy as np \n",
    "import pandas as pd \n",
    "import sys \n",
    "  \n",
    "from collections import defaultdict\n",
    "\n",
    "import seaborn as sns\n",
    "import matplotlib.pyplot as plt\n",
    "%matplotlib inline"
   ]
  },
  {
   "cell_type": "markdown",
   "metadata": {},
   "source": [
    "# Notes Before Assignment\n",
    "https://www.geeksforgeeks.org/q-learning-in-python/)/"
   ]
  },
  {
   "cell_type": "markdown",
   "metadata": {},
   "source": [
    "- Reinforcement learning is where an agent learns overtime to behave optimally in an invironment by interacting with it\n",
    "- States are the situations the agent finds itself in during its interaction with the environment"
   ]
  },
  {
   "cell_type": "markdown",
   "metadata": {},
   "source": [
    "### Q-Learning\n",
    "Basic form of reinforcement learning which uses Q-Values (action values) to iteratively improve the behavior of the learning agent"
   ]
  },
  {
   "cell_type": "markdown",
   "metadata": {},
   "source": [
    "### Q-Values: \n",
    "defined for states and actions, they are an estimation of how good it is to take the action A at state S - denoted Q(S, A)"
   ]
  },
  {
   "cell_type": "markdown",
   "metadata": {},
   "source": [
    "### Rewards and Episodes\n",
    "- An agent over the course of its lifetime starts from a state, makes a number of transitions, and at every transition, the agent takes an action, observes a reward from the environment, and then transits to another state\n",
    "- If at any point of time the agent ends up in one of the terminating states that means there are no further transitions possible. This is said to be the completion of the episode"
   ]
  },
  {
   "cell_type": "markdown",
   "metadata": {},
   "source": [
    "### Temporal Difference or TD-Update\n",
    "An update rule to estimate the value of Q is applied at every time step of the agent's interaction with the environment"
   ]
  },
  {
   "cell_type": "markdown",
   "metadata": {},
   "source": [
    "- S : Current State of the agent.\n",
    "- A : Current Action Picked according to some policy.\n",
    "- S' : Next State where the agent ends up.\n",
    "- A' : Next best action to be picked using current Q-value estimation, i.e. pick the action with the maximum Q-value in the next state.\n",
    "- R : Current Reward observed from the environment in Response of current action.\n",
    "- gamma(>0 and <=1) : Discounting Factor for Future Rewards. Future rewars are less valuable than current rewards so they must be discounted. Since Q-value is an estimation of expected rewards from a state, discounting rule applies here as well.\n",
    "- alpha : Step length taken to update the estimation of Q(S, A)."
   ]
  },
  {
   "cell_type": "markdown",
   "metadata": {},
   "source": [
    "### Choosing the action to take using epsilon-greedy policy\n",
    "- Epsilon-greedy policy is a simple policy of choosing actions using the current Q-Value estimations\n",
    "\n",
    "Rules:\n",
    "- With probability (1-epsilon) choose the action which has the highest Q-value.\n",
    "- With probability (epsilon) choose any action at random."
   ]
  },
  {
   "cell_type": "markdown",
   "metadata": {},
   "source": [
    "# Assignment\n",
    "The coding exercise of this week is using q-learning to solve the FrozenLake environment. This article (https://www.geeksforgeeks.org/q-learning-in-python/) will be helpful."
   ]
  },
  {
   "cell_type": "markdown",
   "metadata": {},
   "source": [
    "# Notes"
   ]
  },
  {
   "cell_type": "markdown",
   "metadata": {},
   "source": [
    "- The frozen lake problem is a unique environment whereby there is only one possibility to get a reward - to win the game\n",
    "- The update process therefore must consist of random movements until the agent seemingly randomly wins the game\n",
    "- After it has won once, the state before the winning state is updated with information that it's also a good state to go towards\n",
    "- The next advancement in judgement is when the agent finds himself next to the state that's next to the winning state. At this point the state next to the state next to the target is updated with information that it's rewarding to go towards (increased Q value)\n",
    "- This process continues untill there's a \"hot path\" defined from the start of the level to the end"
   ]
  },
  {
   "cell_type": "markdown",
   "metadata": {},
   "source": [
    "### Create Environment"
   ]
  },
  {
   "cell_type": "code",
   "execution_count": 2,
   "metadata": {},
   "outputs": [],
   "source": [
    "env = gym.make('FrozenLake-v0')"
   ]
  },
  {
   "cell_type": "code",
   "execution_count": 3,
   "metadata": {
    "scrolled": true
   },
   "outputs": [
    {
     "data": {
      "text/plain": [
       "defaultdict(<function __main__.<lambda>()>, {})"
      ]
     },
     "execution_count": 3,
     "metadata": {},
     "output_type": "execute_result"
    }
   ],
   "source": [
    "defaultdict(lambda: np.zeros(env.action_space.n))"
   ]
  },
  {
   "cell_type": "markdown",
   "metadata": {},
   "source": [
    "### Create Epsilon-Greedy Policy"
   ]
  },
  {
   "cell_type": "code",
   "execution_count": 4,
   "metadata": {},
   "outputs": [],
   "source": [
    "def create_epsilon_greedy_policy(Q, epsilon, num_actions):\n",
    "    \n",
    "    # Epsilon-greedy policy is already embedded in frozen lake environment\n",
    "    # Just return the argmax of the Q-state\n",
    "    def policy_function(state):\n",
    "        \n",
    "        action_probabilities = np.ones(num_actions, \n",
    "                dtype = float) * epsilon / num_actions \n",
    "                  \n",
    "        best_action = np.argmax(Q[state]) \n",
    "        action_probabilities[best_action] += (1.0 - epsilon) \n",
    "        return action_probabilities \n",
    "    \n",
    "    return policy_function"
   ]
  },
  {
   "cell_type": "markdown",
   "metadata": {},
   "source": [
    "### Helper Functions"
   ]
  },
  {
   "cell_type": "code",
   "execution_count": 5,
   "metadata": {},
   "outputs": [],
   "source": [
    "def same_row(start_state, end_state):\n",
    "    if start_state in range(4) and end_state in range(4):\n",
    "        return True\n",
    "    elif start_state in range(4, 8) and end_state in range(4, 8):\n",
    "        return True\n",
    "    elif start_state in range(8, 12) and end_state in range(8, 12):\n",
    "        return True\n",
    "    elif start_state in range(12, 16) and end_state in range(12, 16):\n",
    "        return True\n",
    "    else:\n",
    "        return False"
   ]
  },
  {
   "cell_type": "code",
   "execution_count": 6,
   "metadata": {},
   "outputs": [],
   "source": [
    "def where_did_you_go(start_state, end_state):\n",
    "    \"\"\"\n",
    "    Up = 3\n",
    "    Right = 2\n",
    "    Down = 1\n",
    "    Left = 0\n",
    "    Didn't move = -1\n",
    "    \"\"\"\n",
    "    if start_state == end_state:\n",
    "        return -1\n",
    "    elif same_row(start_state, end_state):\n",
    "        if end_state > start_state:\n",
    "            return 2\n",
    "        else:\n",
    "            return 0\n",
    "    else:\n",
    "        if end_state > start_state:\n",
    "            return 1\n",
    "        else:\n",
    "            return 3"
   ]
  },
  {
   "cell_type": "markdown",
   "metadata": {},
   "source": [
    "### Build Q-Learning Model"
   ]
  },
  {
   "cell_type": "code",
   "execution_count": 7,
   "metadata": {},
   "outputs": [],
   "source": [
    "def q_learning(env, num_episodes, discount_factor=0.8, alpha=1, epsilon=0.1, chunk_size=100, hole_reward=-0.1):\n",
    "    \n",
    "    \"\"\"\n",
    "    Store Q-Values for each state and action\n",
    "    \"\"\"\n",
    "    Q = defaultdict(lambda: np.zeros(env.action_space.n))  \n",
    "    \n",
    "    \"\"\"\n",
    "    Store useful statistics\n",
    "    \"\"\"\n",
    "    stats = {\n",
    "        'reward': [],\n",
    "        'group_range': [],\n",
    "        'completion_time': []\n",
    "    }\n",
    "    \n",
    "    \"\"\"\n",
    "    Define the policy\n",
    "    \"\"\"\n",
    "    policy = create_epsilon_greedy_policy(Q, epsilon, env.action_space.n)\n",
    "    \n",
    "    \"\"\"\n",
    "    Keep track of what episode range we're in\n",
    "    \"\"\"\n",
    "    group_range = \"0-{}\".format(chunk_size)\n",
    "    \n",
    "    for episode in range(num_episodes):\n",
    "        \n",
    "        if (episode+1) % chunk_size == 0:\n",
    "            group_range = group_range.split('-')[1] + \"-{}\".format(episode+1)\n",
    "        \n",
    "        state = env.reset()\n",
    "        \n",
    "        for t in itertools.count():\n",
    "            \n",
    "            \"\"\"\n",
    "            Retrieve desired actions as an array of probabilities\n",
    "            \"\"\"\n",
    "            action_probabilities = policy(state) \n",
    "   \n",
    "            \"\"\"\n",
    "            Randomly choose action from the probability distribution\n",
    "            Higher probabilities to certain actions will increase probability of acting in this way\n",
    "            \"\"\"\n",
    "            intended_action = np.random.choice(np.arange( \n",
    "                      len(action_probabilities)), \n",
    "                       p = action_probabilities) \n",
    "            \n",
    "            \"\"\"\n",
    "            Your reward is calculated immediately after that action is taken\n",
    "            \"\"\"\n",
    "            next_state, reward, done, _ = env.step(intended_action)\n",
    "            \n",
    "            \"\"\"\n",
    "            Calculate the direction you actually went (you might have slipped)\n",
    "            \"\"\"\n",
    "            actual_action = where_did_you_go(state, next_state)\n",
    "            if actual_action == -1:\n",
    "                # Don't update TD if you didn't move\n",
    "                continue\n",
    "            \n",
    "            \"\"\"\n",
    "            Make the reward negative if you fell in the hole\n",
    "            \"\"\"\n",
    "            if done and reward == 0:\n",
    "                reward = hole_reward\n",
    "            \n",
    "            \"\"\"\n",
    "            TD Update \n",
    "            1) Find the best action for the next state\n",
    "            2) Create td_target which is a combination of the current movement's reward, \n",
    "            and a multiple of the Q value of the next states best move\n",
    "            3) Update the state before the action with a multiple of td_target\n",
    "            \"\"\"\n",
    "            best_next_action = np.argmax(Q[next_state])     \n",
    "            td_target = reward + discount_factor * Q[next_state][best_next_action]\n",
    "            Q[state][actual_action] = Q[state][actual_action] + alpha * (td_target - Q[state][actual_action])\n",
    "   \n",
    "            \"\"\"\n",
    "            Leave if you win or fall in a hole\n",
    "            \"\"\"  \n",
    "            if done:\n",
    "                # Update Statistics\n",
    "                stats['group_range'].append(group_range)\n",
    "                stats['reward'].append(reward)\n",
    "                if reward > 0:\n",
    "                    stats['completion_time'].append(t + 1)\n",
    "                    # print(\"Completed Successfully:\", episode, t + 1)\n",
    "                else:\n",
    "                    stats['completion_time'].append(np.nan)\n",
    "                # Leave\n",
    "                break\n",
    "                   \n",
    "            state = next_state\n",
    "            \n",
    "    return Q, stats"
   ]
  },
  {
   "cell_type": "markdown",
   "metadata": {},
   "source": [
    "### Run Q-Learning"
   ]
  },
  {
   "cell_type": "code",
   "execution_count": 16,
   "metadata": {
    "scrolled": true
   },
   "outputs": [],
   "source": [
    "episodes = 10_000\n",
    "Q, stats = q_learning(env, episodes)"
   ]
  },
  {
   "cell_type": "markdown",
   "metadata": {},
   "source": [
    "### Collect The Results and Group it"
   ]
  },
  {
   "cell_type": "code",
   "execution_count": 17,
   "metadata": {},
   "outputs": [],
   "source": [
    "results = pd.DataFrame(\n",
    "    {'Reward': stats['reward'],\n",
    "     'Completion Time': stats['completion_time'],\n",
    "     'Episode Range': stats['group_range']}\n",
    ")\n",
    "grp_by = results.reset_index().groupby('Episode Range')['index', 'Reward', 'Completion Time'].mean()\n",
    "df_grouped = pd.DataFrame(grp_by).reset_index().sort_values(['index']).drop(['index'], axis=1).reset_index(drop=True)"
   ]
  },
  {
   "cell_type": "markdown",
   "metadata": {},
   "source": [
    "### Plot Training Statistics"
   ]
  },
  {
   "cell_type": "code",
   "execution_count": 18,
   "metadata": {
    "scrolled": true
   },
   "outputs": [
    {
     "data": {
      "text/plain": [
       "Text(0.5, 1.0, 'Mean Reward for grouping period of 100 episodes')"
      ]
     },
     "execution_count": 18,
     "metadata": {},
     "output_type": "execute_result"
    },
    {
     "data": {
      "image/png": "[encoded data removed]",
      "text/plain": [
       "<Figure size 432x288 with 1 Axes>"
      ]
     },
     "metadata": {
      "needs_background": "light"
     },
     "output_type": "display_data"
    }
   ],
   "source": [
    "ax = df_grouped.reset_index().plot.scatter(x='index', y='Reward')\n",
    "ax.set_ylabel('Mean Reward for Grouping Period')\n",
    "ax.set_xlabel('Grouping Period')\n",
    "ax.set_title(\"Mean Reward for grouping period of 100 episodes\")"
   ]
  },
  {
   "cell_type": "code",
   "execution_count": 19,
   "metadata": {
    "scrolled": true
   },
   "outputs": [
    {
     "data": {
      "text/plain": [
       "Text(0.5, 1.0, 'Mean Completion Time for grouping period of 100 episodes')"
      ]
     },
     "execution_count": 19,
     "metadata": {},
     "output_type": "execute_result"
    },
    {
     "data": {
      "image/png": "[encoded data removed]",
      "text/plain": [
       "<Figure size 432x288 with 1 Axes>"
      ]
     },
     "metadata": {
      "needs_background": "light"
     },
     "output_type": "display_data"
    }
   ],
   "source": [
    "ax = df_grouped.reset_index().plot.scatter(x='index', y='Completion Time')\n",
    "ax.set_ylabel('Mean Completion Time for Grouping Period')\n",
    "ax.set_xlabel('Grouping Period')\n",
    "ax.set_title(\"Mean Completion Time for grouping period of 100 episodes\")"
   ]
  },
  {
   "cell_type": "markdown",
   "metadata": {},
   "source": [
    "### From observing the data below you can see that during the episode 600-700 range the agent won it's first episode and registered a positive reward"
   ]
  },
  {
   "cell_type": "code",
   "execution_count": 23,
   "metadata": {
    "scrolled": false
   },
   "outputs": [
    {
     "data": {
      "text/html": [
       "<div>\n",
       "<style scoped>\n",
       "    .dataframe tbody tr th:only-of-type {\n",
       "        vertical-align: middle;\n",
       "    }\n",
       "\n",
       "    .dataframe tbody tr th {\n",
       "        vertical-align: top;\n",
       "    }\n",
       "\n",
       "    .dataframe thead th {\n",
       "        text-align: right;\n",
       "    }\n",
       "</style>\n",
       "<table border=\"1\" class=\"dataframe\">\n",
       "  <thead>\n",
       "    <tr style=\"text-align: right;\">\n",
       "      <th></th>\n",
       "      <th>Episode Range</th>\n",
       "      <th>Reward</th>\n",
       "      <th>Completion Time</th>\n",
       "    </tr>\n",
       "  </thead>\n",
       "  <tbody>\n",
       "    <tr>\n",
       "      <th>0</th>\n",
       "      <td>0-100</td>\n",
       "      <td>-0.100</td>\n",
       "      <td>NaN</td>\n",
       "    </tr>\n",
       "    <tr>\n",
       "      <th>1</th>\n",
       "      <td>100-100</td>\n",
       "      <td>-0.100</td>\n",
       "      <td>NaN</td>\n",
       "    </tr>\n",
       "    <tr>\n",
       "      <th>2</th>\n",
       "      <td>100-200</td>\n",
       "      <td>-0.100</td>\n",
       "      <td>NaN</td>\n",
       "    </tr>\n",
       "    <tr>\n",
       "      <th>3</th>\n",
       "      <td>200-300</td>\n",
       "      <td>-0.100</td>\n",
       "      <td>NaN</td>\n",
       "    </tr>\n",
       "    <tr>\n",
       "      <th>4</th>\n",
       "      <td>300-400</td>\n",
       "      <td>-0.100</td>\n",
       "      <td>NaN</td>\n",
       "    </tr>\n",
       "    <tr>\n",
       "      <th>5</th>\n",
       "      <td>400-500</td>\n",
       "      <td>-0.100</td>\n",
       "      <td>NaN</td>\n",
       "    </tr>\n",
       "    <tr>\n",
       "      <th>6</th>\n",
       "      <td>500-600</td>\n",
       "      <td>-0.100</td>\n",
       "      <td>NaN</td>\n",
       "    </tr>\n",
       "    <tr>\n",
       "      <th>7</th>\n",
       "      <td>600-700</td>\n",
       "      <td>-0.089</td>\n",
       "      <td>11.000000</td>\n",
       "    </tr>\n",
       "    <tr>\n",
       "      <th>8</th>\n",
       "      <td>700-800</td>\n",
       "      <td>-0.056</td>\n",
       "      <td>11.000000</td>\n",
       "    </tr>\n",
       "    <tr>\n",
       "      <th>9</th>\n",
       "      <td>800-900</td>\n",
       "      <td>-0.034</td>\n",
       "      <td>12.000000</td>\n",
       "    </tr>\n",
       "    <tr>\n",
       "      <th>10</th>\n",
       "      <td>900-1000</td>\n",
       "      <td>-0.067</td>\n",
       "      <td>14.333333</td>\n",
       "    </tr>\n",
       "    <tr>\n",
       "      <th>11</th>\n",
       "      <td>1000-1100</td>\n",
       "      <td>-0.034</td>\n",
       "      <td>10.000000</td>\n",
       "    </tr>\n",
       "    <tr>\n",
       "      <th>12</th>\n",
       "      <td>1100-1200</td>\n",
       "      <td>-0.056</td>\n",
       "      <td>12.500000</td>\n",
       "    </tr>\n",
       "    <tr>\n",
       "      <th>13</th>\n",
       "      <td>1200-1300</td>\n",
       "      <td>-0.067</td>\n",
       "      <td>10.333333</td>\n",
       "    </tr>\n",
       "    <tr>\n",
       "      <th>14</th>\n",
       "      <td>1300-1400</td>\n",
       "      <td>-0.056</td>\n",
       "      <td>11.500000</td>\n",
       "    </tr>\n",
       "    <tr>\n",
       "      <th>15</th>\n",
       "      <td>1400-1500</td>\n",
       "      <td>-0.034</td>\n",
       "      <td>10.666667</td>\n",
       "    </tr>\n",
       "    <tr>\n",
       "      <th>16</th>\n",
       "      <td>1500-1600</td>\n",
       "      <td>-0.023</td>\n",
       "      <td>11.142857</td>\n",
       "    </tr>\n",
       "    <tr>\n",
       "      <th>17</th>\n",
       "      <td>1600-1700</td>\n",
       "      <td>-0.012</td>\n",
       "      <td>9.875000</td>\n",
       "    </tr>\n",
       "    <tr>\n",
       "      <th>18</th>\n",
       "      <td>1700-1800</td>\n",
       "      <td>-0.056</td>\n",
       "      <td>9.250000</td>\n",
       "    </tr>\n",
       "    <tr>\n",
       "      <th>19</th>\n",
       "      <td>1800-1900</td>\n",
       "      <td>-0.056</td>\n",
       "      <td>12.000000</td>\n",
       "    </tr>\n",
       "  </tbody>\n",
       "</table>\n",
       "</div>"
      ],
      "text/plain": [
       "   Episode Range  Reward  Completion Time\n",
       "0          0-100  -0.100              NaN\n",
       "1        100-100  -0.100              NaN\n",
       "2        100-200  -0.100              NaN\n",
       "3        200-300  -0.100              NaN\n",
       "4        300-400  -0.100              NaN\n",
       "5        400-500  -0.100              NaN\n",
       "6        500-600  -0.100              NaN\n",
       "7        600-700  -0.089        11.000000\n",
       "8        700-800  -0.056        11.000000\n",
       "9        800-900  -0.034        12.000000\n",
       "10      900-1000  -0.067        14.333333\n",
       "11     1000-1100  -0.034        10.000000\n",
       "12     1100-1200  -0.056        12.500000\n",
       "13     1200-1300  -0.067        10.333333\n",
       "14     1300-1400  -0.056        11.500000\n",
       "15     1400-1500  -0.034        10.666667\n",
       "16     1500-1600  -0.023        11.142857\n",
       "17     1600-1700  -0.012         9.875000\n",
       "18     1700-1800  -0.056         9.250000\n",
       "19     1800-1900  -0.056        12.000000"
      ]
     },
     "execution_count": 23,
     "metadata": {},
     "output_type": "execute_result"
    }
   ],
   "source": [
    "df_grouped.head(20)"
   ]
  },
  {
   "cell_type": "markdown",
   "metadata": {},
   "source": [
    "# Trained Q-Values for each state"
   ]
  },
  {
   "cell_type": "markdown",
   "metadata": {},
   "source": [
    "The Q values were updated in a default dictionary where each key represents the state, and the numpy array value stores the Q-values for each direction indexed left, down, right and up ascending (see below for example)"
   ]
  },
  {
   "cell_type": "code",
   "execution_count": 24,
   "metadata": {},
   "outputs": [
    {
     "data": {
      "text/plain": [
       "{'State #': array(['Left', 'Down', 'Right', 'Up'], dtype='<U5')}"
      ]
     },
     "execution_count": 24,
     "metadata": {},
     "output_type": "execute_result"
    }
   ],
   "source": [
    "schema = dict()\n",
    "schema['State #'] = np.array(['Left', 'Down', 'Right', 'Up'])\n",
    "schema"
   ]
  },
  {
   "cell_type": "code",
   "execution_count": 25,
   "metadata": {
    "scrolled": false
   },
   "outputs": [
    {
     "data": {
      "text/plain": [
       "defaultdict(<function __main__.q_learning.<locals>.<lambda>()>,\n",
       "            {0: array([0.     , 0.32768, 0.32768, 0.     ]),\n",
       "             4: array([ 0.      ,  0.4096  , -0.1     ,  0.262144]),\n",
       "             8: array([ 0.     , -0.1    ,  0.512  ,  0.32768]),\n",
       "             12: array([0., 0., 0., 0.]),\n",
       "             5: array([0., 0., 0., 0.]),\n",
       "             1: array([ 0.262144, -0.1     ,  0.4096  ,  0.      ]),\n",
       "             9: array([ 0.4096,  0.64  ,  0.64  , -0.1   ]),\n",
       "             13: array([-0.1  ,  0.   ,  0.8  ,  0.512]),\n",
       "             14: array([0.64, 0.  , 1.  , 0.64]),\n",
       "             10: array([ 0.512,  0.8  , -0.1  ,  0.512]),\n",
       "             2: array([0.32768, 0.512  , 0.32768, 0.     ]),\n",
       "             6: array([-0.1   ,  0.64  , -0.1   ,  0.4096]),\n",
       "             11: array([0., 0., 0., 0.]),\n",
       "             15: array([0., 0., 0., 0.]),\n",
       "             3: array([ 0.4096, -0.1   ,  0.    ,  0.    ]),\n",
       "             7: array([0., 0., 0., 0.])})"
      ]
     },
     "execution_count": 25,
     "metadata": {},
     "output_type": "execute_result"
    }
   ],
   "source": [
    "Q"
   ]
  },
  {
   "cell_type": "markdown",
   "metadata": {},
   "source": [
    "### Statespace mapped for context"
   ]
  },
  {
   "cell_type": "code",
   "execution_count": 26,
   "metadata": {},
   "outputs": [
    {
     "name": "stdout",
     "output_type": "stream",
     "text": [
      "\n",
      "\u001b[41mS\u001b[0mFFF\n",
      "FHFH\n",
      "FFFH\n",
      "HFFG\n"
     ]
    }
   ],
   "source": [
    "env.reset()\n",
    "env.render()"
   ]
  },
  {
   "cell_type": "markdown",
   "metadata": {},
   "source": [
    "# Process Justification"
   ]
  },
  {
   "cell_type": "markdown",
   "metadata": {},
   "source": [
    "- I began this process by implementing a basic Q-Learning model on the Frozen Lake problem\n",
    "- After the basic implementation, I improved on this model by giving a negative reward to episodes where the agent fell in the hole - by default I set this reward value to be -0.1\n",
    "- The default implementation punished the agent for trying to go into the hole rather than completing the level. I decided to rather than punishing the agent for where it tried to go I would punish it for it actually went\n",
    "    - For example if the agent tried to go right (towards the reward) and instead it went left (towards the hole), the agent should be punished for going to the left not going to the right (it tried to go to the right but it just wasn't successful)\n",
    "    - To accomplish this I developed a function to return the direction the agent actually travelled by giving it the two states (called where_did_you_go())\n",
    "    - One the direction the agent actually went was computed - this was the direction that was updated in the Q Values for that initial state\n",
    "    - The agent would be rewarded on where it actually went rather than where it tried to go\n",
    "- Generally speaking the agent behaves very randomly up until the point it wins its first episode. Once it wins an episode it seems to quickly learn the optimal path and starts winning more frequently quite quickly"
   ]
  }
 ],
 "metadata": {
  "kernelspec": {
   "display_name": "Python 3",
   "language": "python",
   "name": "python3"
  },
  "language_info": {
   "codemirror_mode": {
    "name": "ipython",
    "version": 3
   },
   "file_extension": ".py",
   "mimetype": "text/x-python",
   "name": "python",
   "nbconvert_exporter": "python",
   "pygments_lexer": "ipython3",
   "version": "3.7.2"
  }
 },
 "nbformat": 4,
 "nbformat_minor": 2
}
