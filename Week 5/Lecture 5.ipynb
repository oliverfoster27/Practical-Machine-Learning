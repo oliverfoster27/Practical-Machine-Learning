{
 "cells": [
  {
   "cell_type": "markdown",
   "metadata": {},
   "source": [
    "# Lecture 5"
   ]
  },
  {
   "cell_type": "markdown",
   "metadata": {},
   "source": [
    "- The filters in the CNN are learning what to look for. Filters in the 2D case are looking for elements that look like itself. So you can look at your \"learnt\" filters after training to see what it's trying to pick up.\n",
    "- In a CNN layer you decide as a hyper-parameter how many filters you are applying to your data\n",
    "    - Convolutional layer notation: (Height of filter, Width of filter, Input shape, Number of filters)"
   ]
  },
  {
   "cell_type": "markdown",
   "metadata": {},
   "source": [
    "### CNN\n",
    "    1) Conv\n",
    "    2) Pooling\n",
    "    3) Repeat (optional)\n",
    "    4) Flatten the output at the end\n",
    "    5) Pass it to a fully-connected layer for classification"
   ]
  },
  {
   "cell_type": "markdown",
   "metadata": {},
   "source": [
    "# Notes:\n",
    "- The convolution & pooing layers is trying to featurize the image taking into account that patterns can exist in the data on a vertical and horizontal level (this is why we filter to take into account not only individual pixel values but the values also surrounding a pixel)"
   ]
  },
  {
   "cell_type": "markdown",
   "metadata": {},
   "source": [
    "IDEA:"
   ]
  },
  {
   "cell_type": "markdown",
   "metadata": {},
   "source": [
    "Cluster the linear outputs of the NN so you can define classes of situations that may occur describing the non-linear events"
   ]
  },
  {
   "cell_type": "code",
   "execution_count": null,
   "metadata": {},
   "outputs": [],
   "source": []
  }
 ],
 "metadata": {
  "kernelspec": {
   "display_name": "Python 3",
   "language": "python",
   "name": "python3"
  },
  "language_info": {
   "codemirror_mode": {
    "name": "ipython",
    "version": 3
   },
   "file_extension": ".py",
   "mimetype": "text/x-python",
   "name": "python",
   "nbconvert_exporter": "python",
   "pygments_lexer": "ipython3",
   "version": "3.7.2"
  }
 },
 "nbformat": 4,
 "nbformat_minor": 2
}
