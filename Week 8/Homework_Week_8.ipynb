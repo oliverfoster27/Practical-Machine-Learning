{
 "cells": [
  {
   "cell_type": "markdown",
   "metadata": {
    "colab_type": "text",
    "id": "view-in-github"
   },
   "source": [
    "<a href=\"https://colab.research.google.com/github/oliverfoster27/Practical-Machine-Learning/blob/master/Week%208/Homework_Week_8.ipynb\" target=\"_parent\"><img src=\"https://colab.research.google.com/assets/colab-badge.svg\" alt=\"Open In Colab\"/></a>"
   ]
  },
  {
   "cell_type": "markdown",
   "metadata": {
    "colab_type": "text",
    "id": "putfXPMpF0jR"
   },
   "source": [
    "# Deploy Keras Model to the Cloud\n",
    "1. Download data\n",
    "2. Hot Encode Categorical Columns\n",
    "3. Develop Model (use: ```RMSprop(lr=, rho=, epsilon=, decay=)```)\n",
    "3. Create Storage Bucket (should already exist)\n",
    "4. Authenticate on Google Cloud Platform\n",
    "5. Deploy your model using the ```gcloud``` tool"
   ]
  },
  {
   "cell_type": "markdown",
   "metadata": {
    "colab_type": "text",
    "id": "zmrM3kybHDyd"
   },
   "source": [
    "### Download Data"
   ]
  },
  {
   "cell_type": "code",
   "execution_count": 1,
   "metadata": {
    "colab": {
     "base_uri": "https://localhost:8080/",
     "height": 204
    },
    "colab_type": "code",
    "id": "8NDi_3HKF1HX",
    "outputId": "ee82f664-2d16-4e7d-a748-8d9ce90e75ab"
   },
   "outputs": [
    {
     "name": "stdout",
     "output_type": "stream",
     "text": [
      "--2019-05-03 12:07:16--  https://storage.googleapis.com/nicksdemobucket/bank.csv\n",
      "Resolving storage.googleapis.com (storage.googleapis.com)... 74.125.124.128, 2607:f8b0:4001:c03::80\n",
      "Connecting to storage.googleapis.com (storage.googleapis.com)|74.125.124.128|:443... connected.\n",
      "HTTP request sent, awaiting response... 200 OK\n",
      "Length: 4610348 (4.4M) [application/octet-stream]\n",
      "Saving to: ‘bank.csv’\n",
      "\n",
      "bank.csv            100%[===================>]   4.40M  --.-KB/s    in 0.08s   \n",
      "\n",
      "2019-05-03 12:07:21 (57.1 MB/s) - ‘bank.csv’ saved [4610348/4610348]\n",
      "\n"
     ]
    }
   ],
   "source": [
    "!wget https://storage.googleapis.com/nicksdemobucket/bank.csv"
   ]
  },
  {
   "cell_type": "code",
   "execution_count": 16,
   "metadata": {
    "colab": {
     "base_uri": "https://localhost:8080/",
     "height": 204
    },
    "colab_type": "code",
    "id": "zr6x0ZPu8pPl",
    "outputId": "ff8d70f8-f10e-414d-ded7-19dc1e825daf"
   },
   "outputs": [
    {
     "data": {
      "text/html": [
       "<div>\n",
       "<style scoped>\n",
       "    .dataframe tbody tr th:only-of-type {\n",
       "        vertical-align: middle;\n",
       "    }\n",
       "\n",
       "    .dataframe tbody tr th {\n",
       "        vertical-align: top;\n",
       "    }\n",
       "\n",
       "    .dataframe thead th {\n",
       "        text-align: right;\n",
       "    }\n",
       "</style>\n",
       "<table border=\"1\" class=\"dataframe\">\n",
       "  <thead>\n",
       "    <tr style=\"text-align: right;\">\n",
       "      <th></th>\n",
       "      <th>age</th>\n",
       "      <th>job</th>\n",
       "      <th>marital</th>\n",
       "      <th>education</th>\n",
       "      <th>default</th>\n",
       "      <th>balance</th>\n",
       "      <th>housing</th>\n",
       "      <th>loan</th>\n",
       "      <th>contact</th>\n",
       "      <th>day</th>\n",
       "      <th>month</th>\n",
       "      <th>duration</th>\n",
       "      <th>campaign</th>\n",
       "      <th>pdays</th>\n",
       "      <th>previous</th>\n",
       "      <th>poutcome</th>\n",
       "      <th>y</th>\n",
       "    </tr>\n",
       "  </thead>\n",
       "  <tbody>\n",
       "    <tr>\n",
       "      <th>0</th>\n",
       "      <td>58</td>\n",
       "      <td>management</td>\n",
       "      <td>married</td>\n",
       "      <td>tertiary</td>\n",
       "      <td>no</td>\n",
       "      <td>2143</td>\n",
       "      <td>yes</td>\n",
       "      <td>no</td>\n",
       "      <td>unknown</td>\n",
       "      <td>5</td>\n",
       "      <td>may</td>\n",
       "      <td>261</td>\n",
       "      <td>1</td>\n",
       "      <td>-1</td>\n",
       "      <td>0</td>\n",
       "      <td>unknown</td>\n",
       "      <td>no</td>\n",
       "    </tr>\n",
       "    <tr>\n",
       "      <th>1</th>\n",
       "      <td>44</td>\n",
       "      <td>technician</td>\n",
       "      <td>single</td>\n",
       "      <td>secondary</td>\n",
       "      <td>no</td>\n",
       "      <td>29</td>\n",
       "      <td>yes</td>\n",
       "      <td>no</td>\n",
       "      <td>unknown</td>\n",
       "      <td>5</td>\n",
       "      <td>may</td>\n",
       "      <td>151</td>\n",
       "      <td>1</td>\n",
       "      <td>-1</td>\n",
       "      <td>0</td>\n",
       "      <td>unknown</td>\n",
       "      <td>no</td>\n",
       "    </tr>\n",
       "    <tr>\n",
       "      <th>2</th>\n",
       "      <td>33</td>\n",
       "      <td>entrepreneur</td>\n",
       "      <td>married</td>\n",
       "      <td>secondary</td>\n",
       "      <td>no</td>\n",
       "      <td>2</td>\n",
       "      <td>yes</td>\n",
       "      <td>yes</td>\n",
       "      <td>unknown</td>\n",
       "      <td>5</td>\n",
       "      <td>may</td>\n",
       "      <td>76</td>\n",
       "      <td>1</td>\n",
       "      <td>-1</td>\n",
       "      <td>0</td>\n",
       "      <td>unknown</td>\n",
       "      <td>no</td>\n",
       "    </tr>\n",
       "    <tr>\n",
       "      <th>3</th>\n",
       "      <td>47</td>\n",
       "      <td>blue-collar</td>\n",
       "      <td>married</td>\n",
       "      <td>unknown</td>\n",
       "      <td>no</td>\n",
       "      <td>1506</td>\n",
       "      <td>yes</td>\n",
       "      <td>no</td>\n",
       "      <td>unknown</td>\n",
       "      <td>5</td>\n",
       "      <td>may</td>\n",
       "      <td>92</td>\n",
       "      <td>1</td>\n",
       "      <td>-1</td>\n",
       "      <td>0</td>\n",
       "      <td>unknown</td>\n",
       "      <td>no</td>\n",
       "    </tr>\n",
       "    <tr>\n",
       "      <th>4</th>\n",
       "      <td>33</td>\n",
       "      <td>unknown</td>\n",
       "      <td>single</td>\n",
       "      <td>unknown</td>\n",
       "      <td>no</td>\n",
       "      <td>1</td>\n",
       "      <td>no</td>\n",
       "      <td>no</td>\n",
       "      <td>unknown</td>\n",
       "      <td>5</td>\n",
       "      <td>may</td>\n",
       "      <td>198</td>\n",
       "      <td>1</td>\n",
       "      <td>-1</td>\n",
       "      <td>0</td>\n",
       "      <td>unknown</td>\n",
       "      <td>no</td>\n",
       "    </tr>\n",
       "  </tbody>\n",
       "</table>\n",
       "</div>"
      ],
      "text/plain": [
       "   age           job  marital  education default  balance housing loan  \\\n",
       "0   58    management  married   tertiary      no     2143     yes   no   \n",
       "1   44    technician   single  secondary      no       29     yes   no   \n",
       "2   33  entrepreneur  married  secondary      no        2     yes  yes   \n",
       "3   47   blue-collar  married    unknown      no     1506     yes   no   \n",
       "4   33       unknown   single    unknown      no        1      no   no   \n",
       "\n",
       "   contact  day month  duration  campaign  pdays  previous poutcome   y  \n",
       "0  unknown    5   may       261         1     -1         0  unknown  no  \n",
       "1  unknown    5   may       151         1     -1         0  unknown  no  \n",
       "2  unknown    5   may        76         1     -1         0  unknown  no  \n",
       "3  unknown    5   may        92         1     -1         0  unknown  no  \n",
       "4  unknown    5   may       198         1     -1         0  unknown  no  "
      ]
     },
     "execution_count": 16,
     "metadata": {
      "tags": []
     },
     "output_type": "execute_result"
    }
   ],
   "source": [
    "import numpy as np\n",
    "import pandas as pd\n",
    "import matplotlib.pyplot as plt\n",
    "%matplotlib inline\n",
    "df = pd.read_csv('bank.csv', sep=\";\")\n",
    "df.head()"
   ]
  },
  {
   "cell_type": "code",
   "execution_count": 3,
   "metadata": {
    "colab": {
     "base_uri": "https://localhost:8080/",
     "height": 297
    },
    "colab_type": "code",
    "id": "gaP2-jzTDtrL",
    "outputId": "e2053caf-02c7-42a4-bbaa-c14c4fcb8f98"
   },
   "outputs": [
    {
     "data": {
      "text/html": [
       "<div>\n",
       "<style scoped>\n",
       "    .dataframe tbody tr th:only-of-type {\n",
       "        vertical-align: middle;\n",
       "    }\n",
       "\n",
       "    .dataframe tbody tr th {\n",
       "        vertical-align: top;\n",
       "    }\n",
       "\n",
       "    .dataframe thead th {\n",
       "        text-align: right;\n",
       "    }\n",
       "</style>\n",
       "<table border=\"1\" class=\"dataframe\">\n",
       "  <thead>\n",
       "    <tr style=\"text-align: right;\">\n",
       "      <th></th>\n",
       "      <th>age</th>\n",
       "      <th>balance</th>\n",
       "      <th>day</th>\n",
       "      <th>duration</th>\n",
       "      <th>campaign</th>\n",
       "      <th>pdays</th>\n",
       "      <th>previous</th>\n",
       "    </tr>\n",
       "  </thead>\n",
       "  <tbody>\n",
       "    <tr>\n",
       "      <th>count</th>\n",
       "      <td>45211.000000</td>\n",
       "      <td>45211.000000</td>\n",
       "      <td>45211.000000</td>\n",
       "      <td>45211.000000</td>\n",
       "      <td>45211.000000</td>\n",
       "      <td>45211.000000</td>\n",
       "      <td>45211.000000</td>\n",
       "    </tr>\n",
       "    <tr>\n",
       "      <th>mean</th>\n",
       "      <td>40.936210</td>\n",
       "      <td>1362.272058</td>\n",
       "      <td>15.806419</td>\n",
       "      <td>258.163080</td>\n",
       "      <td>2.763841</td>\n",
       "      <td>40.197828</td>\n",
       "      <td>0.580323</td>\n",
       "    </tr>\n",
       "    <tr>\n",
       "      <th>std</th>\n",
       "      <td>10.618762</td>\n",
       "      <td>3044.765829</td>\n",
       "      <td>8.322476</td>\n",
       "      <td>257.527812</td>\n",
       "      <td>3.098021</td>\n",
       "      <td>100.128746</td>\n",
       "      <td>2.303441</td>\n",
       "    </tr>\n",
       "    <tr>\n",
       "      <th>min</th>\n",
       "      <td>18.000000</td>\n",
       "      <td>-8019.000000</td>\n",
       "      <td>1.000000</td>\n",
       "      <td>0.000000</td>\n",
       "      <td>1.000000</td>\n",
       "      <td>-1.000000</td>\n",
       "      <td>0.000000</td>\n",
       "    </tr>\n",
       "    <tr>\n",
       "      <th>25%</th>\n",
       "      <td>33.000000</td>\n",
       "      <td>72.000000</td>\n",
       "      <td>8.000000</td>\n",
       "      <td>103.000000</td>\n",
       "      <td>1.000000</td>\n",
       "      <td>-1.000000</td>\n",
       "      <td>0.000000</td>\n",
       "    </tr>\n",
       "    <tr>\n",
       "      <th>50%</th>\n",
       "      <td>39.000000</td>\n",
       "      <td>448.000000</td>\n",
       "      <td>16.000000</td>\n",
       "      <td>180.000000</td>\n",
       "      <td>2.000000</td>\n",
       "      <td>-1.000000</td>\n",
       "      <td>0.000000</td>\n",
       "    </tr>\n",
       "    <tr>\n",
       "      <th>75%</th>\n",
       "      <td>48.000000</td>\n",
       "      <td>1428.000000</td>\n",
       "      <td>21.000000</td>\n",
       "      <td>319.000000</td>\n",
       "      <td>3.000000</td>\n",
       "      <td>-1.000000</td>\n",
       "      <td>0.000000</td>\n",
       "    </tr>\n",
       "    <tr>\n",
       "      <th>max</th>\n",
       "      <td>95.000000</td>\n",
       "      <td>102127.000000</td>\n",
       "      <td>31.000000</td>\n",
       "      <td>4918.000000</td>\n",
       "      <td>63.000000</td>\n",
       "      <td>871.000000</td>\n",
       "      <td>275.000000</td>\n",
       "    </tr>\n",
       "  </tbody>\n",
       "</table>\n",
       "</div>"
      ],
      "text/plain": [
       "                age        balance           day      duration      campaign  \\\n",
       "count  45211.000000   45211.000000  45211.000000  45211.000000  45211.000000   \n",
       "mean      40.936210    1362.272058     15.806419    258.163080      2.763841   \n",
       "std       10.618762    3044.765829      8.322476    257.527812      3.098021   \n",
       "min       18.000000   -8019.000000      1.000000      0.000000      1.000000   \n",
       "25%       33.000000      72.000000      8.000000    103.000000      1.000000   \n",
       "50%       39.000000     448.000000     16.000000    180.000000      2.000000   \n",
       "75%       48.000000    1428.000000     21.000000    319.000000      3.000000   \n",
       "max       95.000000  102127.000000     31.000000   4918.000000     63.000000   \n",
       "\n",
       "              pdays      previous  \n",
       "count  45211.000000  45211.000000  \n",
       "mean      40.197828      0.580323  \n",
       "std      100.128746      2.303441  \n",
       "min       -1.000000      0.000000  \n",
       "25%       -1.000000      0.000000  \n",
       "50%       -1.000000      0.000000  \n",
       "75%       -1.000000      0.000000  \n",
       "max      871.000000    275.000000  "
      ]
     },
     "execution_count": 3,
     "metadata": {
      "tags": []
     },
     "output_type": "execute_result"
    }
   ],
   "source": [
    "df.describe()"
   ]
  },
  {
   "cell_type": "markdown",
   "metadata": {
    "colab_type": "text",
    "id": "RewodRHUHGjx"
   },
   "source": [
    "### Hot Encode Categorical Columns"
   ]
  },
  {
   "cell_type": "code",
   "execution_count": 4,
   "metadata": {
    "colab": {
     "base_uri": "https://localhost:8080/",
     "height": 204
    },
    "colab_type": "code",
    "id": "fnb1qpaxFDOW",
    "outputId": "950164fb-220f-49c9-9688-5e4a22e237cf"
   },
   "outputs": [
    {
     "data": {
      "text/html": [
       "<div>\n",
       "<style scoped>\n",
       "    .dataframe tbody tr th:only-of-type {\n",
       "        vertical-align: middle;\n",
       "    }\n",
       "\n",
       "    .dataframe tbody tr th {\n",
       "        vertical-align: top;\n",
       "    }\n",
       "\n",
       "    .dataframe thead th {\n",
       "        text-align: right;\n",
       "    }\n",
       "</style>\n",
       "<table border=\"1\" class=\"dataframe\">\n",
       "  <thead>\n",
       "    <tr style=\"text-align: right;\">\n",
       "      <th></th>\n",
       "      <th>age</th>\n",
       "      <th>job</th>\n",
       "      <th>marital</th>\n",
       "      <th>education</th>\n",
       "      <th>default</th>\n",
       "      <th>balance</th>\n",
       "      <th>housing</th>\n",
       "      <th>loan</th>\n",
       "      <th>contact</th>\n",
       "      <th>day</th>\n",
       "      <th>month</th>\n",
       "      <th>duration</th>\n",
       "      <th>campaign</th>\n",
       "      <th>pdays</th>\n",
       "      <th>previous</th>\n",
       "      <th>poutcome</th>\n",
       "      <th>y</th>\n",
       "    </tr>\n",
       "  </thead>\n",
       "  <tbody>\n",
       "    <tr>\n",
       "      <th>0</th>\n",
       "      <td>58</td>\n",
       "      <td>management</td>\n",
       "      <td>married</td>\n",
       "      <td>tertiary</td>\n",
       "      <td>no</td>\n",
       "      <td>2143</td>\n",
       "      <td>yes</td>\n",
       "      <td>no</td>\n",
       "      <td>unknown</td>\n",
       "      <td>5</td>\n",
       "      <td>may</td>\n",
       "      <td>261</td>\n",
       "      <td>1</td>\n",
       "      <td>-1</td>\n",
       "      <td>0</td>\n",
       "      <td>unknown</td>\n",
       "      <td>0</td>\n",
       "    </tr>\n",
       "    <tr>\n",
       "      <th>1</th>\n",
       "      <td>44</td>\n",
       "      <td>technician</td>\n",
       "      <td>single</td>\n",
       "      <td>secondary</td>\n",
       "      <td>no</td>\n",
       "      <td>29</td>\n",
       "      <td>yes</td>\n",
       "      <td>no</td>\n",
       "      <td>unknown</td>\n",
       "      <td>5</td>\n",
       "      <td>may</td>\n",
       "      <td>151</td>\n",
       "      <td>1</td>\n",
       "      <td>-1</td>\n",
       "      <td>0</td>\n",
       "      <td>unknown</td>\n",
       "      <td>0</td>\n",
       "    </tr>\n",
       "    <tr>\n",
       "      <th>2</th>\n",
       "      <td>33</td>\n",
       "      <td>entrepreneur</td>\n",
       "      <td>married</td>\n",
       "      <td>secondary</td>\n",
       "      <td>no</td>\n",
       "      <td>2</td>\n",
       "      <td>yes</td>\n",
       "      <td>yes</td>\n",
       "      <td>unknown</td>\n",
       "      <td>5</td>\n",
       "      <td>may</td>\n",
       "      <td>76</td>\n",
       "      <td>1</td>\n",
       "      <td>-1</td>\n",
       "      <td>0</td>\n",
       "      <td>unknown</td>\n",
       "      <td>0</td>\n",
       "    </tr>\n",
       "    <tr>\n",
       "      <th>3</th>\n",
       "      <td>47</td>\n",
       "      <td>blue-collar</td>\n",
       "      <td>married</td>\n",
       "      <td>unknown</td>\n",
       "      <td>no</td>\n",
       "      <td>1506</td>\n",
       "      <td>yes</td>\n",
       "      <td>no</td>\n",
       "      <td>unknown</td>\n",
       "      <td>5</td>\n",
       "      <td>may</td>\n",
       "      <td>92</td>\n",
       "      <td>1</td>\n",
       "      <td>-1</td>\n",
       "      <td>0</td>\n",
       "      <td>unknown</td>\n",
       "      <td>0</td>\n",
       "    </tr>\n",
       "    <tr>\n",
       "      <th>4</th>\n",
       "      <td>33</td>\n",
       "      <td>unknown</td>\n",
       "      <td>single</td>\n",
       "      <td>unknown</td>\n",
       "      <td>no</td>\n",
       "      <td>1</td>\n",
       "      <td>no</td>\n",
       "      <td>no</td>\n",
       "      <td>unknown</td>\n",
       "      <td>5</td>\n",
       "      <td>may</td>\n",
       "      <td>198</td>\n",
       "      <td>1</td>\n",
       "      <td>-1</td>\n",
       "      <td>0</td>\n",
       "      <td>unknown</td>\n",
       "      <td>0</td>\n",
       "    </tr>\n",
       "  </tbody>\n",
       "</table>\n",
       "</div>"
      ],
      "text/plain": [
       "   age           job  marital  education default  balance housing loan  \\\n",
       "0   58    management  married   tertiary      no     2143     yes   no   \n",
       "1   44    technician   single  secondary      no       29     yes   no   \n",
       "2   33  entrepreneur  married  secondary      no        2     yes  yes   \n",
       "3   47   blue-collar  married    unknown      no     1506     yes   no   \n",
       "4   33       unknown   single    unknown      no        1      no   no   \n",
       "\n",
       "   contact  day month  duration  campaign  pdays  previous poutcome  y  \n",
       "0  unknown    5   may       261         1     -1         0  unknown  0  \n",
       "1  unknown    5   may       151         1     -1         0  unknown  0  \n",
       "2  unknown    5   may        76         1     -1         0  unknown  0  \n",
       "3  unknown    5   may        92         1     -1         0  unknown  0  \n",
       "4  unknown    5   may       198         1     -1         0  unknown  0  "
      ]
     },
     "execution_count": 4,
     "metadata": {
      "tags": []
     },
     "output_type": "execute_result"
    }
   ],
   "source": [
    "df.loc[df['y'] == 'no', 'y'] = 0\n",
    "df.loc[df['y'] == 'yes', 'y'] = 1\n",
    "df.head()"
   ]
  },
  {
   "cell_type": "code",
   "execution_count": 5,
   "metadata": {
    "colab": {
     "base_uri": "https://localhost:8080/",
     "height": 68
    },
    "colab_type": "code",
    "id": "0FgX6Gk8EAZ3",
    "outputId": "04503b02-6e39-43f9-f6a8-16f8c349f690"
   },
   "outputs": [
    {
     "name": "stdout",
     "output_type": "stream",
     "text": [
      "Index(['job', 'marital', 'education', 'default', 'housing', 'loan', 'contact',\n",
      "       'month', 'poutcome'],\n",
      "      dtype='object')\n"
     ]
    }
   ],
   "source": [
    "# Get all categorical columns\n",
    "categorical = df.select_dtypes(include='object').columns\n",
    "print(categorical)"
   ]
  },
  {
   "cell_type": "code",
   "execution_count": 6,
   "metadata": {
    "colab": {
     "base_uri": "https://localhost:8080/",
     "height": 270
    },
    "colab_type": "code",
    "id": "Mxu-8ZFsAmUc",
    "outputId": "c52f746c-2691-4d92-b820-567303e34ed9"
   },
   "outputs": [
    {
     "data": {
      "text/html": [
       "<div>\n",
       "<style scoped>\n",
       "    .dataframe tbody tr th:only-of-type {\n",
       "        vertical-align: middle;\n",
       "    }\n",
       "\n",
       "    .dataframe tbody tr th {\n",
       "        vertical-align: top;\n",
       "    }\n",
       "\n",
       "    .dataframe thead th {\n",
       "        text-align: right;\n",
       "    }\n",
       "</style>\n",
       "<table border=\"1\" class=\"dataframe\">\n",
       "  <thead>\n",
       "    <tr style=\"text-align: right;\">\n",
       "      <th></th>\n",
       "      <th>age</th>\n",
       "      <th>balance</th>\n",
       "      <th>day</th>\n",
       "      <th>duration</th>\n",
       "      <th>campaign</th>\n",
       "      <th>pdays</th>\n",
       "      <th>previous</th>\n",
       "      <th>y</th>\n",
       "      <th>job_admin.</th>\n",
       "      <th>job_blue-collar</th>\n",
       "      <th>...</th>\n",
       "      <th>month_jun</th>\n",
       "      <th>month_mar</th>\n",
       "      <th>month_may</th>\n",
       "      <th>month_nov</th>\n",
       "      <th>month_oct</th>\n",
       "      <th>month_sep</th>\n",
       "      <th>poutcome_failure</th>\n",
       "      <th>poutcome_other</th>\n",
       "      <th>poutcome_success</th>\n",
       "      <th>poutcome_unknown</th>\n",
       "    </tr>\n",
       "  </thead>\n",
       "  <tbody>\n",
       "    <tr>\n",
       "      <th>0</th>\n",
       "      <td>58</td>\n",
       "      <td>2143</td>\n",
       "      <td>5</td>\n",
       "      <td>261</td>\n",
       "      <td>1</td>\n",
       "      <td>-1</td>\n",
       "      <td>0</td>\n",
       "      <td>0</td>\n",
       "      <td>0</td>\n",
       "      <td>0</td>\n",
       "      <td>...</td>\n",
       "      <td>0</td>\n",
       "      <td>0</td>\n",
       "      <td>1</td>\n",
       "      <td>0</td>\n",
       "      <td>0</td>\n",
       "      <td>0</td>\n",
       "      <td>0</td>\n",
       "      <td>0</td>\n",
       "      <td>0</td>\n",
       "      <td>1</td>\n",
       "    </tr>\n",
       "    <tr>\n",
       "      <th>1</th>\n",
       "      <td>44</td>\n",
       "      <td>29</td>\n",
       "      <td>5</td>\n",
       "      <td>151</td>\n",
       "      <td>1</td>\n",
       "      <td>-1</td>\n",
       "      <td>0</td>\n",
       "      <td>0</td>\n",
       "      <td>0</td>\n",
       "      <td>0</td>\n",
       "      <td>...</td>\n",
       "      <td>0</td>\n",
       "      <td>0</td>\n",
       "      <td>1</td>\n",
       "      <td>0</td>\n",
       "      <td>0</td>\n",
       "      <td>0</td>\n",
       "      <td>0</td>\n",
       "      <td>0</td>\n",
       "      <td>0</td>\n",
       "      <td>1</td>\n",
       "    </tr>\n",
       "    <tr>\n",
       "      <th>2</th>\n",
       "      <td>33</td>\n",
       "      <td>2</td>\n",
       "      <td>5</td>\n",
       "      <td>76</td>\n",
       "      <td>1</td>\n",
       "      <td>-1</td>\n",
       "      <td>0</td>\n",
       "      <td>0</td>\n",
       "      <td>0</td>\n",
       "      <td>0</td>\n",
       "      <td>...</td>\n",
       "      <td>0</td>\n",
       "      <td>0</td>\n",
       "      <td>1</td>\n",
       "      <td>0</td>\n",
       "      <td>0</td>\n",
       "      <td>0</td>\n",
       "      <td>0</td>\n",
       "      <td>0</td>\n",
       "      <td>0</td>\n",
       "      <td>1</td>\n",
       "    </tr>\n",
       "    <tr>\n",
       "      <th>3</th>\n",
       "      <td>47</td>\n",
       "      <td>1506</td>\n",
       "      <td>5</td>\n",
       "      <td>92</td>\n",
       "      <td>1</td>\n",
       "      <td>-1</td>\n",
       "      <td>0</td>\n",
       "      <td>0</td>\n",
       "      <td>0</td>\n",
       "      <td>1</td>\n",
       "      <td>...</td>\n",
       "      <td>0</td>\n",
       "      <td>0</td>\n",
       "      <td>1</td>\n",
       "      <td>0</td>\n",
       "      <td>0</td>\n",
       "      <td>0</td>\n",
       "      <td>0</td>\n",
       "      <td>0</td>\n",
       "      <td>0</td>\n",
       "      <td>1</td>\n",
       "    </tr>\n",
       "    <tr>\n",
       "      <th>4</th>\n",
       "      <td>33</td>\n",
       "      <td>1</td>\n",
       "      <td>5</td>\n",
       "      <td>198</td>\n",
       "      <td>1</td>\n",
       "      <td>-1</td>\n",
       "      <td>0</td>\n",
       "      <td>0</td>\n",
       "      <td>0</td>\n",
       "      <td>0</td>\n",
       "      <td>...</td>\n",
       "      <td>0</td>\n",
       "      <td>0</td>\n",
       "      <td>1</td>\n",
       "      <td>0</td>\n",
       "      <td>0</td>\n",
       "      <td>0</td>\n",
       "      <td>0</td>\n",
       "      <td>0</td>\n",
       "      <td>0</td>\n",
       "      <td>1</td>\n",
       "    </tr>\n",
       "  </tbody>\n",
       "</table>\n",
       "<p>5 rows × 52 columns</p>\n",
       "</div>"
      ],
      "text/plain": [
       "   age  balance  day  duration  campaign  pdays  previous  y  job_admin.  \\\n",
       "0   58     2143    5       261         1     -1         0  0           0   \n",
       "1   44       29    5       151         1     -1         0  0           0   \n",
       "2   33        2    5        76         1     -1         0  0           0   \n",
       "3   47     1506    5        92         1     -1         0  0           0   \n",
       "4   33        1    5       198         1     -1         0  0           0   \n",
       "\n",
       "   job_blue-collar  ...  month_jun  month_mar  month_may  month_nov  \\\n",
       "0                0  ...          0          0          1          0   \n",
       "1                0  ...          0          0          1          0   \n",
       "2                0  ...          0          0          1          0   \n",
       "3                1  ...          0          0          1          0   \n",
       "4                0  ...          0          0          1          0   \n",
       "\n",
       "   month_oct  month_sep  poutcome_failure  poutcome_other  poutcome_success  \\\n",
       "0          0          0                 0               0                 0   \n",
       "1          0          0                 0               0                 0   \n",
       "2          0          0                 0               0                 0   \n",
       "3          0          0                 0               0                 0   \n",
       "4          0          0                 0               0                 0   \n",
       "\n",
       "   poutcome_unknown  \n",
       "0                 1  \n",
       "1                 1  \n",
       "2                 1  \n",
       "3                 1  \n",
       "4                 1  \n",
       "\n",
       "[5 rows x 52 columns]"
      ]
     },
     "execution_count": 6,
     "metadata": {
      "tags": []
     },
     "output_type": "execute_result"
    }
   ],
   "source": [
    "# Hot encode all categorical columns\n",
    "for i in categorical:\n",
    "  new_cols = pd.get_dummies(df[i], prefix=i)\n",
    "  df = df.drop(i, axis=1)\n",
    "  df = df.join(new_cols)\n",
    "  \n",
    "df.head()"
   ]
  },
  {
   "cell_type": "code",
   "execution_count": 7,
   "metadata": {
    "colab": {
     "base_uri": "https://localhost:8080/",
     "height": 102
    },
    "colab_type": "code",
    "id": "TLE-YdGKJMbL",
    "outputId": "c05bee40-1873-4a8c-b842-100fe2d5c1d0"
   },
   "outputs": [
    {
     "name": "stderr",
     "output_type": "stream",
     "text": [
      "/usr/local/lib/python3.6/dist-packages/sklearn/preprocessing/data.py:334: DataConversionWarning: Data with input dtype uint8, int64 were all converted to float64 by MinMaxScaler.\n",
      "  return self.partial_fit(X, y)\n",
      "/usr/local/lib/python3.6/dist-packages/sklearn/preprocessing/data.py:334: DataConversionWarning: Data with input dtype uint8, int64 were all converted to float64 by MinMaxScaler.\n",
      "  return self.partial_fit(X, y)\n"
     ]
    },
    {
     "data": {
      "text/plain": [
       "((40689, 51), (40689, 1), (4522, 51), (4522, 1))"
      ]
     },
     "execution_count": 7,
     "metadata": {
      "tags": []
     },
     "output_type": "execute_result"
    }
   ],
   "source": [
    "from sklearn.model_selection import train_test_split\n",
    "from sklearn import preprocessing\n",
    "min_max_scaler = preprocessing.MinMaxScaler()\n",
    "\n",
    "train, test = train_test_split(df, test_size=0.1)\n",
    "\n",
    "X_train = min_max_scaler.fit_transform(train.drop(['y'], axis=1))\n",
    "y_train = train[['y']].values\n",
    "\n",
    "X_test = min_max_scaler.fit_transform(test.drop(['y'], axis=1))\n",
    "y_test = test[['y']].values\n",
    "\n",
    "X_train.shape, y_train.shape, X_test.shape, y_test.shape"
   ]
  },
  {
   "cell_type": "markdown",
   "metadata": {
    "colab_type": "text",
    "id": "fZHgH04CHNiV"
   },
   "source": [
    "### Develop Model\n",
    "* Use ```RMSprop(lr=, rho=, epsilon=, decay=)```\n",
    "* Plot accuracy and loss over time"
   ]
  },
  {
   "cell_type": "code",
   "execution_count": 0,
   "metadata": {
    "colab": {},
    "colab_type": "code",
    "id": "4TaT51LMD2YH"
   },
   "outputs": [],
   "source": [
    "from tensorflow.keras.models import Sequential\n",
    "from tensorflow.keras.layers import Dense, BatchNormalization, Dropout\n",
    "from tensorflow.train import RMSPropOptimizer\n",
    "from tensorflow import keras\n",
    "import tensorflow as tf"
   ]
  },
  {
   "cell_type": "code",
   "execution_count": 59,
   "metadata": {
    "colab": {
     "base_uri": "https://localhost:8080/",
     "height": 5134
    },
    "colab_type": "code",
    "id": "56v5Mvj-JQ9Y",
    "outputId": "e333dae9-6b5e-4eb5-bd10-097bbb15fb61"
   },
   "outputs": [
    {
     "name": "stdout",
     "output_type": "stream",
     "text": [
      "Train on 32551 samples, validate on 8138 samples\n",
      "Epoch 1/150\n",
      "32551/32551 [==============================] - 6s 179us/sample - loss: 0.9205 - acc: 0.4899 - val_loss: 0.8027 - val_acc: 0.5240\n",
      "Epoch 2/150\n",
      "32551/32551 [==============================] - 6s 178us/sample - loss: 0.8103 - acc: 0.5382 - val_loss: 0.7173 - val_acc: 0.5823\n",
      "Epoch 3/150\n",
      "32551/32551 [==============================] - 6s 170us/sample - loss: 0.7464 - acc: 0.5838 - val_loss: 0.6583 - val_acc: 0.6374\n",
      "Epoch 4/150\n",
      "32551/32551 [==============================] - 5s 155us/sample - loss: 0.6948 - acc: 0.6168 - val_loss: 0.6138 - val_acc: 0.6822\n",
      "Epoch 5/150\n",
      "32551/32551 [==============================] - 5s 153us/sample - loss: 0.6533 - acc: 0.6499 - val_loss: 0.5744 - val_acc: 0.7293\n",
      "Epoch 6/150\n",
      "32551/32551 [==============================] - 5s 154us/sample - loss: 0.6153 - acc: 0.6778 - val_loss: 0.5383 - val_acc: 0.7793\n",
      "Epoch 7/150\n",
      "32551/32551 [==============================] - 5s 153us/sample - loss: 0.5869 - acc: 0.7019 - val_loss: 0.5108 - val_acc: 0.8084\n",
      "Epoch 8/150\n",
      "32551/32551 [==============================] - 5s 153us/sample - loss: 0.5563 - acc: 0.7303 - val_loss: 0.4847 - val_acc: 0.8309\n",
      "Epoch 9/150\n",
      "32551/32551 [==============================] - 5s 154us/sample - loss: 0.5274 - acc: 0.7544 - val_loss: 0.4540 - val_acc: 0.8493\n",
      "Epoch 10/150\n",
      "32551/32551 [==============================] - 5s 155us/sample - loss: 0.5039 - acc: 0.7763 - val_loss: 0.4399 - val_acc: 0.8576\n",
      "Epoch 11/150\n",
      "32551/32551 [==============================] - 5s 154us/sample - loss: 0.4832 - acc: 0.7935 - val_loss: 0.4114 - val_acc: 0.8701\n",
      "Epoch 12/150\n",
      "32551/32551 [==============================] - 5s 154us/sample - loss: 0.4625 - acc: 0.8092 - val_loss: 0.3915 - val_acc: 0.8772\n",
      "Epoch 13/150\n",
      "32551/32551 [==============================] - 5s 153us/sample - loss: 0.4456 - acc: 0.8215 - val_loss: 0.3762 - val_acc: 0.8822\n",
      "Epoch 14/150\n",
      "32551/32551 [==============================] - 5s 154us/sample - loss: 0.4307 - acc: 0.8311 - val_loss: 0.3603 - val_acc: 0.8887\n",
      "Epoch 15/150\n",
      "32551/32551 [==============================] - 5s 153us/sample - loss: 0.4129 - acc: 0.8460 - val_loss: 0.3480 - val_acc: 0.8927\n",
      "Epoch 16/150\n",
      "32551/32551 [==============================] - 5s 154us/sample - loss: 0.4048 - acc: 0.8481 - val_loss: 0.3364 - val_acc: 0.8944\n",
      "Epoch 17/150\n",
      "32551/32551 [==============================] - 5s 161us/sample - loss: 0.3908 - acc: 0.8578 - val_loss: 0.3277 - val_acc: 0.8962\n",
      "Epoch 18/150\n",
      "32551/32551 [==============================] - 6s 179us/sample - loss: 0.3837 - acc: 0.8606 - val_loss: 0.3185 - val_acc: 0.8976\n",
      "Epoch 19/150\n",
      "32551/32551 [==============================] - 5s 163us/sample - loss: 0.3757 - acc: 0.8651 - val_loss: 0.3127 - val_acc: 0.8979\n",
      "Epoch 20/150\n",
      "32551/32551 [==============================] - 5s 154us/sample - loss: 0.3695 - acc: 0.8677 - val_loss: 0.3057 - val_acc: 0.8989\n",
      "Epoch 21/150\n",
      "32551/32551 [==============================] - 5s 154us/sample - loss: 0.3651 - acc: 0.8713 - val_loss: 0.3000 - val_acc: 0.8991\n",
      "Epoch 22/150\n",
      "32551/32551 [==============================] - 5s 154us/sample - loss: 0.3585 - acc: 0.8721 - val_loss: 0.2964 - val_acc: 0.8986\n",
      "Epoch 23/150\n",
      "32551/32551 [==============================] - 5s 153us/sample - loss: 0.3537 - acc: 0.8755 - val_loss: 0.2928 - val_acc: 0.8994\n",
      "Epoch 24/150\n",
      "32551/32551 [==============================] - 5s 155us/sample - loss: 0.3512 - acc: 0.8762 - val_loss: 0.2896 - val_acc: 0.8991\n",
      "Epoch 25/150\n",
      "32551/32551 [==============================] - 5s 154us/sample - loss: 0.3470 - acc: 0.8779 - val_loss: 0.2877 - val_acc: 0.8999\n",
      "Epoch 26/150\n",
      "32551/32551 [==============================] - 5s 155us/sample - loss: 0.3455 - acc: 0.8779 - val_loss: 0.2859 - val_acc: 0.8996\n",
      "Epoch 27/150\n",
      "32551/32551 [==============================] - 6s 171us/sample - loss: 0.3411 - acc: 0.8786 - val_loss: 0.2842 - val_acc: 0.8992\n",
      "Epoch 28/150\n",
      "32551/32551 [==============================] - 6s 190us/sample - loss: 0.3428 - acc: 0.8798 - val_loss: 0.2821 - val_acc: 0.8994\n",
      "Epoch 29/150\n",
      "32551/32551 [==============================] - 5s 160us/sample - loss: 0.3379 - acc: 0.8807 - val_loss: 0.2813 - val_acc: 0.8996\n",
      "Epoch 30/150\n",
      "32551/32551 [==============================] - 5s 155us/sample - loss: 0.3397 - acc: 0.8806 - val_loss: 0.2804 - val_acc: 0.8996\n",
      "Epoch 31/150\n",
      "32551/32551 [==============================] - 5s 154us/sample - loss: 0.3375 - acc: 0.8807 - val_loss: 0.2793 - val_acc: 0.9002\n",
      "Epoch 32/150\n",
      "32551/32551 [==============================] - 5s 154us/sample - loss: 0.3364 - acc: 0.8813 - val_loss: 0.2783 - val_acc: 0.9003\n",
      "Epoch 33/150\n",
      "32551/32551 [==============================] - 6s 178us/sample - loss: 0.3326 - acc: 0.8815 - val_loss: 0.2772 - val_acc: 0.9000\n",
      "Epoch 34/150\n",
      "32551/32551 [==============================] - 6s 173us/sample - loss: 0.3337 - acc: 0.8833 - val_loss: 0.2766 - val_acc: 0.9008\n",
      "Epoch 35/150\n",
      "32551/32551 [==============================] - 5s 154us/sample - loss: 0.3339 - acc: 0.8825 - val_loss: 0.2757 - val_acc: 0.9005\n",
      "Epoch 36/150\n",
      "32551/32551 [==============================] - 5s 155us/sample - loss: 0.3330 - acc: 0.8822 - val_loss: 0.2748 - val_acc: 0.9011\n",
      "Epoch 37/150\n",
      "32551/32551 [==============================] - 5s 155us/sample - loss: 0.3297 - acc: 0.8847 - val_loss: 0.2741 - val_acc: 0.9011\n",
      "Epoch 38/150\n",
      "32551/32551 [==============================] - 5s 157us/sample - loss: 0.3300 - acc: 0.8834 - val_loss: 0.2731 - val_acc: 0.9008\n",
      "Epoch 39/150\n",
      "32551/32551 [==============================] - 5s 154us/sample - loss: 0.3304 - acc: 0.8835 - val_loss: 0.2725 - val_acc: 0.9007\n",
      "Epoch 40/150\n",
      "32551/32551 [==============================] - 5s 154us/sample - loss: 0.3263 - acc: 0.8846 - val_loss: 0.2719 - val_acc: 0.9011\n",
      "Epoch 41/150\n",
      "32551/32551 [==============================] - 5s 154us/sample - loss: 0.3257 - acc: 0.8834 - val_loss: 0.2711 - val_acc: 0.9014\n",
      "Epoch 42/150\n",
      "32551/32551 [==============================] - 5s 154us/sample - loss: 0.3258 - acc: 0.8828 - val_loss: 0.2703 - val_acc: 0.9019\n",
      "Epoch 43/150\n",
      "32551/32551 [==============================] - 5s 154us/sample - loss: 0.3238 - acc: 0.8852 - val_loss: 0.2694 - val_acc: 0.9013\n",
      "Epoch 44/150\n",
      "32551/32551 [==============================] - 5s 155us/sample - loss: 0.3205 - acc: 0.8848 - val_loss: 0.2686 - val_acc: 0.9013\n",
      "Epoch 45/150\n",
      "32551/32551 [==============================] - 5s 154us/sample - loss: 0.3236 - acc: 0.8846 - val_loss: 0.2678 - val_acc: 0.9012\n",
      "Epoch 46/150\n",
      "32551/32551 [==============================] - 5s 154us/sample - loss: 0.3229 - acc: 0.8847 - val_loss: 0.2670 - val_acc: 0.9016\n",
      "Epoch 47/150\n",
      "32551/32551 [==============================] - 5s 154us/sample - loss: 0.3187 - acc: 0.8842 - val_loss: 0.2663 - val_acc: 0.9012\n",
      "Epoch 48/150\n",
      "32551/32551 [==============================] - 5s 161us/sample - loss: 0.3189 - acc: 0.8864 - val_loss: 0.2656 - val_acc: 0.9010\n",
      "Epoch 49/150\n",
      "32551/32551 [==============================] - 6s 179us/sample - loss: 0.3200 - acc: 0.8857 - val_loss: 0.2647 - val_acc: 0.9016\n",
      "Epoch 50/150\n",
      "32551/32551 [==============================] - 5s 165us/sample - loss: 0.3188 - acc: 0.8855 - val_loss: 0.2641 - val_acc: 0.9012\n",
      "Epoch 51/150\n",
      "32551/32551 [==============================] - 5s 154us/sample - loss: 0.3138 - acc: 0.8862 - val_loss: 0.2634 - val_acc: 0.9019\n",
      "Epoch 52/150\n",
      "32551/32551 [==============================] - 5s 153us/sample - loss: 0.3162 - acc: 0.8853 - val_loss: 0.2626 - val_acc: 0.9018\n",
      "Epoch 53/150\n",
      "32551/32551 [==============================] - 5s 154us/sample - loss: 0.3163 - acc: 0.8849 - val_loss: 0.2617 - val_acc: 0.9023\n",
      "Epoch 54/150\n",
      "32551/32551 [==============================] - 5s 154us/sample - loss: 0.3128 - acc: 0.8868 - val_loss: 0.2610 - val_acc: 0.9023\n",
      "Epoch 55/150\n",
      "32551/32551 [==============================] - 5s 155us/sample - loss: 0.3102 - acc: 0.8859 - val_loss: 0.2602 - val_acc: 0.9018\n",
      "Epoch 56/150\n",
      "32551/32551 [==============================] - 5s 153us/sample - loss: 0.3124 - acc: 0.8867 - val_loss: 0.2592 - val_acc: 0.9023\n",
      "Epoch 57/150\n",
      "32551/32551 [==============================] - 5s 155us/sample - loss: 0.3135 - acc: 0.8873 - val_loss: 0.2586 - val_acc: 0.9018\n",
      "Epoch 58/150\n",
      "32551/32551 [==============================] - 6s 172us/sample - loss: 0.3114 - acc: 0.8877 - val_loss: 0.2579 - val_acc: 0.9018\n",
      "Epoch 59/150\n",
      "32551/32551 [==============================] - 5s 161us/sample - loss: 0.3076 - acc: 0.8892 - val_loss: 0.2570 - val_acc: 0.9019\n",
      "Epoch 60/150\n",
      "32551/32551 [==============================] - 5s 154us/sample - loss: 0.3075 - acc: 0.8870 - val_loss: 0.2562 - val_acc: 0.9023\n",
      "Epoch 61/150\n",
      "32551/32551 [==============================] - 5s 155us/sample - loss: 0.3064 - acc: 0.8863 - val_loss: 0.2555 - val_acc: 0.9024\n",
      "Epoch 62/150\n",
      "32551/32551 [==============================] - 5s 154us/sample - loss: 0.3067 - acc: 0.8879 - val_loss: 0.2548 - val_acc: 0.9023\n",
      "Epoch 63/150\n",
      "32551/32551 [==============================] - 5s 155us/sample - loss: 0.3059 - acc: 0.8873 - val_loss: 0.2541 - val_acc: 0.9024\n",
      "Epoch 64/150\n",
      "32551/32551 [==============================] - 6s 171us/sample - loss: 0.3027 - acc: 0.8880 - val_loss: 0.2533 - val_acc: 0.9024\n",
      "Epoch 65/150\n",
      "32551/32551 [==============================] - 6s 178us/sample - loss: 0.3048 - acc: 0.8880 - val_loss: 0.2523 - val_acc: 0.9021\n",
      "Epoch 66/150\n",
      "32551/32551 [==============================] - 5s 155us/sample - loss: 0.3063 - acc: 0.8865 - val_loss: 0.2517 - val_acc: 0.9021\n",
      "Epoch 67/150\n",
      "32551/32551 [==============================] - 5s 155us/sample - loss: 0.3029 - acc: 0.8868 - val_loss: 0.2510 - val_acc: 0.9030\n",
      "Epoch 68/150\n",
      "32551/32551 [==============================] - 5s 154us/sample - loss: 0.2989 - acc: 0.8894 - val_loss: 0.2501 - val_acc: 0.9032\n",
      "Epoch 69/150\n",
      "32551/32551 [==============================] - 5s 154us/sample - loss: 0.3002 - acc: 0.8887 - val_loss: 0.2498 - val_acc: 0.9033\n",
      "Epoch 70/150\n",
      "32551/32551 [==============================] - 5s 154us/sample - loss: 0.2988 - acc: 0.8886 - val_loss: 0.2487 - val_acc: 0.9038\n",
      "Epoch 71/150\n",
      "32551/32551 [==============================] - 5s 155us/sample - loss: 0.3022 - acc: 0.8875 - val_loss: 0.2480 - val_acc: 0.9037\n",
      "Epoch 72/150\n",
      "32551/32551 [==============================] - 5s 156us/sample - loss: 0.3000 - acc: 0.8888 - val_loss: 0.2471 - val_acc: 0.9034\n",
      "Epoch 73/150\n",
      "32551/32551 [==============================] - 5s 155us/sample - loss: 0.2975 - acc: 0.8898 - val_loss: 0.2463 - val_acc: 0.9044\n",
      "Epoch 74/150\n",
      "32551/32551 [==============================] - 5s 155us/sample - loss: 0.2957 - acc: 0.8898 - val_loss: 0.2459 - val_acc: 0.9037\n",
      "Epoch 75/150\n",
      "32551/32551 [==============================] - 5s 155us/sample - loss: 0.2934 - acc: 0.8900 - val_loss: 0.2449 - val_acc: 0.9035\n",
      "Epoch 76/150\n",
      "32551/32551 [==============================] - 5s 155us/sample - loss: 0.2958 - acc: 0.8881 - val_loss: 0.2444 - val_acc: 0.9037\n",
      "Epoch 77/150\n",
      "32551/32551 [==============================] - 5s 154us/sample - loss: 0.2954 - acc: 0.8893 - val_loss: 0.2437 - val_acc: 0.9040\n",
      "Epoch 78/150\n",
      "32551/32551 [==============================] - 5s 155us/sample - loss: 0.2953 - acc: 0.8900 - val_loss: 0.2432 - val_acc: 0.9030\n",
      "Epoch 79/150\n",
      "32551/32551 [==============================] - 5s 157us/sample - loss: 0.2925 - acc: 0.8892 - val_loss: 0.2426 - val_acc: 0.9040\n",
      "Epoch 80/150\n",
      "32551/32551 [==============================] - 6s 179us/sample - loss: 0.2929 - acc: 0.8902 - val_loss: 0.2418 - val_acc: 0.9038\n",
      "Epoch 81/150\n",
      "32551/32551 [==============================] - 6s 171us/sample - loss: 0.2918 - acc: 0.8897 - val_loss: 0.2413 - val_acc: 0.9037\n",
      "Epoch 82/150\n",
      "32551/32551 [==============================] - 5s 154us/sample - loss: 0.2900 - acc: 0.8904 - val_loss: 0.2409 - val_acc: 0.9042\n",
      "Epoch 83/150\n",
      "32551/32551 [==============================] - 5s 155us/sample - loss: 0.2893 - acc: 0.8903 - val_loss: 0.2400 - val_acc: 0.9044\n",
      "Epoch 84/150\n",
      "32551/32551 [==============================] - 5s 156us/sample - loss: 0.2901 - acc: 0.8889 - val_loss: 0.2394 - val_acc: 0.9049\n",
      "Epoch 85/150\n",
      "32551/32551 [==============================] - 5s 154us/sample - loss: 0.2884 - acc: 0.8900 - val_loss: 0.2388 - val_acc: 0.9045\n",
      "Epoch 86/150\n",
      "32551/32551 [==============================] - 5s 153us/sample - loss: 0.2865 - acc: 0.8905 - val_loss: 0.2382 - val_acc: 0.9040\n",
      "Epoch 87/150\n",
      "32551/32551 [==============================] - 6s 169us/sample - loss: 0.2897 - acc: 0.8901 - val_loss: 0.2380 - val_acc: 0.9049\n",
      "Epoch 88/150\n",
      "32551/32551 [==============================] - 6s 189us/sample - loss: 0.2882 - acc: 0.8890 - val_loss: 0.2372 - val_acc: 0.9046\n",
      "Epoch 89/150\n",
      "32551/32551 [==============================] - 5s 162us/sample - loss: 0.2848 - acc: 0.8914 - val_loss: 0.2366 - val_acc: 0.9045\n",
      "Epoch 90/150\n",
      "32551/32551 [==============================] - 5s 154us/sample - loss: 0.2842 - acc: 0.8900 - val_loss: 0.2361 - val_acc: 0.9048\n",
      "Epoch 91/150\n",
      "32551/32551 [==============================] - 5s 155us/sample - loss: 0.2833 - acc: 0.8914 - val_loss: 0.2356 - val_acc: 0.9048\n",
      "Epoch 92/150\n",
      "32551/32551 [==============================] - 5s 154us/sample - loss: 0.2798 - acc: 0.8914 - val_loss: 0.2350 - val_acc: 0.9046\n",
      "Epoch 93/150\n",
      "32551/32551 [==============================] - 5s 155us/sample - loss: 0.2815 - acc: 0.8920 - val_loss: 0.2344 - val_acc: 0.9051\n",
      "Epoch 94/150\n",
      "32551/32551 [==============================] - 5s 154us/sample - loss: 0.2797 - acc: 0.8940 - val_loss: 0.2338 - val_acc: 0.9051\n",
      "Epoch 95/150\n",
      "32551/32551 [==============================] - 6s 172us/sample - loss: 0.2843 - acc: 0.8907 - val_loss: 0.2333 - val_acc: 0.9051\n",
      "Epoch 96/150\n",
      "32551/32551 [==============================] - 6s 180us/sample - loss: 0.2791 - acc: 0.8914 - val_loss: 0.2328 - val_acc: 0.9054\n",
      "Epoch 97/150\n",
      "32551/32551 [==============================] - 5s 154us/sample - loss: 0.2788 - acc: 0.8916 - val_loss: 0.2326 - val_acc: 0.9050\n",
      "Epoch 98/150\n",
      "32551/32551 [==============================] - 5s 155us/sample - loss: 0.2814 - acc: 0.8909 - val_loss: 0.2319 - val_acc: 0.9056\n",
      "Epoch 99/150\n",
      "32551/32551 [==============================] - 5s 154us/sample - loss: 0.2783 - acc: 0.8930 - val_loss: 0.2314 - val_acc: 0.9054\n",
      "Epoch 100/150\n",
      "32551/32551 [==============================] - 5s 155us/sample - loss: 0.2755 - acc: 0.8946 - val_loss: 0.2309 - val_acc: 0.9058\n",
      "Epoch 101/150\n",
      "32551/32551 [==============================] - 5s 154us/sample - loss: 0.2777 - acc: 0.8931 - val_loss: 0.2305 - val_acc: 0.9056\n",
      "Epoch 102/150\n",
      "32551/32551 [==============================] - 5s 156us/sample - loss: 0.2788 - acc: 0.8916 - val_loss: 0.2301 - val_acc: 0.9064\n",
      "Epoch 103/150\n",
      "32551/32551 [==============================] - 5s 154us/sample - loss: 0.2765 - acc: 0.8922 - val_loss: 0.2294 - val_acc: 0.9060\n",
      "Epoch 104/150\n",
      "32551/32551 [==============================] - 5s 154us/sample - loss: 0.2780 - acc: 0.8933 - val_loss: 0.2295 - val_acc: 0.9058\n",
      "Epoch 105/150\n",
      "32551/32551 [==============================] - 5s 154us/sample - loss: 0.2783 - acc: 0.8914 - val_loss: 0.2289 - val_acc: 0.9056\n",
      "Epoch 106/150\n",
      "32551/32551 [==============================] - 5s 154us/sample - loss: 0.2759 - acc: 0.8922 - val_loss: 0.2284 - val_acc: 0.9059\n",
      "Epoch 107/150\n",
      "32551/32551 [==============================] - 5s 155us/sample - loss: 0.2751 - acc: 0.8928 - val_loss: 0.2281 - val_acc: 0.9061\n",
      "Epoch 108/150\n",
      "32551/32551 [==============================] - 5s 154us/sample - loss: 0.2773 - acc: 0.8926 - val_loss: 0.2278 - val_acc: 0.9060\n",
      "Epoch 109/150\n",
      "32551/32551 [==============================] - 5s 154us/sample - loss: 0.2744 - acc: 0.8914 - val_loss: 0.2273 - val_acc: 0.9066\n",
      "Epoch 110/150\n",
      "32551/32551 [==============================] - 5s 154us/sample - loss: 0.2748 - acc: 0.8924 - val_loss: 0.2272 - val_acc: 0.9065\n",
      "Epoch 111/150\n",
      "32551/32551 [==============================] - 6s 178us/sample - loss: 0.2708 - acc: 0.8944 - val_loss: 0.2268 - val_acc: 0.9064\n",
      "Epoch 112/150\n",
      "32551/32551 [==============================] - 6s 171us/sample - loss: 0.2700 - acc: 0.8949 - val_loss: 0.2263 - val_acc: 0.9060\n",
      "Epoch 113/150\n",
      "32551/32551 [==============================] - 5s 154us/sample - loss: 0.2744 - acc: 0.8913 - val_loss: 0.2260 - val_acc: 0.9062\n",
      "Epoch 114/150\n",
      "32551/32551 [==============================] - 5s 157us/sample - loss: 0.2718 - acc: 0.8933 - val_loss: 0.2258 - val_acc: 0.9060\n",
      "Epoch 115/150\n",
      "32551/32551 [==============================] - 5s 154us/sample - loss: 0.2694 - acc: 0.8932 - val_loss: 0.2253 - val_acc: 0.9064\n",
      "Epoch 116/150\n",
      "32551/32551 [==============================] - 5s 154us/sample - loss: 0.2698 - acc: 0.8943 - val_loss: 0.2252 - val_acc: 0.9067\n",
      "Epoch 117/150\n",
      "32551/32551 [==============================] - 6s 172us/sample - loss: 0.2684 - acc: 0.8943 - val_loss: 0.2249 - val_acc: 0.9061\n",
      "Epoch 118/150\n",
      "32551/32551 [==============================] - 5s 161us/sample - loss: 0.2703 - acc: 0.8936 - val_loss: 0.2246 - val_acc: 0.9059\n",
      "Epoch 119/150\n",
      "32551/32551 [==============================] - 5s 154us/sample - loss: 0.2674 - acc: 0.8947 - val_loss: 0.2242 - val_acc: 0.9060\n",
      "Epoch 120/150\n",
      "32551/32551 [==============================] - 5s 155us/sample - loss: 0.2695 - acc: 0.8934 - val_loss: 0.2238 - val_acc: 0.9067\n",
      "Epoch 121/150\n",
      "32551/32551 [==============================] - 5s 154us/sample - loss: 0.2692 - acc: 0.8929 - val_loss: 0.2236 - val_acc: 0.9065\n",
      "Epoch 122/150\n",
      "32551/32551 [==============================] - 5s 154us/sample - loss: 0.2703 - acc: 0.8943 - val_loss: 0.2232 - val_acc: 0.9064\n",
      "Epoch 123/150\n",
      "32551/32551 [==============================] - 5s 154us/sample - loss: 0.2664 - acc: 0.8944 - val_loss: 0.2230 - val_acc: 0.9065\n",
      "Epoch 124/150\n",
      "32551/32551 [==============================] - 5s 155us/sample - loss: 0.2642 - acc: 0.8955 - val_loss: 0.2229 - val_acc: 0.9065\n",
      "Epoch 125/150\n",
      "32551/32551 [==============================] - 5s 154us/sample - loss: 0.2689 - acc: 0.8940 - val_loss: 0.2227 - val_acc: 0.9066\n",
      "Epoch 126/150\n",
      "32551/32551 [==============================] - 5s 166us/sample - loss: 0.2647 - acc: 0.8960 - val_loss: 0.2223 - val_acc: 0.9070\n",
      "Epoch 127/150\n",
      "32551/32551 [==============================] - 6s 179us/sample - loss: 0.2644 - acc: 0.8953 - val_loss: 0.2221 - val_acc: 0.9070\n",
      "Epoch 128/150\n",
      "32551/32551 [==============================] - 5s 161us/sample - loss: 0.2650 - acc: 0.8951 - val_loss: 0.2219 - val_acc: 0.9072\n",
      "Epoch 129/150\n",
      "32551/32551 [==============================] - 5s 154us/sample - loss: 0.2620 - acc: 0.8959 - val_loss: 0.2214 - val_acc: 0.9073\n",
      "Epoch 130/150\n",
      "32551/32551 [==============================] - 5s 155us/sample - loss: 0.2639 - acc: 0.8950 - val_loss: 0.2212 - val_acc: 0.9077\n",
      "Epoch 131/150\n",
      "32551/32551 [==============================] - 5s 154us/sample - loss: 0.2639 - acc: 0.8951 - val_loss: 0.2208 - val_acc: 0.9080\n",
      "Epoch 132/150\n",
      "32551/32551 [==============================] - 5s 155us/sample - loss: 0.2612 - acc: 0.8949 - val_loss: 0.2207 - val_acc: 0.9082\n",
      "Epoch 133/150\n",
      "32551/32551 [==============================] - 5s 154us/sample - loss: 0.2632 - acc: 0.8954 - val_loss: 0.2205 - val_acc: 0.9078\n",
      "Epoch 134/150\n",
      "32551/32551 [==============================] - 5s 154us/sample - loss: 0.2621 - acc: 0.8938 - val_loss: 0.2204 - val_acc: 0.9077\n",
      "Epoch 135/150\n",
      "32551/32551 [==============================] - 5s 154us/sample - loss: 0.2619 - acc: 0.8946 - val_loss: 0.2202 - val_acc: 0.9076\n",
      "Epoch 136/150\n",
      "32551/32551 [==============================] - 5s 154us/sample - loss: 0.2627 - acc: 0.8965 - val_loss: 0.2198 - val_acc: 0.9081\n",
      "Epoch 137/150\n",
      "32551/32551 [==============================] - 5s 154us/sample - loss: 0.2626 - acc: 0.8934 - val_loss: 0.2197 - val_acc: 0.9077\n",
      "Epoch 138/150\n",
      "32551/32551 [==============================] - 5s 155us/sample - loss: 0.2600 - acc: 0.8958 - val_loss: 0.2196 - val_acc: 0.9083\n",
      "Epoch 139/150\n",
      "32551/32551 [==============================] - 5s 153us/sample - loss: 0.2608 - acc: 0.8962 - val_loss: 0.2194 - val_acc: 0.9083\n",
      "Epoch 140/150\n",
      "32551/32551 [==============================] - 5s 155us/sample - loss: 0.2601 - acc: 0.8968 - val_loss: 0.2190 - val_acc: 0.9086\n",
      "Epoch 141/150\n",
      "32551/32551 [==============================] - 5s 154us/sample - loss: 0.2586 - acc: 0.8967 - val_loss: 0.2189 - val_acc: 0.9083\n",
      "Epoch 142/150\n",
      "32551/32551 [==============================] - 6s 173us/sample - loss: 0.2570 - acc: 0.8974 - val_loss: 0.2188 - val_acc: 0.9080\n",
      "Epoch 143/150\n",
      "32551/32551 [==============================] - 6s 178us/sample - loss: 0.2582 - acc: 0.8958 - val_loss: 0.2184 - val_acc: 0.9080\n",
      "Epoch 144/150\n",
      "32551/32551 [==============================] - 5s 155us/sample - loss: 0.2599 - acc: 0.8956 - val_loss: 0.2183 - val_acc: 0.9086\n",
      "Epoch 145/150\n",
      "32551/32551 [==============================] - 5s 153us/sample - loss: 0.2575 - acc: 0.8961 - val_loss: 0.2182 - val_acc: 0.9087\n",
      "Epoch 146/150\n",
      "32551/32551 [==============================] - 5s 154us/sample - loss: 0.2575 - acc: 0.8962 - val_loss: 0.2181 - val_acc: 0.9083\n",
      "Epoch 147/150\n",
      "32551/32551 [==============================] - 5s 165us/sample - loss: 0.2566 - acc: 0.8950 - val_loss: 0.2177 - val_acc: 0.9087\n",
      "Epoch 148/150\n",
      "32551/32551 [==============================] - 6s 187us/sample - loss: 0.2615 - acc: 0.8940 - val_loss: 0.2176 - val_acc: 0.9085\n",
      "Epoch 149/150\n",
      "32551/32551 [==============================] - 5s 165us/sample - loss: 0.2564 - acc: 0.8961 - val_loss: 0.2173 - val_acc: 0.9086\n",
      "Epoch 150/150\n",
      "32551/32551 [==============================] - 5s 155us/sample - loss: 0.2586 - acc: 0.8965 - val_loss: 0.2173 - val_acc: 0.9087\n"
     ]
    }
   ],
   "source": [
    "model = Sequential()\n",
    "\n",
    "model.add(Dense(100, activation='relu', input_shape=(51,)))\n",
    "model.add(BatchNormalization())\n",
    "model.add(Dropout(0.3))\n",
    "model.add(Dense(50, activation='relu'))\n",
    "model.add(BatchNormalization())\n",
    "model.add(Dropout(0.2))\n",
    "model.add(Dense(1, activation='sigmoid'))\n",
    "\n",
    "optimizer = RMSPropOptimizer(learning_rate=10e-6, epsilon=1e-10, decay=0.8)\n",
    "model.compile(optimizer=optimizer,\n",
    "             loss='binary_crossentropy',\n",
    "             metrics=['acc'])\n",
    "\n",
    "h = model.fit(X_train, y_train, epochs=150, validation_split=0.2)"
   ]
  },
  {
   "cell_type": "code",
   "execution_count": 60,
   "metadata": {
    "colab": {
     "base_uri": "https://localhost:8080/",
     "height": 286
    },
    "colab_type": "code",
    "id": "WlGIAKFA8o01",
    "outputId": "f4d74902-6b7b-408e-b7dc-b3c94874e14d"
   },
   "outputs": [
    {
     "data": {
      "text/plain": [
       "<matplotlib.legend.Legend at 0x7f43cb268a58>"
      ]
     },
     "execution_count": 60,
     "metadata": {
      "tags": []
     },
     "output_type": "execute_result"
    },
    {
     "data": {
      "image/png": "[encoded data removed]",
      "text/plain": [
       "<Figure size 432x288 with 1 Axes>"
      ]
     },
     "metadata": {
      "tags": []
     },
     "output_type": "display_data"
    }
   ],
   "source": [
    "plt.plot(h.history['val_acc'], label='Validation Accuracy')\n",
    "plt.plot(h.history['acc'], label='Training Accuracy')\n",
    "plt.legend()"
   ]
  },
  {
   "cell_type": "code",
   "execution_count": 61,
   "metadata": {
    "colab": {
     "base_uri": "https://localhost:8080/",
     "height": 286
    },
    "colab_type": "code",
    "id": "AJJnW7oo8o4n",
    "outputId": "a75476cf-34d0-4049-8c25-41317425be38"
   },
   "outputs": [
    {
     "data": {
      "text/plain": [
       "<matplotlib.legend.Legend at 0x7f43cb1ee978>"
      ]
     },
     "execution_count": 61,
     "metadata": {
      "tags": []
     },
     "output_type": "execute_result"
    },
    {
     "data": {
      "image/png": "[encoded data removed]",
      "text/plain": [
       "<Figure size 432x288 with 1 Axes>"
      ]
     },
     "metadata": {
      "tags": []
     },
     "output_type": "display_data"
    }
   ],
   "source": [
    "plt.plot(h.history['val_loss'], label='Validation Loss')\n",
    "plt.plot(h.history['loss'], label='Training Loss')\n",
    "plt.legend()"
   ]
  },
  {
   "cell_type": "markdown",
   "metadata": {
    "colab_type": "text",
    "id": "mq9A4bHJHkQr"
   },
   "source": [
    "### Create Storage"
   ]
  },
  {
   "cell_type": "code",
   "execution_count": 62,
   "metadata": {
    "colab": {
     "base_uri": "https://localhost:8080/",
     "height": 51
    },
    "colab_type": "code",
    "id": "QEOTrJtMHk4-",
    "outputId": "79e9db6f-f499-4f1f-c5ac-ecc84a4e5045"
   },
   "outputs": [
    {
     "name": "stdout",
     "output_type": "stream",
     "text": [
      "Updated property [core/project].\n",
      "lofty-reserve-238701\n"
     ]
    }
   ],
   "source": [
    "PROJECT_ID = \"lofty-reserve-238701\" #@param {type:\"string\"}\n",
    "\n",
    "# This must absolutely be a GLOBALLY UNIQUE name\n",
    "BUCKET_NAME = \"oliver-ml-demo-bucket123\" #@param {type:\"string\"}\n",
    "REGION = \"us-central1\" #@param {type:\"string\"}\n",
    "\n",
    "! gcloud config set project $PROJECT_ID\n",
    "! echo $PROJECT_ID"
   ]
  },
  {
   "cell_type": "markdown",
   "metadata": {
    "colab_type": "text",
    "id": "0y-SjCPfH1B_"
   },
   "source": [
    "### Authenticate on Google Cloud Platform\n",
    "* Click on link and enter secret key"
   ]
  },
  {
   "cell_type": "code",
   "execution_count": 0,
   "metadata": {
    "colab": {},
    "colab_type": "code",
    "id": "RW3JsOW8Hz1Z"
   },
   "outputs": [],
   "source": [
    "import sys\n",
    "\n",
    "if 'google.colab' in sys.modules:\n",
    "  from google.colab import auth as google_auth\n",
    "  google_auth.authenticate_user()\n",
    "else:\n",
    "  %env GOOGLE_APPLICATION_CREDENTIALS ''"
   ]
  },
  {
   "cell_type": "code",
   "execution_count": 63,
   "metadata": {
    "colab": {
     "base_uri": "https://localhost:8080/",
     "height": 85
    },
    "colab_type": "code",
    "id": "g7eISVjCHylz",
    "outputId": "0ffdcf84-48ec-444f-be15-6a9520de10fd"
   },
   "outputs": [
    {
     "name": "stdout",
     "output_type": "stream",
     "text": [
      "Creating gs://oliver-ml-demo-bucket123/...\n",
      "ServiceException: 409 Bucket oliver-ml-demo-bucket123 already exists.\n",
      "Bucket Content:\n",
      "                                 gs://oliver-ml-demo-bucket123/mcgilldemo/\n"
     ]
    }
   ],
   "source": [
    "# Create Bucket\n",
    "!gsutil mb -p $PROJECT_ID -l $REGION gs://$BUCKET_NAME\n",
    "# Display what is in the bucket\n",
    "print('Bucket Content:')\n",
    "!gsutil ls -al gs://$BUCKET_NAME"
   ]
  },
  {
   "cell_type": "code",
   "execution_count": 64,
   "metadata": {
    "colab": {
     "base_uri": "https://localhost:8080/",
     "height": 34
    },
    "colab_type": "code",
    "id": "CeE9tLq9H9Ex",
    "outputId": "5b38dbb1-a5f5-43d8-d9b6-4f7915fbd9d1"
   },
   "outputs": [
    {
     "name": "stdout",
     "output_type": "stream",
     "text": [
      "gs://oliver-ml-demo-bucket123/mcgilldemo\n"
     ]
    }
   ],
   "source": [
    "JOB_DIR = 'gs://' + BUCKET_NAME + '/mcgilldemo'\n",
    "print(JOB_DIR)"
   ]
  },
  {
   "cell_type": "markdown",
   "metadata": {
    "colab_type": "text",
    "id": "Amk9dnhGIQRA"
   },
   "source": [
    "### Export Model to Google Cloud Storage"
   ]
  },
  {
   "cell_type": "code",
   "execution_count": 65,
   "metadata": {
    "colab": {
     "base_uri": "https://localhost:8080/",
     "height": 442
    },
    "colab_type": "code",
    "id": "cC2nJWD_ITdE",
    "outputId": "9ea52c11-fb66-4355-fd39-3624004e2c36"
   },
   "outputs": [
    {
     "name": "stdout",
     "output_type": "stream",
     "text": [
      "INFO:tensorflow:Signatures INCLUDED in export for Classify: None\n",
      "INFO:tensorflow:Signatures INCLUDED in export for Regress: None\n",
      "INFO:tensorflow:Signatures INCLUDED in export for Predict: None\n",
      "INFO:tensorflow:Signatures INCLUDED in export for Train: ['train']\n",
      "INFO:tensorflow:Signatures INCLUDED in export for Eval: None\n",
      "WARNING:tensorflow:Export includes no default signature!\n",
      "INFO:tensorflow:No assets to save.\n",
      "INFO:tensorflow:No assets to write.\n",
      "INFO:tensorflow:Signatures INCLUDED in export for Classify: None\n",
      "INFO:tensorflow:Signatures INCLUDED in export for Regress: None\n",
      "INFO:tensorflow:Signatures INCLUDED in export for Predict: None\n",
      "INFO:tensorflow:Signatures INCLUDED in export for Train: None\n",
      "INFO:tensorflow:Signatures INCLUDED in export for Eval: ['eval']\n",
      "WARNING:tensorflow:Export includes no default signature!\n",
      "INFO:tensorflow:No assets to save.\n",
      "INFO:tensorflow:No assets to write.\n",
      "INFO:tensorflow:Signatures INCLUDED in export for Classify: None\n",
      "INFO:tensorflow:Signatures INCLUDED in export for Regress: None\n",
      "INFO:tensorflow:Signatures INCLUDED in export for Predict: ['serving_default']\n",
      "INFO:tensorflow:Signatures INCLUDED in export for Train: None\n",
      "INFO:tensorflow:Signatures INCLUDED in export for Eval: None\n",
      "INFO:tensorflow:No assets to save.\n",
      "INFO:tensorflow:No assets to write.\n",
      "INFO:tensorflow:SavedModel written to: gs://oliver-ml-demo-bucket123/mcgilldemo/keras_export/1556891334/saved_model.pb\n",
      "Model exported to:  b'gs://oliver-ml-demo-bucket123/mcgilldemo/keras_export/1556891334'\n"
     ]
    }
   ],
   "source": [
    "export_path = tf.contrib.saved_model.save_keras_model(model, JOB_DIR + '/keras_export')\n",
    "print(\"Model exported to: \", export_path)"
   ]
  },
  {
   "cell_type": "markdown",
   "metadata": {
    "colab_type": "text",
    "id": "aUCv7VEPIgQF"
   },
   "source": [
    "### Deploy Model from GCS"
   ]
  },
  {
   "cell_type": "code",
   "execution_count": 66,
   "metadata": {
    "colab": {
     "base_uri": "https://localhost:8080/",
     "height": 51
    },
    "colab_type": "code",
    "id": "juC8akMaIWE6",
    "outputId": "b73fa4fb-3e64-4481-c9cf-8bf53f6d32e5"
   },
   "outputs": [
    {
     "name": "stdout",
     "output_type": "stream",
     "text": [
      "\u001b[1;33mWARNING:\u001b[0m The `gcloud ml-engine` commands have been renamed and will soon be removed. Please use `gcloud ai-platform` instead.\n",
      "Created ml engine model [projects/lofty-reserve-238701/models/mcgilldemo2].\n"
     ]
    }
   ],
   "source": [
    "# Create model\n",
    "MODEL_NAME = \"mcgilldemo2\"\n",
    "\n",
    "! gcloud ml-engine models create $MODEL_NAME \\\n",
    "  --regions $REGION"
   ]
  },
  {
   "cell_type": "code",
   "execution_count": 67,
   "metadata": {
    "colab": {
     "base_uri": "https://localhost:8080/",
     "height": 34
    },
    "colab_type": "code",
    "id": "9echCBV5NDhK",
    "outputId": "661be817-cbf2-4644-b165-b4bd95895ba9"
   },
   "outputs": [
    {
     "name": "stdout",
     "output_type": "stream",
     "text": [
      "\u001b[1;33mWARNING:\u001b[0m The `gcloud ml-engine` commands have been renamed and will soon be removed. Please use `gcloud ai-platform` instead.\n"
     ]
    }
   ],
   "source": [
    "# Deploy model\n",
    "MODEL_VERSION = \"v1\"\n",
    "\n",
    "# Get a list of directories in the `keras_export` parent directory\n",
    "KERAS_EXPORT_DIRS = ! gsutil ls $JOB_DIR/keras_export/\n",
    "\n",
    "# Pick the directory with the latest timestamp, in case you've trained\n",
    "# multiple times\n",
    "SAVED_MODEL_PATH = KERAS_EXPORT_DIRS[-1]\n",
    "\n",
    "# Create model version based on that SavedModel directory\n",
    "! gcloud ml-engine versions create $MODEL_VERSION \\\n",
    "  --model $MODEL_NAME \\\n",
    "  --runtime-version 1.13 \\\n",
    "  --python-version 3.5 \\\n",
    "  --framework tensorflow \\\n",
    "  --origin $SAVED_MODEL_PATH"
   ]
  },
  {
   "cell_type": "markdown",
   "metadata": {
    "colab_type": "text",
    "id": "OFQLJMcKInQ8"
   },
   "source": [
    "### Test your model with your test set"
   ]
  },
  {
   "cell_type": "code",
   "execution_count": 68,
   "metadata": {
    "colab": {
     "base_uri": "https://localhost:8080/",
     "height": 207
    },
    "colab_type": "code",
    "id": "I7j2UKY6IyCL",
    "outputId": "2c68f722-64e7-4be6-ae64-f0468e14fbf6"
   },
   "outputs": [
    {
     "name": "stdout",
     "output_type": "stream",
     "text": [
      "[0.18181818181818182, 0.03886471700537902, 0.6333333333333333, 0.03204524033930255, 0.08108108108108109, 0.0, 0.0, 1.0, 0.0, 0.0, 0.0, 0.0, 0.0, 0.0, 0.0, 0.0, 0.0, 0.0, 0.0, 0.0, 1.0, 0.0, 0.0, 0.0, 1.0, 0.0, 1.0, 0.0, 0.0, 1.0, 1.0, 0.0, 1.0, 0.0, 0.0, 0.0, 0.0, 0.0, 0.0, 0.0, 0.0, 0.0, 0.0, 0.0, 1.0, 0.0, 0.0, 0.0, 0.0, 0.0, 1.0]\n",
      "[0.15584415584415584, 0.045088212076150616, 0.5333333333333333, 0.10650329877474081, 0.05405405405405406, 0.22857142857142856, 0.007272727272727273, 0.0, 0.0, 0.0, 0.0, 1.0, 0.0, 0.0, 0.0, 0.0, 0.0, 0.0, 0.0, 0.0, 0.0, 1.0, 0.0, 0.0, 1.0, 0.0, 1.0, 0.0, 1.0, 0.0, 1.0, 0.0, 1.0, 0.0, 0.0, 0.0, 0.0, 0.0, 0.0, 0.0, 0.0, 1.0, 0.0, 0.0, 0.0, 0.0, 0.0, 0.0, 0.0, 1.0, 0.0]\n",
      "[0.5064935064935066, 0.047364652751005126, 0.4, 0.027961043041156142, 0.13513513513513514, 0.0, 0.0, 0.0, 1.0, 0.0, 0.0, 0.0, 0.0, 0.0, 0.0, 0.0, 0.0, 0.0, 0.0, 0.0, 1.0, 0.0, 1.0, 0.0, 0.0, 0.0, 1.0, 0.0, 0.0, 1.0, 1.0, 0.0, 1.0, 0.0, 0.0, 0.0, 1.0, 0.0, 0.0, 0.0, 0.0, 0.0, 0.0, 0.0, 0.0, 0.0, 0.0, 0.0, 0.0, 0.0, 1.0]\n",
      "[0.25974025974025977, 0.03798351416349985, 0.9333333333333333, 0.0138234370091109, 0.40540540540540543, 0.0, 0.0, 0.0, 0.0, 0.0, 0.0, 0.0, 0.0, 0.0, 0.0, 0.0, 1.0, 0.0, 0.0, 0.0, 1.0, 0.0, 0.0, 1.0, 0.0, 0.0, 1.0, 0.0, 1.0, 0.0, 0.0, 1.0, 1.0, 0.0, 0.0, 0.0, 1.0, 0.0, 0.0, 0.0, 0.0, 0.0, 0.0, 0.0, 0.0, 0.0, 0.0, 0.0, 0.0, 0.0, 1.0]\n",
      "[0.2337662337662338, 0.03458721154375723, 0.5666666666666667, 0.0025133521834747093, 0.16216216216216217, 0.0, 0.0, 0.0, 1.0, 0.0, 0.0, 0.0, 0.0, 0.0, 0.0, 0.0, 0.0, 0.0, 0.0, 0.0, 1.0, 0.0, 1.0, 0.0, 0.0, 0.0, 1.0, 0.0, 0.0, 1.0, 1.0, 0.0, 1.0, 0.0, 0.0, 0.0, 0.0, 0.0, 0.0, 0.0, 0.0, 0.0, 0.0, 1.0, 0.0, 0.0, 0.0, 0.0, 0.0, 0.0, 1.0]\n",
      "[0.15584415584415584, 0.03185181105542399, 0.3666666666666667, 0.05152371976123154, 0.05405405405405406, 0.0, 0.0, 0.0, 1.0, 0.0, 0.0, 0.0, 0.0, 0.0, 0.0, 0.0, 0.0, 0.0, 0.0, 0.0, 0.0, 1.0, 0.0, 0.0, 0.0, 1.0, 0.0, 1.0, 0.0, 1.0, 0.0, 1.0, 0.0, 0.0, 1.0, 0.0, 0.0, 0.0, 0.0, 0.0, 0.0, 0.0, 0.0, 1.0, 0.0, 0.0, 0.0, 0.0, 0.0, 0.0, 1.0]\n",
      "[0.3896103896103896, 0.06335481265260415, 0.6333333333333333, 0.024191014765944076, 0.05405405405405406, 0.0, 0.0, 0.0, 0.0, 0.0, 0.0, 1.0, 0.0, 0.0, 0.0, 0.0, 0.0, 0.0, 0.0, 0.0, 1.0, 0.0, 0.0, 0.0, 1.0, 0.0, 1.0, 0.0, 0.0, 1.0, 1.0, 0.0, 1.0, 0.0, 0.0, 0.0, 1.0, 0.0, 0.0, 0.0, 0.0, 0.0, 0.0, 0.0, 0.0, 0.0, 0.0, 0.0, 0.0, 0.0, 1.0]\n",
      "[0.16883116883116883, 0.04147160874593821, 0.5333333333333333, 0.06848884699968583, 0.0, 0.0, 0.0, 0.0, 0.0, 0.0, 0.0, 0.0, 0.0, 0.0, 0.0, 0.0, 0.0, 1.0, 0.0, 0.0, 1.0, 0.0, 0.0, 1.0, 0.0, 0.0, 1.0, 0.0, 0.0, 1.0, 1.0, 0.0, 1.0, 0.0, 0.0, 1.0, 0.0, 0.0, 0.0, 0.0, 0.0, 0.0, 0.0, 0.0, 0.0, 0.0, 0.0, 0.0, 0.0, 0.0, 1.0]\n",
      "[0.2207792207792208, 0.08022617539608232, 0.8, 0.08325479107759974, 0.0, 0.0, 0.0, 0.0, 0.0, 0.0, 0.0, 1.0, 0.0, 0.0, 0.0, 0.0, 0.0, 0.0, 0.0, 0.0, 0.0, 1.0, 0.0, 0.0, 1.0, 0.0, 1.0, 0.0, 0.0, 1.0, 1.0, 0.0, 1.0, 0.0, 0.0, 0.0, 0.0, 0.0, 0.0, 0.0, 0.0, 0.0, 0.0, 1.0, 0.0, 0.0, 0.0, 0.0, 0.0, 0.0, 1.0]\n",
      "[0.2207792207792208, 0.03458721154375723, 0.43333333333333335, 0.1445177505497958, 0.05405405405405406, 0.0, 0.0, 0.0, 0.0, 0.0, 0.0, 0.0, 0.0, 0.0, 0.0, 0.0, 1.0, 0.0, 0.0, 0.0, 1.0, 0.0, 0.0, 1.0, 0.0, 0.0, 1.0, 0.0, 1.0, 0.0, 1.0, 0.0, 1.0, 0.0, 0.0, 0.0, 0.0, 0.0, 0.0, 0.0, 1.0, 0.0, 0.0, 0.0, 0.0, 0.0, 0.0, 0.0, 0.0, 0.0, 1.0]\n"
     ]
    }
   ],
   "source": [
    "# Create file with features to send to model\n",
    "with open('test.json', 'w') as f:\n",
    "  for item in X_test[:10]:\n",
    "    item = list(item)\n",
    "    f.write(\"%s\\n\" % item)\n",
    "! cat test.json"
   ]
  },
  {
   "cell_type": "code",
   "execution_count": 69,
   "metadata": {
    "colab": {
     "base_uri": "https://localhost:8080/",
     "height": 221
    },
    "colab_type": "code",
    "id": "2UM71gCuNfe3",
    "outputId": "4c2297ac-8eb5-4154-bcfd-536d5a6ce220"
   },
   "outputs": [
    {
     "name": "stdout",
     "output_type": "stream",
     "text": [
      "\u001b[1;33mWARNING:\u001b[0m The `gcloud ml-engine` commands have been renamed and will soon be removed. Please use `gcloud ai-platform` instead.\n",
      "DENSE_77\n",
      "[0.010838687419891357]\n",
      "[0.9132669568061829]\n",
      "[0.014997661113739014]\n",
      "[0.0015125870704650879]\n",
      "[0.005704969167709351]\n",
      "[0.0021437108516693115]\n",
      "[0.021108150482177734]\n",
      "[0.10229122638702393]\n",
      "[0.1725328266620636]\n",
      "[0.35158687829971313]\n"
     ]
    }
   ],
   "source": [
    "# Send file to model for prediction\n",
    "! gcloud ml-engine predict \\\n",
    "  --model $MODEL_NAME \\\n",
    "  --version $MODEL_VERSION \\\n",
    "  --json-instances test.json"
   ]
  },
  {
   "cell_type": "code",
   "execution_count": 70,
   "metadata": {
    "colab": {
     "base_uri": "https://localhost:8080/",
     "height": 187
    },
    "colab_type": "code",
    "id": "8FjY6BzB5Eje",
    "outputId": "fafaef25-27aa-4453-dbd6-675cae0a2e36"
   },
   "outputs": [
    {
     "data": {
      "text/plain": [
       "array([[0],\n",
       "       [1],\n",
       "       [0],\n",
       "       [0],\n",
       "       [0],\n",
       "       [0],\n",
       "       [0],\n",
       "       [0],\n",
       "       [0],\n",
       "       [0]])"
      ]
     },
     "execution_count": 70,
     "metadata": {
      "tags": []
     },
     "output_type": "execute_result"
    }
   ],
   "source": [
    "y_test[:10]"
   ]
  }
 ],
 "metadata": {
  "accelerator": "GPU",
  "colab": {
   "include_colab_link": true,
   "name": "Homework_Week_8",
   "provenance": [],
   "version": "0.3.2"
  },
  "kernelspec": {
   "display_name": "Python 3",
   "language": "python",
   "name": "python3"
  },
  "language_info": {
   "codemirror_mode": {
    "name": "ipython",
    "version": 3
   },
   "file_extension": ".py",
   "mimetype": "text/x-python",
   "name": "python",
   "nbconvert_exporter": "python",
   "pygments_lexer": "ipython3",
   "version": "3.7.2"
  }
 },
 "nbformat": 4,
 "nbformat_minor": 1
}
