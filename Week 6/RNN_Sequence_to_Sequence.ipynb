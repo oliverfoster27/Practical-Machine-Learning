{
  "nbformat": 4,
  "nbformat_minor": 0,
  "metadata": {
    "colab": {
      "name": "RNN - Sequence to Sequence.ipynb",
      "version": "0.3.2",
      "provenance": [],
      "include_colab_link": true
    },
    "kernelspec": {
      "name": "python3",
      "display_name": "Python 3"
    }
  },
  "cells": [
    {
      "cell_type": "markdown",
      "metadata": {
        "id": "view-in-github",
        "colab_type": "text"
      },
      "source": [
        "<a href=\"https://colab.research.google.com/github/oliverfoster27/Practical-Machine-Learning/blob/master/Week%206/RNN_Sequence_to_Sequence.ipynb\" target=\"_parent\"><img src=\"https://colab.research.google.com/assets/colab-badge.svg\" alt=\"Open In Colab\"/></a>"
      ]
    },
    {
      "metadata": {
        "id": "eiko0bMA3DRR",
        "colab_type": "code",
        "colab": {
          "base_uri": "https://localhost:8080/",
          "height": 35
        },
        "outputId": "302682df-e99f-4844-e007-295cab0bc610"
      },
      "cell_type": "code",
      "source": [
        "from __future__ import print_function\n",
        "\n",
        "from keras.models import Model\n",
        "from keras.layers import Input, LSTM, Dense\n",
        "import numpy as np\n",
        "\n",
        "batch_size = 64  # Batch size for training.\n",
        "epochs = 100  # Number of epochs to train for.\n",
        "latent_dim = 256  # Latent dimensionality of the encoding space.\n",
        "num_samples = 10000  # Number of samples to train on."
      ],
      "execution_count": 1,
      "outputs": [
        {
          "output_type": "stream",
          "text": [
            "Using TensorFlow backend.\n"
          ],
          "name": "stderr"
        }
      ]
    },
    {
      "metadata": {
        "id": "7tR3Qsu08gEH",
        "colab_type": "text"
      },
      "cell_type": "markdown",
      "source": [
        "See the following for walkthrough: https://blog.keras.io/a-ten-minute-introduction-to-sequence-to-sequence-learning-in-keras.html"
      ]
    },
    {
      "metadata": {
        "id": "KYy4swst4Bmd",
        "colab_type": "code",
        "colab": {
          "base_uri": "https://localhost:8080/",
          "height": 295
        },
        "outputId": "6b664bac-7dd2-4e97-b863-17bca5a6a40c"
      },
      "cell_type": "code",
      "source": [
        "!wget http://www.manythings.org/anki/fra-eng.zip\n",
        "!unzip fra-eng.zip"
      ],
      "execution_count": 2,
      "outputs": [
        {
          "output_type": "stream",
          "text": [
            "--2019-04-12 00:10:43--  http://www.manythings.org/anki/fra-eng.zip\n",
            "Resolving www.manythings.org (www.manythings.org)... 104.24.109.196, 104.24.108.196, 2606:4700:30::6818:6cc4, ...\n",
            "Connecting to www.manythings.org (www.manythings.org)|104.24.109.196|:80... connected.\n",
            "HTTP request sent, awaiting response... 200 OK\n",
            "Length: 3423204 (3.3M) [application/zip]\n",
            "Saving to: ‘fra-eng.zip.2’\n",
            "\n",
            "fra-eng.zip.2       100%[===================>]   3.26M  2.28MB/s    in 1.4s    \n",
            "\n",
            "2019-04-12 00:10:45 (2.28 MB/s) - ‘fra-eng.zip.2’ saved [3423204/3423204]\n",
            "\n",
            "Archive:  fra-eng.zip\n",
            "replace _about.txt? [y]es, [n]o, [A]ll, [N]one, [r]ename: y\n",
            "  inflating: _about.txt              \n",
            "replace fra.txt? [y]es, [n]o, [A]ll, [N]one, [r]ename: y\n",
            "  inflating: fra.txt                 \n"
          ],
          "name": "stdout"
        }
      ]
    },
    {
      "metadata": {
        "id": "S4qpNLnv3Isy",
        "colab_type": "code",
        "colab": {
          "base_uri": "https://localhost:8080/",
          "height": 104
        },
        "outputId": "4e843c2d-2d1a-42d1-f003-b8dfd244a54a"
      },
      "cell_type": "code",
      "source": [
        "# Path to the data txt file on disk.\n",
        "data_path = 'fra.txt'\n",
        "\n",
        "# Vectorize the data.\n",
        "input_texts = []\n",
        "target_texts = []\n",
        "input_characters = set()\n",
        "target_characters = set()\n",
        "with open(data_path, 'r', encoding='utf-8') as f:\n",
        "    lines = f.read().split('\\n')\n",
        "for line in lines[: min(num_samples, len(lines) - 1)]:\n",
        "    input_text, target_text = line.split('\\t')\n",
        "    # We use \"tab\" as the \"start sequence\" character\n",
        "    # for the targets, and \"\\n\" as \"end sequence\" character.\n",
        "    target_text = '\\t' + target_text + '\\n'\n",
        "    input_texts.append(input_text)\n",
        "    target_texts.append(target_text)\n",
        "    for char in input_text:\n",
        "        if char not in input_characters:\n",
        "            input_characters.add(char)\n",
        "    for char in target_text:\n",
        "        if char not in target_characters:\n",
        "            target_characters.add(char)\n",
        "\n",
        "input_characters = sorted(list(input_characters))\n",
        "target_characters = sorted(list(target_characters))\n",
        "num_encoder_tokens = len(input_characters)\n",
        "num_decoder_tokens = len(target_characters)\n",
        "max_encoder_seq_length = max([len(txt) for txt in input_texts])\n",
        "max_decoder_seq_length = max([len(txt) for txt in target_texts])\n",
        "\n",
        "print('Number of samples:', len(input_texts))\n",
        "print('Number of unique input tokens:', num_encoder_tokens)\n",
        "print('Number of unique output tokens:', num_decoder_tokens)\n",
        "print('Max sequence length for inputs:', max_encoder_seq_length)\n",
        "print('Max sequence length for outputs:', max_decoder_seq_length)\n",
        "\n",
        "input_token_index = dict(\n",
        "    [(char, i) for i, char in enumerate(input_characters)])\n",
        "target_token_index = dict(\n",
        "    [(char, i) for i, char in enumerate(target_characters)])\n",
        "\n",
        "encoder_input_data = np.zeros(\n",
        "    (len(input_texts), max_encoder_seq_length, num_encoder_tokens),\n",
        "    dtype='float32')\n",
        "decoder_input_data = np.zeros(\n",
        "    (len(input_texts), max_decoder_seq_length, num_decoder_tokens),\n",
        "    dtype='float32')\n",
        "decoder_target_data = np.zeros(\n",
        "    (len(input_texts), max_decoder_seq_length, num_decoder_tokens),\n",
        "    dtype='float32')\n",
        "\n",
        "for i, (input_text, target_text) in enumerate(zip(input_texts, target_texts)):\n",
        "    for t, char in enumerate(input_text):\n",
        "        encoder_input_data[i, t, input_token_index[char]] = 1.\n",
        "    for t, char in enumerate(target_text):\n",
        "        # decoder_target_data is ahead of decoder_input_data by one timestep\n",
        "        decoder_input_data[i, t, target_token_index[char]] = 1.\n",
        "        if t > 0:\n",
        "            # decoder_target_data will be ahead by one timestep\n",
        "            # and will not include the start character.\n",
        "            decoder_target_data[i, t - 1, target_token_index[char]] = 1."
      ],
      "execution_count": 4,
      "outputs": [
        {
          "output_type": "stream",
          "text": [
            "Number of samples: 10000\n",
            "Number of unique input tokens: 70\n",
            "Number of unique output tokens: 93\n",
            "Max sequence length for inputs: 16\n",
            "Max sequence length for outputs: 59\n"
          ],
          "name": "stdout"
        }
      ]
    },
    {
      "metadata": {
        "id": "yJnc2Z2h35DT",
        "colab_type": "code",
        "colab": {
          "base_uri": "https://localhost:8080/",
          "height": 89
        },
        "outputId": "d34c53ed-f98f-4e72-ba7d-a1ae0f1dfd0b"
      },
      "cell_type": "code",
      "source": [
        "# Define an input sequence and process it.\n",
        "encoder_inputs = Input(shape=(None, num_encoder_tokens))\n",
        "encoder = LSTM(latent_dim, return_state=True)\n",
        "encoder_outputs, state_h, state_c = encoder(encoder_inputs)"
      ],
      "execution_count": 5,
      "outputs": [
        {
          "output_type": "stream",
          "text": [
            "WARNING:tensorflow:From /usr/local/lib/python3.6/dist-packages/tensorflow/python/framework/op_def_library.py:263: colocate_with (from tensorflow.python.framework.ops) is deprecated and will be removed in a future version.\n",
            "Instructions for updating:\n",
            "Colocations handled automatically by placer.\n"
          ],
          "name": "stdout"
        }
      ]
    },
    {
      "metadata": {
        "id": "ucr2oi9L4Xy_",
        "colab_type": "code",
        "colab": {}
      },
      "cell_type": "code",
      "source": [
        "# We discard `encoder_outputs` and only keep the states.\n",
        "encoder_states = [state_h, state_c]"
      ],
      "execution_count": 0,
      "outputs": []
    },
    {
      "metadata": {
        "id": "dV-RNoZj42MX",
        "colab_type": "code",
        "colab": {}
      },
      "cell_type": "code",
      "source": [
        "# Set up the decoder, using `encoder_states` as initial state.\n",
        "decoder_inputs = Input(shape=(None, num_decoder_tokens))\n",
        "# We set up our decoder to return full output sequences,\n",
        "# and to return internal states as well. We don't use the\n",
        "# return states in the training model, but we will use them in inference.\n",
        "decoder_lstm = LSTM(latent_dim, return_sequences=True, return_state=True)\n",
        "decoder_outputs, _, _ = decoder_lstm(decoder_inputs,\n",
        "                                     initial_state=encoder_states)\n",
        "decoder_dense = Dense(num_decoder_tokens, activation='softmax')\n",
        "decoder_outputs = decoder_dense(decoder_outputs)"
      ],
      "execution_count": 0,
      "outputs": []
    },
    {
      "metadata": {
        "id": "7EpHjueC45M0",
        "colab_type": "code",
        "colab": {}
      },
      "cell_type": "code",
      "source": [
        "# Define the model that will turn\n",
        "# `encoder_input_data` & `decoder_input_data` into `decoder_target_data`\n",
        "model = Model([encoder_inputs, decoder_inputs], decoder_outputs)"
      ],
      "execution_count": 0,
      "outputs": []
    },
    {
      "metadata": {
        "id": "xG0jcQAB47sM",
        "colab_type": "code",
        "colab": {
          "base_uri": "https://localhost:8080/",
          "height": 1857
        },
        "outputId": "7f340c80-dd34-45f7-fffb-caade8fb286c"
      },
      "cell_type": "code",
      "source": [
        "# Run training\n",
        "model.compile(optimizer='rmsprop', loss='categorical_crossentropy')\n",
        "model.fit([encoder_input_data, decoder_input_data], decoder_target_data,\n",
        "          batch_size=batch_size,\n",
        "          epochs=epochs,\n",
        "          validation_split=0.2)\n",
        "# Save model\n",
        "model.save('s2s.h5')"
      ],
      "execution_count": 0,
      "outputs": [
        {
          "output_type": "stream",
          "text": [
            "WARNING:tensorflow:From /usr/local/lib/python3.6/dist-packages/tensorflow/python/ops/math_ops.py:3066: to_int32 (from tensorflow.python.ops.math_ops) is deprecated and will be removed in a future version.\n",
            "Instructions for updating:\n",
            "Use tf.cast instead.\n",
            "WARNING:tensorflow:From /usr/local/lib/python3.6/dist-packages/tensorflow/python/ops/math_grad.py:102: div (from tensorflow.python.ops.math_ops) is deprecated and will be removed in a future version.\n",
            "Instructions for updating:\n",
            "Deprecated in favor of operator or tf.math.divide.\n",
            "Train on 8000 samples, validate on 2000 samples\n",
            "Epoch 1/100\n",
            "8000/8000 [==============================] - 60s 7ms/step - loss: 0.9136 - val_loss: 0.9187\n",
            "Epoch 2/100\n",
            "8000/8000 [==============================] - 60s 8ms/step - loss: 0.7218 - val_loss: 0.7667\n",
            "Epoch 3/100\n",
            "8000/8000 [==============================] - 60s 8ms/step - loss: 0.6137 - val_loss: 0.6803\n",
            "Epoch 4/100\n",
            "8000/8000 [==============================] - 61s 8ms/step - loss: 0.5599 - val_loss: 0.6259\n",
            "Epoch 5/100\n",
            "8000/8000 [==============================] - 60s 7ms/step - loss: 0.5230 - val_loss: 0.5935\n",
            "Epoch 6/100\n",
            "8000/8000 [==============================] - 59s 7ms/step - loss: 0.4925 - val_loss: 0.5626\n",
            "Epoch 7/100\n",
            "8000/8000 [==============================] - 59s 7ms/step - loss: 0.4662 - val_loss: 0.5435\n",
            "Epoch 8/100\n",
            "8000/8000 [==============================] - 59s 7ms/step - loss: 0.4440 - val_loss: 0.5245\n",
            "Epoch 9/100\n",
            "8000/8000 [==============================] - 60s 8ms/step - loss: 0.4242 - val_loss: 0.5022\n",
            "Epoch 10/100\n",
            "8000/8000 [==============================] - 61s 8ms/step - loss: 0.4063 - val_loss: 0.4918\n",
            "Epoch 11/100\n",
            "8000/8000 [==============================] - 60s 8ms/step - loss: 0.3906 - val_loss: 0.4920\n",
            "Epoch 12/100\n",
            "8000/8000 [==============================] - 61s 8ms/step - loss: 0.3758 - val_loss: 0.4738\n",
            "Epoch 13/100\n",
            "8000/8000 [==============================] - 60s 8ms/step - loss: 0.3622 - val_loss: 0.4677\n",
            "Epoch 14/100\n",
            "8000/8000 [==============================] - 60s 8ms/step - loss: 0.3494 - val_loss: 0.4616\n",
            "Epoch 15/100\n",
            "8000/8000 [==============================] - 61s 8ms/step - loss: 0.3371 - val_loss: 0.4559\n",
            "Epoch 16/100\n",
            "8000/8000 [==============================] - 60s 8ms/step - loss: 0.3256 - val_loss: 0.4563\n",
            "Epoch 17/100\n",
            "8000/8000 [==============================] - 61s 8ms/step - loss: 0.3150 - val_loss: 0.4494\n",
            "Epoch 18/100\n",
            "8000/8000 [==============================] - 59s 7ms/step - loss: 0.3045 - val_loss: 0.4456\n",
            "Epoch 19/100\n",
            "8000/8000 [==============================] - 60s 8ms/step - loss: 0.2944 - val_loss: 0.4460\n",
            "Epoch 20/100\n",
            "8000/8000 [==============================] - 60s 8ms/step - loss: 0.2851 - val_loss: 0.4429\n",
            "Epoch 21/100\n",
            "8000/8000 [==============================] - 60s 7ms/step - loss: 0.2757 - val_loss: 0.4440\n",
            "Epoch 22/100\n",
            "8000/8000 [==============================] - 59s 7ms/step - loss: 0.2674 - val_loss: 0.4462\n",
            "Epoch 23/100\n",
            "8000/8000 [==============================] - 59s 7ms/step - loss: 0.2588 - val_loss: 0.4378\n",
            "Epoch 24/100\n",
            "8000/8000 [==============================] - 59s 7ms/step - loss: 0.2510 - val_loss: 0.4463\n",
            "Epoch 25/100\n",
            "8000/8000 [==============================] - 60s 7ms/step - loss: 0.2435 - val_loss: 0.4441\n",
            "Epoch 26/100\n",
            "8000/8000 [==============================] - 60s 7ms/step - loss: 0.2363 - val_loss: 0.4469\n",
            "Epoch 27/100\n",
            "8000/8000 [==============================] - 59s 7ms/step - loss: 0.2290 - val_loss: 0.4494\n",
            "Epoch 28/100\n",
            "8000/8000 [==============================] - 59s 7ms/step - loss: 0.2227 - val_loss: 0.4504\n",
            "Epoch 29/100\n",
            "8000/8000 [==============================] - 58s 7ms/step - loss: 0.2161 - val_loss: 0.4521\n",
            "Epoch 30/100\n",
            "8000/8000 [==============================] - 59s 7ms/step - loss: 0.2098 - val_loss: 0.4571\n",
            "Epoch 31/100\n",
            "8000/8000 [==============================] - 59s 7ms/step - loss: 0.2042 - val_loss: 0.4590\n",
            "Epoch 32/100\n",
            "8000/8000 [==============================] - 59s 7ms/step - loss: 0.1984 - val_loss: 0.4623\n",
            "Epoch 33/100\n",
            "8000/8000 [==============================] - 61s 8ms/step - loss: 0.1932 - val_loss: 0.4707\n",
            "Epoch 34/100\n",
            "8000/8000 [==============================] - 59s 7ms/step - loss: 0.1880 - val_loss: 0.4725\n",
            "Epoch 35/100\n",
            "8000/8000 [==============================] - 60s 8ms/step - loss: 0.1826 - val_loss: 0.4698\n",
            "Epoch 36/100\n",
            "8000/8000 [==============================] - 60s 7ms/step - loss: 0.1780 - val_loss: 0.4771\n",
            "Epoch 37/100\n",
            "8000/8000 [==============================] - 59s 7ms/step - loss: 0.1732 - val_loss: 0.4797\n",
            "Epoch 38/100\n",
            "8000/8000 [==============================] - 60s 7ms/step - loss: 0.1693 - val_loss: 0.4865\n",
            "Epoch 39/100\n",
            "8000/8000 [==============================] - 59s 7ms/step - loss: 0.1646 - val_loss: 0.4857\n",
            "Epoch 40/100\n",
            "8000/8000 [==============================] - 59s 7ms/step - loss: 0.1610 - val_loss: 0.4954\n",
            "Epoch 41/100\n",
            "8000/8000 [==============================] - 59s 7ms/step - loss: 0.1570 - val_loss: 0.4958\n",
            "Epoch 42/100\n",
            "8000/8000 [==============================] - 59s 7ms/step - loss: 0.1532 - val_loss: 0.5044\n",
            "Epoch 43/100\n",
            "8000/8000 [==============================] - 58s 7ms/step - loss: 0.1497 - val_loss: 0.5059\n",
            "Epoch 44/100\n",
            "8000/8000 [==============================] - 60s 8ms/step - loss: 0.1461 - val_loss: 0.5103\n",
            "Epoch 45/100\n",
            "8000/8000 [==============================] - 60s 8ms/step - loss: 0.1426 - val_loss: 0.5118\n",
            "Epoch 46/100\n",
            "8000/8000 [==============================] - 60s 7ms/step - loss: 0.1396 - val_loss: 0.5220\n",
            "Epoch 47/100\n",
            "8000/8000 [==============================] - 60s 7ms/step - loss: 0.1360 - val_loss: 0.5309\n",
            "Epoch 48/100\n",
            "8000/8000 [==============================] - 60s 8ms/step - loss: 0.1338 - val_loss: 0.5285\n",
            "Epoch 49/100\n",
            "2880/8000 [=========>....................] - ETA: 36s - loss: 0.1275"
          ],
          "name": "stdout"
        }
      ]
    },
    {
      "metadata": {
        "id": "VLPqkinB4_Ez",
        "colab_type": "code",
        "colab": {}
      },
      "cell_type": "code",
      "source": [
        ""
      ],
      "execution_count": 0,
      "outputs": []
    }
  ]
}