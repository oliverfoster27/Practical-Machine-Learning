{
  "nbformat": 4,
  "nbformat_minor": 0,
  "metadata": {
    "colab": {
      "name": "C6 Autoencoder Stacked Exercise.ipynb",
      "version": "0.3.2",
      "provenance": [],
      "collapsed_sections": [],
      "include_colab_link": true
    },
    "kernelspec": {
      "name": "python3",
      "display_name": "Python 3"
    },
    "accelerator": "GPU"
  },
  "cells": [
    {
      "cell_type": "markdown",
      "metadata": {
        "id": "view-in-github",
        "colab_type": "text"
      },
      "source": [
        "<a href=\"https://colab.research.google.com/github/oliverfoster27/Practical-Machine-Learning/blob/master/Week%206/C6_Autoencoder_Stacked_Exercise.ipynb\" target=\"_parent\"><img src=\"https://colab.research.google.com/assets/colab-badge.svg\" alt=\"Open In Colab\"/></a>"
      ]
    },
    {
      "metadata": {
        "id": "tHHxoM1EX3Es",
        "colab_type": "text"
      },
      "cell_type": "markdown",
      "source": [
        "# MNIST Autoencoder\n",
        "### Directives\n",
        "* Create the autoencoders described below, you can play with the topology, those are just starting points\n",
        "* Use GPU runtime\n",
        "* Print 10 inputs and their associated outputs\n",
        "* Don't forget to normalize your data\n",
        "* Use the Functional API for Keras\n",
        "\n",
        "### Autoencoders to build\n",
        "1. Stacked 784 - 392 - 196 - 392 - 784\n",
        "2. Convolutional Encoder (conv, maxpool, conv, maxpool, conv, maxpool). Decoder (conv, upsample2d, conv, upsample2d, conv, upsample2d, conv)\n"
      ]
    },
    {
      "metadata": {
        "id": "qi7pVvY7S4nK",
        "colab_type": "code",
        "outputId": "17ca51d4-2fcf-439c-eea5-81970a3ddcfc",
        "colab": {
          "base_uri": "https://localhost:8080/",
          "height": 69
        }
      },
      "cell_type": "code",
      "source": [
        "from keras.datasets import mnist\n",
        "import numpy as np\n",
        "import matplotlib.pyplot as plt\n",
        "\n",
        "(X_train, _), (X_test, _) = mnist.load_data()\n",
        "all_data = np.concatenate((X_train, X_test))\n",
        "all_data.shape"
      ],
      "execution_count": 3,
      "outputs": [
        {
          "output_type": "stream",
          "text": [
            "Downloading data from https://s3.amazonaws.com/img-datasets/mnist.npz\n",
            "11493376/11490434 [==============================] - 0s 0us/step\n"
          ],
          "name": "stdout"
        },
        {
          "output_type": "execute_result",
          "data": {
            "text/plain": [
              "(70000, 28, 28)"
            ]
          },
          "metadata": {
            "tags": []
          },
          "execution_count": 3
        }
      ]
    },
    {
      "metadata": {
        "id": "CQMSlPm-aiKW",
        "colab_type": "code",
        "colab": {}
      },
      "cell_type": "code",
      "source": [
        "def print_first_9(data):\n",
        "  fig = plt.figure()\n",
        "  for i in range(9):\n",
        "    plt.subplot(3,3,i+1)\n",
        "    plt.tight_layout()\n",
        "    plt.imshow(data[i], interpolation='none')\n",
        "    plt.title(\"Digit: {}\".format(i))\n",
        "    plt.xticks([])\n",
        "    plt.yticks([])"
      ],
      "execution_count": 0,
      "outputs": []
    },
    {
      "metadata": {
        "id": "U2x5RY7kawvp",
        "colab_type": "code",
        "outputId": "974bcd58-ea69-4246-db1a-64b6fd17671d",
        "colab": {
          "base_uri": "https://localhost:8080/",
          "height": 285
        }
      },
      "cell_type": "code",
      "source": [
        "print_first_9(all_data[-9:])"
      ],
      "execution_count": 5,
      "outputs": [
        {
          "output_type": "display_data",
          "data": {
            "image/png": "[encoded data removed]",
            "text/plain": [
              "<Figure size 432x288 with 9 Axes>"
            ]
          },
          "metadata": {
            "tags": []
          }
        }
      ]
    },
    {
      "metadata": {
        "id": "i_NbpkkBbyls",
        "colab_type": "code",
        "colab": {
          "base_uri": "https://localhost:8080/",
          "height": 35
        },
        "outputId": "cfec099c-869a-43a7-8c06-6781aa30865e"
      },
      "cell_type": "code",
      "source": [
        "X_train = X_train.reshape(-1, 28, 28, 1)\n",
        "X_test = X_test.reshape(-1, 28, 28, 1)\n",
        "X_train.shape, X_test.shape"
      ],
      "execution_count": 6,
      "outputs": [
        {
          "output_type": "execute_result",
          "data": {
            "text/plain": [
              "((60000, 28, 28, 1), (10000, 28, 28, 1))"
            ]
          },
          "metadata": {
            "tags": []
          },
          "execution_count": 6
        }
      ]
    },
    {
      "metadata": {
        "id": "yRO9N5G-XVR8",
        "colab_type": "code",
        "colab": {}
      },
      "cell_type": "code",
      "source": [
        "from keras.layers import Dense, Flatten, Conv2D, MaxPool2D, Dropout, BatchNormalization, UpSampling2D\n",
        "from keras.models import Sequential\n",
        "from keras.optimizers import Adam\n",
        "from keras.callbacks import EarlyStopping\n",
        "from keras import regularizers\n",
        "import math\n",
        "import keras.backend as K"
      ],
      "execution_count": 0,
      "outputs": []
    },
    {
      "metadata": {
        "id": "5Ey1devUXeqd",
        "colab_type": "code",
        "colab": {
          "base_uri": "https://localhost:8080/",
          "height": 3345
        },
        "outputId": "70e362bf-b08b-45f2-fbcd-f0103d0e8fd0"
      },
      "cell_type": "code",
      "source": [
        "K.clear_session()\n",
        "\n",
        "model = Sequential()\n",
        "\n",
        "'''\n",
        "Encoder:\n",
        "'''\n",
        "model.add(Conv2D(8, (3, 3), activation='relu', padding='same', input_shape=(28, 28, 1)))\n",
        "model.add(MaxPool2D(pool_size=(2, 2)))\n",
        "model.add(Dropout(0.2))\n",
        "\n",
        "model.add(Conv2D(4, (3, 3), padding='same', activation='relu'))\n",
        "model.add(MaxPool2D(pool_size=(2, 2)))\n",
        "\n",
        "'''\n",
        "Decoder:\n",
        "'''\n",
        "model.add(Conv2D(4, (3, 3), padding='same', activation='relu'))\n",
        "model.add(UpSampling2D(size=(2, 2)))\n",
        "model.add(Dropout(0.2))\n",
        "\n",
        "model.add(Conv2D(8, (3, 3),  padding='same', activation='relu'))\n",
        "model.add(UpSampling2D(size=(2, 2)))\n",
        "model.add(Dropout(0.3))\n",
        "\n",
        "'''\n",
        "Output:\n",
        "'''\n",
        "model.add(Conv2D(1, (3, 3),  padding='same',activation='relu'))\n",
        "\n",
        "optimizer = Adam(lr=10e-6)\n",
        "model.compile(optimizer=optimizer,\n",
        "              loss='mean_squared_error')\n",
        "\n",
        "model.summary()\n",
        "\n",
        "h = model.fit(X_train, X_train, batch_size=128, epochs=80, \n",
        "              verbose=1, validation_split=0.3)"
      ],
      "execution_count": 10,
      "outputs": [
        {
          "output_type": "stream",
          "text": [
            "_________________________________________________________________\n",
            "Layer (type)                 Output Shape              Param #   \n",
            "=================================================================\n",
            "conv2d_1 (Conv2D)            (None, 28, 28, 8)         80        \n",
            "_________________________________________________________________\n",
            "max_pooling2d_1 (MaxPooling2 (None, 14, 14, 8)         0         \n",
            "_________________________________________________________________\n",
            "dropout_1 (Dropout)          (None, 14, 14, 8)         0         \n",
            "_________________________________________________________________\n",
            "conv2d_2 (Conv2D)            (None, 14, 14, 4)         292       \n",
            "_________________________________________________________________\n",
            "max_pooling2d_2 (MaxPooling2 (None, 7, 7, 4)           0         \n",
            "_________________________________________________________________\n",
            "conv2d_3 (Conv2D)            (None, 7, 7, 4)           148       \n",
            "_________________________________________________________________\n",
            "up_sampling2d_1 (UpSampling2 (None, 14, 14, 4)         0         \n",
            "_________________________________________________________________\n",
            "dropout_2 (Dropout)          (None, 14, 14, 4)         0         \n",
            "_________________________________________________________________\n",
            "conv2d_4 (Conv2D)            (None, 14, 14, 8)         296       \n",
            "_________________________________________________________________\n",
            "up_sampling2d_2 (UpSampling2 (None, 28, 28, 8)         0         \n",
            "_________________________________________________________________\n",
            "dropout_3 (Dropout)          (None, 28, 28, 8)         0         \n",
            "_________________________________________________________________\n",
            "conv2d_5 (Conv2D)            (None, 28, 28, 1)         73        \n",
            "=================================================================\n",
            "Total params: 889\n",
            "Trainable params: 889\n",
            "Non-trainable params: 0\n",
            "_________________________________________________________________\n",
            "Train on 42000 samples, validate on 18000 samples\n",
            "Epoch 1/80\n",
            "42000/42000 [==============================] - 5s 113us/step - loss: 5969.3128 - val_loss: 5522.4664\n",
            "Epoch 2/80\n",
            "42000/42000 [==============================] - 4s 103us/step - loss: 5525.1238 - val_loss: 4979.8473\n",
            "Epoch 3/80\n",
            "42000/42000 [==============================] - 4s 101us/step - loss: 5195.8567 - val_loss: 4613.0602\n",
            "Epoch 4/80\n",
            "42000/42000 [==============================] - 4s 100us/step - loss: 4957.2609 - val_loss: 4367.5497\n",
            "Epoch 5/80\n",
            "42000/42000 [==============================] - 4s 100us/step - loss: 4760.7049 - val_loss: 4173.9143\n",
            "Epoch 6/80\n",
            "42000/42000 [==============================] - 4s 100us/step - loss: 4587.8368 - val_loss: 4005.0916\n",
            "Epoch 7/80\n",
            "42000/42000 [==============================] - 4s 101us/step - loss: 4431.8837 - val_loss: 3848.4548\n",
            "Epoch 8/80\n",
            "42000/42000 [==============================] - 4s 101us/step - loss: 4284.1142 - val_loss: 3697.2066\n",
            "Epoch 9/80\n",
            "42000/42000 [==============================] - 4s 101us/step - loss: 4143.7121 - val_loss: 3556.3853\n",
            "Epoch 10/80\n",
            "42000/42000 [==============================] - 4s 101us/step - loss: 4013.7211 - val_loss: 3425.9649\n",
            "Epoch 11/80\n",
            "42000/42000 [==============================] - 4s 101us/step - loss: 3894.9761 - val_loss: 3303.8947\n",
            "Epoch 12/80\n",
            "42000/42000 [==============================] - 4s 101us/step - loss: 3782.8173 - val_loss: 3199.1863\n",
            "Epoch 13/80\n",
            "42000/42000 [==============================] - 4s 101us/step - loss: 3681.7176 - val_loss: 3097.8587\n",
            "Epoch 14/80\n",
            "42000/42000 [==============================] - 4s 100us/step - loss: 3587.5389 - val_loss: 3007.7796\n",
            "Epoch 15/80\n",
            "42000/42000 [==============================] - 4s 100us/step - loss: 3503.7150 - val_loss: 2927.5770\n",
            "Epoch 16/80\n",
            "42000/42000 [==============================] - 4s 101us/step - loss: 3424.7413 - val_loss: 2853.1104\n",
            "Epoch 17/80\n",
            "42000/42000 [==============================] - 4s 101us/step - loss: 3349.8682 - val_loss: 2781.3796\n",
            "Epoch 18/80\n",
            "42000/42000 [==============================] - 4s 100us/step - loss: 3279.4016 - val_loss: 2713.1536\n",
            "Epoch 19/80\n",
            "42000/42000 [==============================] - 4s 100us/step - loss: 3211.3441 - val_loss: 2647.9320\n",
            "Epoch 20/80\n",
            "42000/42000 [==============================] - 4s 101us/step - loss: 3146.7935 - val_loss: 2581.3880\n",
            "Epoch 21/80\n",
            "42000/42000 [==============================] - 4s 101us/step - loss: 3085.8073 - val_loss: 2520.5527\n",
            "Epoch 22/80\n",
            "42000/42000 [==============================] - 4s 101us/step - loss: 3029.1144 - val_loss: 2454.4141\n",
            "Epoch 23/80\n",
            "42000/42000 [==============================] - 4s 100us/step - loss: 2971.6724 - val_loss: 2399.4522\n",
            "Epoch 24/80\n",
            "42000/42000 [==============================] - 4s 101us/step - loss: 2920.4927 - val_loss: 2345.9848\n",
            "Epoch 25/80\n",
            "42000/42000 [==============================] - 4s 101us/step - loss: 2872.6488 - val_loss: 2295.5598\n",
            "Epoch 26/80\n",
            "42000/42000 [==============================] - 4s 100us/step - loss: 2828.8428 - val_loss: 2249.6306\n",
            "Epoch 27/80\n",
            "42000/42000 [==============================] - 4s 100us/step - loss: 2786.5277 - val_loss: 2206.9288\n",
            "Epoch 28/80\n",
            "42000/42000 [==============================] - 4s 101us/step - loss: 2748.0056 - val_loss: 2173.3418\n",
            "Epoch 29/80\n",
            "42000/42000 [==============================] - 4s 101us/step - loss: 2710.8619 - val_loss: 2131.8740\n",
            "Epoch 30/80\n",
            "42000/42000 [==============================] - 4s 101us/step - loss: 2676.5806 - val_loss: 2098.7241\n",
            "Epoch 31/80\n",
            "42000/42000 [==============================] - 4s 100us/step - loss: 2644.4200 - val_loss: 2068.2802\n",
            "Epoch 32/80\n",
            "42000/42000 [==============================] - 4s 101us/step - loss: 2612.5005 - val_loss: 2038.7985\n",
            "Epoch 33/80\n",
            "42000/42000 [==============================] - 4s 101us/step - loss: 2581.3614 - val_loss: 2012.6174\n",
            "Epoch 34/80\n",
            "42000/42000 [==============================] - 4s 101us/step - loss: 2552.1419 - val_loss: 1987.0117\n",
            "Epoch 35/80\n",
            "42000/42000 [==============================] - 4s 101us/step - loss: 2525.6238 - val_loss: 1963.1807\n",
            "Epoch 36/80\n",
            "42000/42000 [==============================] - 4s 101us/step - loss: 2498.5811 - val_loss: 1940.8239\n",
            "Epoch 37/80\n",
            "42000/42000 [==============================] - 4s 100us/step - loss: 2473.4872 - val_loss: 1917.2818\n",
            "Epoch 38/80\n",
            "42000/42000 [==============================] - 4s 101us/step - loss: 2453.3305 - val_loss: 1892.4870\n",
            "Epoch 39/80\n",
            "42000/42000 [==============================] - 4s 101us/step - loss: 2425.9519 - val_loss: 1873.7297\n",
            "Epoch 40/80\n",
            "42000/42000 [==============================] - 4s 101us/step - loss: 2406.3147 - val_loss: 1854.6097\n",
            "Epoch 41/80\n",
            "42000/42000 [==============================] - 4s 100us/step - loss: 2383.0544 - val_loss: 1834.2536\n",
            "Epoch 42/80\n",
            "42000/42000 [==============================] - 4s 101us/step - loss: 2361.2264 - val_loss: 1818.8701\n",
            "Epoch 43/80\n",
            "42000/42000 [==============================] - 4s 101us/step - loss: 2341.8345 - val_loss: 1800.9954\n",
            "Epoch 44/80\n",
            "42000/42000 [==============================] - 4s 101us/step - loss: 2322.3373 - val_loss: 1780.7050\n",
            "Epoch 45/80\n",
            "42000/42000 [==============================] - 4s 101us/step - loss: 2302.3796 - val_loss: 1766.0378\n",
            "Epoch 46/80\n",
            "42000/42000 [==============================] - 4s 101us/step - loss: 2285.5764 - val_loss: 1748.8912\n",
            "Epoch 47/80\n",
            "42000/42000 [==============================] - 4s 101us/step - loss: 2265.7815 - val_loss: 1731.9507\n",
            "Epoch 48/80\n",
            "42000/42000 [==============================] - 4s 101us/step - loss: 2248.7299 - val_loss: 1715.1517\n",
            "Epoch 49/80\n",
            "42000/42000 [==============================] - 4s 101us/step - loss: 2230.8161 - val_loss: 1699.0589\n",
            "Epoch 50/80\n",
            "42000/42000 [==============================] - 4s 101us/step - loss: 2220.8365 - val_loss: 1688.2298\n",
            "Epoch 51/80\n",
            "42000/42000 [==============================] - 4s 101us/step - loss: 2204.9988 - val_loss: 1673.6567\n",
            "Epoch 52/80\n",
            "42000/42000 [==============================] - 4s 101us/step - loss: 2186.6165 - val_loss: 1660.4251\n",
            "Epoch 53/80\n",
            "42000/42000 [==============================] - 4s 101us/step - loss: 2169.7895 - val_loss: 1645.3284\n",
            "Epoch 54/80\n",
            "42000/42000 [==============================] - 4s 102us/step - loss: 2155.9132 - val_loss: 1634.0838\n",
            "Epoch 55/80\n",
            "42000/42000 [==============================] - 4s 101us/step - loss: 2144.6043 - val_loss: 1624.7330\n",
            "Epoch 56/80\n",
            "42000/42000 [==============================] - 4s 101us/step - loss: 2130.2747 - val_loss: 1606.4631\n",
            "Epoch 57/80\n",
            "42000/42000 [==============================] - 4s 102us/step - loss: 2115.6544 - val_loss: 1598.7382\n",
            "Epoch 58/80\n",
            "42000/42000 [==============================] - 4s 101us/step - loss: 2101.6632 - val_loss: 1582.5243\n",
            "Epoch 59/80\n",
            "42000/42000 [==============================] - 4s 101us/step - loss: 2093.6210 - val_loss: 1572.4309\n",
            "Epoch 60/80\n",
            "42000/42000 [==============================] - 4s 101us/step - loss: 2079.0208 - val_loss: 1562.0964\n",
            "Epoch 61/80\n",
            "42000/42000 [==============================] - 4s 101us/step - loss: 2065.9033 - val_loss: 1549.7428\n",
            "Epoch 62/80\n",
            "42000/42000 [==============================] - 4s 101us/step - loss: 2056.8811 - val_loss: 1541.7305\n",
            "Epoch 63/80\n",
            "42000/42000 [==============================] - 4s 101us/step - loss: 2046.6194 - val_loss: 1530.0722\n",
            "Epoch 64/80\n",
            "42000/42000 [==============================] - 4s 101us/step - loss: 2035.4196 - val_loss: 1521.0069\n",
            "Epoch 65/80\n",
            "42000/42000 [==============================] - 4s 101us/step - loss: 2022.5384 - val_loss: 1507.8281\n",
            "Epoch 66/80\n",
            "42000/42000 [==============================] - 4s 101us/step - loss: 2014.6766 - val_loss: 1501.9129\n",
            "Epoch 67/80\n",
            "42000/42000 [==============================] - 4s 101us/step - loss: 2003.2746 - val_loss: 1492.4747\n",
            "Epoch 68/80\n",
            "42000/42000 [==============================] - 4s 101us/step - loss: 1993.8215 - val_loss: 1485.6208\n",
            "Epoch 69/80\n",
            "42000/42000 [==============================] - 4s 101us/step - loss: 1982.3056 - val_loss: 1475.9252\n",
            "Epoch 70/80\n",
            "42000/42000 [==============================] - 4s 101us/step - loss: 1974.2480 - val_loss: 1463.2003\n",
            "Epoch 71/80\n",
            "42000/42000 [==============================] - 4s 100us/step - loss: 1963.6302 - val_loss: 1457.9092\n",
            "Epoch 72/80\n",
            "42000/42000 [==============================] - 4s 100us/step - loss: 1954.9195 - val_loss: 1448.6126\n",
            "Epoch 73/80\n",
            "42000/42000 [==============================] - 4s 101us/step - loss: 1948.0257 - val_loss: 1443.9200\n",
            "Epoch 74/80\n",
            "42000/42000 [==============================] - 4s 101us/step - loss: 1940.7427 - val_loss: 1434.5091\n",
            "Epoch 75/80\n",
            "42000/42000 [==============================] - 4s 101us/step - loss: 1930.0494 - val_loss: 1424.0427\n",
            "Epoch 76/80\n",
            "42000/42000 [==============================] - 4s 101us/step - loss: 1923.9807 - val_loss: 1416.7374\n",
            "Epoch 77/80\n",
            "42000/42000 [==============================] - 4s 101us/step - loss: 1915.2383 - val_loss: 1410.6601\n",
            "Epoch 78/80\n",
            "42000/42000 [==============================] - 4s 101us/step - loss: 1906.8052 - val_loss: 1400.8637\n",
            "Epoch 79/80\n",
            "42000/42000 [==============================] - 4s 101us/step - loss: 1898.4376 - val_loss: 1398.1281\n",
            "Epoch 80/80\n",
            "42000/42000 [==============================] - 4s 100us/step - loss: 1890.2382 - val_loss: 1389.9098\n"
          ],
          "name": "stdout"
        }
      ]
    },
    {
      "metadata": {
        "id": "ANgxNw40ZnGJ",
        "colab_type": "code",
        "colab": {}
      },
      "cell_type": "code",
      "source": [
        "test_encoded = model.predict(X_test)[:, :, :, 0]"
      ],
      "execution_count": 0,
      "outputs": []
    },
    {
      "metadata": {
        "id": "pZQAXf6Rgtbr",
        "colab_type": "code",
        "colab": {
          "base_uri": "https://localhost:8080/",
          "height": 285
        },
        "outputId": "f455b232-ec78-4b4e-ad13-da2cd8eca47a"
      },
      "cell_type": "code",
      "source": [
        "# View the auto-encoded data:\n",
        "print_first_9(test_encoded)"
      ],
      "execution_count": 22,
      "outputs": [
        {
          "output_type": "display_data",
          "data": {
            "image/png": "[encoded data removed]",
            "text/plain": [
              "<Figure size 432x288 with 9 Axes>"
            ]
          },
          "metadata": {
            "tags": []
          }
        }
      ]
    },
    {
      "metadata": {
        "id": "QUFj1xqzhZkU",
        "colab_type": "code",
        "colab": {
          "base_uri": "https://localhost:8080/",
          "height": 285
        },
        "outputId": "8a228f17-dc8d-45bb-e659-3c5525f00cf9"
      },
      "cell_type": "code",
      "source": [
        "# View the real data:\n",
        "print_first_9(X_test[:, :, :, 0])"
      ],
      "execution_count": 24,
      "outputs": [
        {
          "output_type": "display_data",
          "data": {
            "image/png": "[encoded data removed]",
            "text/plain": [
              "<Figure size 432x288 with 9 Axes>"
            ]
          },
          "metadata": {
            "tags": []
          }
        }
      ]
    },
    {
      "metadata": {
        "id": "66OTEzMRhz4V",
        "colab_type": "code",
        "colab": {}
      },
      "cell_type": "code",
      "source": [
        ""
      ],
      "execution_count": 0,
      "outputs": []
    }
  ]
}