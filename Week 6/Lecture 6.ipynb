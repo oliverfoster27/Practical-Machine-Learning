{
 "cells": [
  {
   "cell_type": "markdown",
   "metadata": {},
   "source": [
    "# Lecture 6"
   ]
  },
  {
   "cell_type": "markdown",
   "metadata": {},
   "source": [
    "LMS is down today - class is following on whiteboard & reading the slides"
   ]
  },
  {
   "cell_type": "markdown",
   "metadata": {},
   "source": [
    "Notes:\n",
    "- RNN cells contains a history of the series up untill this point in time\n",
    "- Synapses in your brain give you the ability to do things (think of weights)\n",
    "- Activations in your brain defines your path through the synapses (think of history in RNN neuron)\n",
    "- LSTMs are very dangerous... it can remember a lot of information in very few digits...\n",
    "    - Imagine google auto-complete fills in \"Dear Mr President the activation code is...\" and it outputs the code it's remembered from the email that was seeded this way sent to the president\n",
    "- Vanishing and exploding gradients are a big problem in RNNs\n",
    "- You can use character encoding in RNNs instead of the more-common word encoding"
   ]
  },
  {
   "cell_type": "code",
   "execution_count": null,
   "metadata": {},
   "outputs": [],
   "source": []
  }
 ],
 "metadata": {
  "kernelspec": {
   "display_name": "Python 3",
   "language": "python",
   "name": "python3"
  },
  "language_info": {
   "codemirror_mode": {
    "name": "ipython",
    "version": 3
   },
   "file_extension": ".py",
   "mimetype": "text/x-python",
   "name": "python",
   "nbconvert_exporter": "python",
   "pygments_lexer": "ipython3",
   "version": "3.7.2"
  }
 },
 "nbformat": 4,
 "nbformat_minor": 2
}
