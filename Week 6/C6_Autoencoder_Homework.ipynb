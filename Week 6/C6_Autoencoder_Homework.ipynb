{
 "cells": [
  {
   "cell_type": "markdown",
   "metadata": {
    "colab_type": "text",
    "id": "view-in-github"
   },
   "source": [
    "<a href=\"https://colab.research.google.com/github/oliverfoster27/Practical-Machine-Learning/blob/master/Week%206/C6_Autoencoder_Homework.ipynb\" target=\"_parent\"><img src=\"https://colab.research.google.com/assets/colab-badge.svg\" alt=\"Open In Colab\"/></a>"
   ]
  },
  {
   "cell_type": "markdown",
   "metadata": {
    "colab_type": "text",
    "id": "2vtKx-Iafqvx"
   },
   "source": [
    "# Fashion MNIST Autoencoder\n",
    "### Directives\n",
    "* Create the autoencoders described below, you can play with the topology, those are just starting points\n",
    "* Use GPU runtime\n",
    "* Print 10 inputs and their associated outputs\n",
    "* Don't forget to normalize your data\n",
    "* Use the Functional API for Keras\n",
    "* Plot the model loss over time\n",
    "\n",
    "### Autoencoders to build\n",
    "1. Stacked\n",
    "2. Convolutional Encoder\n",
    "\n",
    "#### Don't worry if the data you generate looks bad. This is just an exercise, we can't really measure performance on an unsupervised task"
   ]
  },
  {
   "cell_type": "code",
   "execution_count": 31,
   "metadata": {
    "colab": {
     "base_uri": "https://localhost:8080/",
     "height": 35
    },
    "colab_type": "code",
    "id": "Y3oP_kEffiFK",
    "outputId": "60ad5b93-f205-4eeb-d253-ba01bf201049"
   },
   "outputs": [
    {
     "data": {
      "text/plain": [
       "(70000, 28, 28)"
      ]
     },
     "execution_count": 31,
     "metadata": {
      "tags": []
     },
     "output_type": "execute_result"
    }
   ],
   "source": [
    "from keras.datasets import fashion_mnist\n",
    "import numpy as np\n",
    "import matplotlib.pyplot as plt\n",
    "\n",
    "(X_train, _), (X_test, _) = fashion_mnist.load_data()\n",
    "all_data = np.concatenate((X_train, X_test))\n",
    "all_data.shape"
   ]
  },
  {
   "cell_type": "code",
   "execution_count": 0,
   "metadata": {
    "colab": {},
    "colab_type": "code",
    "id": "NTWicY38gNF1"
   },
   "outputs": [],
   "source": [
    "def print_first_9(data):\n",
    "  fig = plt.figure()\n",
    "  for i in range(9):\n",
    "    plt.subplot(3,3,i+1)\n",
    "    plt.tight_layout()\n",
    "    plt.imshow(data[i], interpolation='none')\n",
    "    plt.title(\"Digit: {}\".format(i))\n",
    "    plt.xticks([])\n",
    "    plt.yticks([])"
   ]
  },
  {
   "cell_type": "code",
   "execution_count": 33,
   "metadata": {
    "colab": {
     "base_uri": "https://localhost:8080/",
     "height": 285
    },
    "colab_type": "code",
    "id": "ZBn4aAgLgROq",
    "outputId": "efd7e5c8-ad58-41d2-dc06-e982b9fdb55a"
   },
   "outputs": [
    {
     "data": {
      "image/png": "[encoded data removed]",
      "text/plain": [
       "<Figure size 432x288 with 9 Axes>"
      ]
     },
     "metadata": {
      "tags": []
     },
     "output_type": "display_data"
    }
   ],
   "source": [
    "print_first_9(all_data[-9:])"
   ]
  },
  {
   "cell_type": "code",
   "execution_count": 0,
   "metadata": {
    "colab": {},
    "colab_type": "code",
    "id": "I1vYVa8FgTmh"
   },
   "outputs": [],
   "source": [
    "from keras.layers import Dense, Flatten, Conv2D, MaxPool2D, Dropout, BatchNormalization, UpSampling2D\n",
    "from keras.models import Sequential\n",
    "from keras.optimizers import Adam\n",
    "from keras.callbacks import EarlyStopping\n",
    "from keras import regularizers\n",
    "import math\n",
    "import keras.backend as K"
   ]
  },
  {
   "cell_type": "markdown",
   "metadata": {
    "colab_type": "text",
    "id": "8ADPbv1QvCME"
   },
   "source": [
    "# Stacked Autoencoder"
   ]
  },
  {
   "cell_type": "code",
   "execution_count": 35,
   "metadata": {
    "colab": {
     "base_uri": "https://localhost:8080/",
     "height": 3189
    },
    "colab_type": "code",
    "id": "-jicBq1Gt5iD",
    "outputId": "98734cf9-95b4-4717-e7c7-e993148b1228"
   },
   "outputs": [
    {
     "name": "stdout",
     "output_type": "stream",
     "text": [
      "(60000, 784) (10000, 784)\n",
      "_________________________________________________________________\n",
      "Layer (type)                 Output Shape              Param #   \n",
      "=================================================================\n",
      "dense_1 (Dense)              (None, 200)               157000    \n",
      "_________________________________________________________________\n",
      "dropout_1 (Dropout)          (None, 200)               0         \n",
      "_________________________________________________________________\n",
      "dense_2 (Dense)              (None, 10)                2010      \n",
      "_________________________________________________________________\n",
      "dense_3 (Dense)              (None, 10)                110       \n",
      "_________________________________________________________________\n",
      "dropout_2 (Dropout)          (None, 10)                0         \n",
      "_________________________________________________________________\n",
      "dense_4 (Dense)              (None, 200)               2200      \n",
      "_________________________________________________________________\n",
      "dense_5 (Dense)              (None, 784)               157584    \n",
      "=================================================================\n",
      "Total params: 318,904\n",
      "Trainable params: 318,904\n",
      "Non-trainable params: 0\n",
      "_________________________________________________________________\n",
      "Train on 42000 samples, validate on 18000 samples\n",
      "Epoch 1/80\n",
      "42000/42000 [==============================] - 2s 48us/step - loss: 0.1596 - val_loss: 0.1229\n",
      "Epoch 2/80\n",
      "42000/42000 [==============================] - 2s 42us/step - loss: 0.1090 - val_loss: 0.0905\n",
      "Epoch 3/80\n",
      "42000/42000 [==============================] - 2s 42us/step - loss: 0.0908 - val_loss: 0.0811\n",
      "Epoch 4/80\n",
      "42000/42000 [==============================] - 2s 42us/step - loss: 0.0821 - val_loss: 0.0737\n",
      "Epoch 5/80\n",
      "42000/42000 [==============================] - 2s 41us/step - loss: 0.0751 - val_loss: 0.0678\n",
      "Epoch 6/80\n",
      "42000/42000 [==============================] - 2s 42us/step - loss: 0.0702 - val_loss: 0.0642\n",
      "Epoch 7/80\n",
      "42000/42000 [==============================] - 2s 42us/step - loss: 0.0671 - val_loss: 0.0619\n",
      "Epoch 8/80\n",
      "42000/42000 [==============================] - 2s 47us/step - loss: 0.0647 - val_loss: 0.0599\n",
      "Epoch 9/80\n",
      "42000/42000 [==============================] - 2s 47us/step - loss: 0.0623 - val_loss: 0.0585\n",
      "Epoch 10/80\n",
      "42000/42000 [==============================] - 2s 47us/step - loss: 0.0610 - val_loss: 0.0576\n",
      "Epoch 11/80\n",
      "42000/42000 [==============================] - 2s 47us/step - loss: 0.0600 - val_loss: 0.0569\n",
      "Epoch 12/80\n",
      "42000/42000 [==============================] - 2s 47us/step - loss: 0.0590 - val_loss: 0.0560\n",
      "Epoch 13/80\n",
      "42000/42000 [==============================] - 2s 43us/step - loss: 0.0578 - val_loss: 0.0555\n",
      "Epoch 14/80\n",
      "42000/42000 [==============================] - 2s 41us/step - loss: 0.0574 - val_loss: 0.0551\n",
      "Epoch 15/80\n",
      "42000/42000 [==============================] - 2s 41us/step - loss: 0.0564 - val_loss: 0.0546\n",
      "Epoch 16/80\n",
      "42000/42000 [==============================] - 2s 42us/step - loss: 0.0562 - val_loss: 0.0546\n",
      "Epoch 17/80\n",
      "42000/42000 [==============================] - 2s 42us/step - loss: 0.0557 - val_loss: 0.0541\n",
      "Epoch 18/80\n",
      "42000/42000 [==============================] - 2s 41us/step - loss: 0.0554 - val_loss: 0.0539\n",
      "Epoch 19/80\n",
      "42000/42000 [==============================] - 2s 42us/step - loss: 0.0550 - val_loss: 0.0535\n",
      "Epoch 20/80\n",
      "42000/42000 [==============================] - 2s 42us/step - loss: 0.0545 - val_loss: 0.0528\n",
      "Epoch 21/80\n",
      "42000/42000 [==============================] - 2s 41us/step - loss: 0.0542 - val_loss: 0.0527\n",
      "Epoch 22/80\n",
      "42000/42000 [==============================] - 2s 41us/step - loss: 0.0538 - val_loss: 0.0524\n",
      "Epoch 23/80\n",
      "42000/42000 [==============================] - 2s 42us/step - loss: 0.0535 - val_loss: 0.0518\n",
      "Epoch 24/80\n",
      "42000/42000 [==============================] - 2s 42us/step - loss: 0.0531 - val_loss: 0.0515\n",
      "Epoch 25/80\n",
      "42000/42000 [==============================] - 2s 42us/step - loss: 0.0530 - val_loss: 0.0512\n",
      "Epoch 26/80\n",
      "42000/42000 [==============================] - 2s 42us/step - loss: 0.0527 - val_loss: 0.0513\n",
      "Epoch 27/80\n",
      "42000/42000 [==============================] - 2s 42us/step - loss: 0.0523 - val_loss: 0.0509\n",
      "Epoch 28/80\n",
      "42000/42000 [==============================] - 2s 41us/step - loss: 0.0519 - val_loss: 0.0508\n",
      "Epoch 29/80\n",
      "42000/42000 [==============================] - 2s 41us/step - loss: 0.0518 - val_loss: 0.0505\n",
      "Epoch 30/80\n",
      "42000/42000 [==============================] - 2s 42us/step - loss: 0.0514 - val_loss: 0.0498\n",
      "Epoch 31/80\n",
      "42000/42000 [==============================] - 2s 42us/step - loss: 0.0505 - val_loss: 0.0494\n",
      "Epoch 32/80\n",
      "42000/42000 [==============================] - 2s 42us/step - loss: 0.0503 - val_loss: 0.0492\n",
      "Epoch 33/80\n",
      "42000/42000 [==============================] - 2s 41us/step - loss: 0.0495 - val_loss: 0.0481\n",
      "Epoch 34/80\n",
      "42000/42000 [==============================] - 2s 42us/step - loss: 0.0494 - val_loss: 0.0479\n",
      "Epoch 35/80\n",
      "42000/42000 [==============================] - 2s 41us/step - loss: 0.0489 - val_loss: 0.0479\n",
      "Epoch 36/80\n",
      "42000/42000 [==============================] - 2s 42us/step - loss: 0.0489 - val_loss: 0.0476\n",
      "Epoch 37/80\n",
      "42000/42000 [==============================] - 2s 42us/step - loss: 0.0485 - val_loss: 0.0473\n",
      "Epoch 38/80\n",
      "42000/42000 [==============================] - 2s 42us/step - loss: 0.0483 - val_loss: 0.0470\n",
      "Epoch 39/80\n",
      "42000/42000 [==============================] - 2s 41us/step - loss: 0.0481 - val_loss: 0.0468\n",
      "Epoch 40/80\n",
      "42000/42000 [==============================] - 2s 41us/step - loss: 0.0478 - val_loss: 0.0468\n",
      "Epoch 41/80\n",
      "42000/42000 [==============================] - 2s 42us/step - loss: 0.0478 - val_loss: 0.0465\n",
      "Epoch 42/80\n",
      "42000/42000 [==============================] - 2s 43us/step - loss: 0.0475 - val_loss: 0.0465\n",
      "Epoch 43/80\n",
      "42000/42000 [==============================] - 2s 43us/step - loss: 0.0474 - val_loss: 0.0461\n",
      "Epoch 44/80\n",
      "42000/42000 [==============================] - 2s 49us/step - loss: 0.0471 - val_loss: 0.0462\n",
      "Epoch 45/80\n",
      "42000/42000 [==============================] - 2s 49us/step - loss: 0.0471 - val_loss: 0.0459\n",
      "Epoch 46/80\n",
      "42000/42000 [==============================] - 2s 49us/step - loss: 0.0470 - val_loss: 0.0458\n",
      "Epoch 47/80\n",
      "42000/42000 [==============================] - 2s 49us/step - loss: 0.0468 - val_loss: 0.0454\n",
      "Epoch 48/80\n",
      "42000/42000 [==============================] - 2s 47us/step - loss: 0.0461 - val_loss: 0.0450\n",
      "Epoch 49/80\n",
      "42000/42000 [==============================] - 2s 42us/step - loss: 0.0458 - val_loss: 0.0450\n",
      "Epoch 50/80\n",
      "42000/42000 [==============================] - 2s 42us/step - loss: 0.0458 - val_loss: 0.0448\n",
      "Epoch 51/80\n",
      "42000/42000 [==============================] - 2s 41us/step - loss: 0.0455 - val_loss: 0.0442\n",
      "Epoch 52/80\n",
      "42000/42000 [==============================] - 2s 45us/step - loss: 0.0449 - val_loss: 0.0438\n",
      "Epoch 53/80\n",
      "42000/42000 [==============================] - 2s 48us/step - loss: 0.0448 - val_loss: 0.0432\n",
      "Epoch 54/80\n",
      "42000/42000 [==============================] - 2s 47us/step - loss: 0.0440 - val_loss: 0.0430\n",
      "Epoch 55/80\n",
      "42000/42000 [==============================] - 2s 47us/step - loss: 0.0439 - val_loss: 0.0429\n",
      "Epoch 56/80\n",
      "42000/42000 [==============================] - 2s 47us/step - loss: 0.0437 - val_loss: 0.0426\n",
      "Epoch 57/80\n",
      "42000/42000 [==============================] - 2s 45us/step - loss: 0.0435 - val_loss: 0.0426\n",
      "Epoch 58/80\n",
      "42000/42000 [==============================] - 2s 42us/step - loss: 0.0433 - val_loss: 0.0424\n",
      "Epoch 59/80\n",
      "42000/42000 [==============================] - 2s 41us/step - loss: 0.0433 - val_loss: 0.0425\n",
      "Epoch 60/80\n",
      "42000/42000 [==============================] - 2s 42us/step - loss: 0.0431 - val_loss: 0.0422\n",
      "Epoch 61/80\n",
      "42000/42000 [==============================] - 2s 42us/step - loss: 0.0431 - val_loss: 0.0419\n",
      "Epoch 62/80\n",
      "42000/42000 [==============================] - 2s 41us/step - loss: 0.0428 - val_loss: 0.0418\n",
      "Epoch 63/80\n",
      "42000/42000 [==============================] - 2s 42us/step - loss: 0.0427 - val_loss: 0.0420\n",
      "Epoch 64/80\n",
      "42000/42000 [==============================] - 2s 42us/step - loss: 0.0427 - val_loss: 0.0417\n",
      "Epoch 65/80\n",
      "42000/42000 [==============================] - 2s 41us/step - loss: 0.0424 - val_loss: 0.0415\n",
      "Epoch 66/80\n",
      "42000/42000 [==============================] - 2s 41us/step - loss: 0.0424 - val_loss: 0.0415\n",
      "Epoch 67/80\n",
      "42000/42000 [==============================] - 2s 42us/step - loss: 0.0421 - val_loss: 0.0412\n",
      "Epoch 68/80\n",
      "42000/42000 [==============================] - 2s 42us/step - loss: 0.0421 - val_loss: 0.0412\n",
      "Epoch 69/80\n",
      "42000/42000 [==============================] - 2s 42us/step - loss: 0.0419 - val_loss: 0.0409\n",
      "Epoch 70/80\n",
      "42000/42000 [==============================] - 2s 42us/step - loss: 0.0417 - val_loss: 0.0409\n",
      "Epoch 71/80\n",
      "42000/42000 [==============================] - 2s 41us/step - loss: 0.0416 - val_loss: 0.0408\n",
      "Epoch 72/80\n",
      "42000/42000 [==============================] - 2s 41us/step - loss: 0.0417 - val_loss: 0.0408\n",
      "Epoch 73/80\n",
      "42000/42000 [==============================] - 2s 42us/step - loss: 0.0416 - val_loss: 0.0407\n",
      "Epoch 74/80\n",
      "42000/42000 [==============================] - 2s 41us/step - loss: 0.0416 - val_loss: 0.0406\n",
      "Epoch 75/80\n",
      "42000/42000 [==============================] - 2s 42us/step - loss: 0.0415 - val_loss: 0.0405\n",
      "Epoch 76/80\n",
      "42000/42000 [==============================] - 2s 41us/step - loss: 0.0413 - val_loss: 0.0405\n",
      "Epoch 77/80\n",
      "42000/42000 [==============================] - 2s 41us/step - loss: 0.0414 - val_loss: 0.0403\n",
      "Epoch 78/80\n",
      "42000/42000 [==============================] - 2s 41us/step - loss: 0.0411 - val_loss: 0.0401\n",
      "Epoch 79/80\n",
      "42000/42000 [==============================] - 2s 41us/step - loss: 0.0410 - val_loss: 0.0403\n",
      "Epoch 80/80\n",
      "42000/42000 [==============================] - 2s 41us/step - loss: 0.0410 - val_loss: 0.0400\n"
     ]
    }
   ],
   "source": [
    "SA_X_train = X_train.reshape(-1, 784)\n",
    "SA_X_test = X_test.reshape(-1, 784)\n",
    "SA_X_train = SA_X_train / 255\n",
    "SA_X_test = SA_X_test / 255\n",
    "print(SA_X_train.shape, SA_X_test.shape)\n",
    "\n",
    "K.clear_session()\n",
    "\n",
    "model1 = Sequential()\n",
    "\n",
    "'''\n",
    "Encoder:\n",
    "'''\n",
    "model1.add(Dense(200, activation='relu', input_shape=(784, )))\n",
    "model1.add(Dropout(0.2))\n",
    "model1.add(Dense(10, activation='relu'))\n",
    "\n",
    "'''\n",
    "Decoder:\n",
    "'''\n",
    "model1.add(Dense(10, activation='relu'))\n",
    "model1.add(Dropout(0.2))\n",
    "model1.add(Dense(200, activation='relu'))\n",
    "\n",
    "'''\n",
    "Output:\n",
    "'''\n",
    "model1.add(Dense(784, activation='relu'))\n",
    "\n",
    "optimizer = Adam(lr=10e-6)\n",
    "model1.compile(optimizer=optimizer,\n",
    "              loss='mean_squared_error')\n",
    "\n",
    "model1.summary()\n",
    "\n",
    "h1 = model1.fit(SA_X_train, SA_X_train, batch_size=128, epochs=80, \n",
    "              verbose=1, validation_split=0.3)"
   ]
  },
  {
   "cell_type": "markdown",
   "metadata": {
    "colab_type": "text",
    "id": "sOle_iIFRbYM"
   },
   "source": [
    "### View Training Loss"
   ]
  },
  {
   "cell_type": "code",
   "execution_count": 36,
   "metadata": {
    "colab": {
     "base_uri": "https://localhost:8080/",
     "height": 287
    },
    "colab_type": "code",
    "id": "AcIGmJRVP2QM",
    "outputId": "b6f7248c-2bff-45a6-fef5-13cd6258fce1"
   },
   "outputs": [
    {
     "data": {
      "text/plain": [
       "<matplotlib.legend.Legend at 0x7fb6738d7780>"
      ]
     },
     "execution_count": 36,
     "metadata": {
      "tags": []
     },
     "output_type": "execute_result"
    },
    {
     "data": {
      "image/png": "[encoded data removed]",
      "text/plain": [
       "<Figure size 432x288 with 1 Axes>"
      ]
     },
     "metadata": {
      "tags": []
     },
     "output_type": "display_data"
    }
   ],
   "source": [
    "plt.plot(h1.history['loss'], label='Training Loss')\n",
    "plt.plot(h1.history['val_loss'], label='Validation Loss')\n",
    "plt.legend()"
   ]
  },
  {
   "cell_type": "markdown",
   "metadata": {
    "colab_type": "text",
    "id": "yg3nmmduRTs2"
   },
   "source": [
    "### Print Auto-Encoded Data and Real Input Data"
   ]
  },
  {
   "cell_type": "code",
   "execution_count": 0,
   "metadata": {
    "colab": {},
    "colab_type": "code",
    "id": "xBs7d0Y1PWIW"
   },
   "outputs": [],
   "source": [
    "SA_test_encoded = model1.predict(SA_X_test).reshape(-1, 28, 28)"
   ]
  },
  {
   "cell_type": "code",
   "execution_count": 38,
   "metadata": {
    "colab": {
     "base_uri": "https://localhost:8080/",
     "height": 302
    },
    "colab_type": "code",
    "id": "ua4hzejzS7sg",
    "outputId": "28c543ea-6b2c-47ba-d7e6-4f2875c41875"
   },
   "outputs": [
    {
     "name": "stdout",
     "output_type": "stream",
     "text": [
      "Auto-encoded data:\n"
     ]
    },
    {
     "data": {
      "image/png": "[encoded data removed]",
      "text/plain": [
       "<Figure size 432x288 with 9 Axes>"
      ]
     },
     "metadata": {
      "tags": []
     },
     "output_type": "display_data"
    }
   ],
   "source": [
    "print(\"Auto-encoded data:\")\n",
    "print_first_9(SA_test_encoded)"
   ]
  },
  {
   "cell_type": "code",
   "execution_count": 39,
   "metadata": {
    "colab": {
     "base_uri": "https://localhost:8080/",
     "height": 302
    },
    "colab_type": "code",
    "id": "9_RCXuhTS-1F",
    "outputId": "63d5c146-6b57-4acf-ecb4-6425415a0658"
   },
   "outputs": [
    {
     "name": "stdout",
     "output_type": "stream",
     "text": [
      "Original data:\n"
     ]
    },
    {
     "data": {
      "image/png": "[encoded data removed]",
      "text/plain": [
       "<Figure size 432x288 with 9 Axes>"
      ]
     },
     "metadata": {
      "tags": []
     },
     "output_type": "display_data"
    }
   ],
   "source": [
    "print(\"Original data:\")\n",
    "print_first_9(SA_X_test.reshape(-1, 28, 28))"
   ]
  },
  {
   "cell_type": "markdown",
   "metadata": {
    "colab_type": "text",
    "id": "uPmEbOUwsVHR"
   },
   "source": [
    "# **Convolutional Autoencoder**"
   ]
  },
  {
   "cell_type": "code",
   "execution_count": 46,
   "metadata": {
    "colab": {
     "base_uri": "https://localhost:8080/",
     "height": 3363
    },
    "colab_type": "code",
    "id": "1BYTIeJ6r00i",
    "outputId": "0ed0ddce-5607-4140-9661-55887993944f"
   },
   "outputs": [
    {
     "name": "stdout",
     "output_type": "stream",
     "text": [
      "(60000, 28, 28, 1) (10000, 28, 28, 1)\n",
      "_________________________________________________________________\n",
      "Layer (type)                 Output Shape              Param #   \n",
      "=================================================================\n",
      "conv2d_1 (Conv2D)            (None, 28, 28, 16)        160       \n",
      "_________________________________________________________________\n",
      "max_pooling2d_1 (MaxPooling2 (None, 14, 14, 16)        0         \n",
      "_________________________________________________________________\n",
      "dropout_1 (Dropout)          (None, 14, 14, 16)        0         \n",
      "_________________________________________________________________\n",
      "conv2d_2 (Conv2D)            (None, 14, 14, 8)         1160      \n",
      "_________________________________________________________________\n",
      "max_pooling2d_2 (MaxPooling2 (None, 7, 7, 8)           0         \n",
      "_________________________________________________________________\n",
      "conv2d_3 (Conv2D)            (None, 7, 7, 8)           584       \n",
      "_________________________________________________________________\n",
      "up_sampling2d_1 (UpSampling2 (None, 14, 14, 8)         0         \n",
      "_________________________________________________________________\n",
      "dropout_2 (Dropout)          (None, 14, 14, 8)         0         \n",
      "_________________________________________________________________\n",
      "conv2d_4 (Conv2D)            (None, 14, 14, 16)        1168      \n",
      "_________________________________________________________________\n",
      "up_sampling2d_2 (UpSampling2 (None, 28, 28, 16)        0         \n",
      "_________________________________________________________________\n",
      "dropout_3 (Dropout)          (None, 28, 28, 16)        0         \n",
      "_________________________________________________________________\n",
      "conv2d_5 (Conv2D)            (None, 28, 28, 1)         145       \n",
      "=================================================================\n",
      "Total params: 3,217\n",
      "Trainable params: 3,217\n",
      "Non-trainable params: 0\n",
      "_________________________________________________________________\n",
      "Train on 42000 samples, validate on 18000 samples\n",
      "Epoch 1/80\n",
      "42000/42000 [==============================] - 3s 77us/step - loss: 0.1358 - val_loss: 0.1145\n",
      "Epoch 2/80\n",
      "42000/42000 [==============================] - 3s 61us/step - loss: 0.0922 - val_loss: 0.0793\n",
      "Epoch 3/80\n",
      "42000/42000 [==============================] - 2s 59us/step - loss: 0.0754 - val_loss: 0.0631\n",
      "Epoch 4/80\n",
      "42000/42000 [==============================] - 2s 59us/step - loss: 0.0651 - val_loss: 0.0538\n",
      "Epoch 5/80\n",
      "42000/42000 [==============================] - 2s 59us/step - loss: 0.0587 - val_loss: 0.0491\n",
      "Epoch 6/80\n",
      "42000/42000 [==============================] - 2s 59us/step - loss: 0.0541 - val_loss: 0.0460\n",
      "Epoch 7/80\n",
      "42000/42000 [==============================] - 2s 59us/step - loss: 0.0507 - val_loss: 0.0437\n",
      "Epoch 8/80\n",
      "42000/42000 [==============================] - 2s 59us/step - loss: 0.0479 - val_loss: 0.0423\n",
      "Epoch 9/80\n",
      "42000/42000 [==============================] - 2s 59us/step - loss: 0.0456 - val_loss: 0.0409\n",
      "Epoch 10/80\n",
      "42000/42000 [==============================] - 2s 59us/step - loss: 0.0437 - val_loss: 0.0401\n",
      "Epoch 11/80\n",
      "42000/42000 [==============================] - 2s 59us/step - loss: 0.0420 - val_loss: 0.0389\n",
      "Epoch 12/80\n",
      "42000/42000 [==============================] - 2s 58us/step - loss: 0.0405 - val_loss: 0.0378\n",
      "Epoch 13/80\n",
      "42000/42000 [==============================] - 2s 59us/step - loss: 0.0391 - val_loss: 0.0365\n",
      "Epoch 14/80\n",
      "42000/42000 [==============================] - 2s 59us/step - loss: 0.0378 - val_loss: 0.0354\n",
      "Epoch 15/80\n",
      "42000/42000 [==============================] - 2s 59us/step - loss: 0.0366 - val_loss: 0.0342\n",
      "Epoch 16/80\n",
      "42000/42000 [==============================] - 2s 59us/step - loss: 0.0355 - val_loss: 0.0332\n",
      "Epoch 17/80\n",
      "42000/42000 [==============================] - 2s 59us/step - loss: 0.0344 - val_loss: 0.0321\n",
      "Epoch 18/80\n",
      "42000/42000 [==============================] - 2s 59us/step - loss: 0.0334 - val_loss: 0.0309\n",
      "Epoch 19/80\n",
      "42000/42000 [==============================] - 2s 59us/step - loss: 0.0325 - val_loss: 0.0301\n",
      "Epoch 20/80\n",
      "42000/42000 [==============================] - 2s 59us/step - loss: 0.0317 - val_loss: 0.0291\n",
      "Epoch 21/80\n",
      "42000/42000 [==============================] - 2s 59us/step - loss: 0.0310 - val_loss: 0.0282\n",
      "Epoch 22/80\n",
      "42000/42000 [==============================] - 2s 59us/step - loss: 0.0303 - val_loss: 0.0276\n",
      "Epoch 23/80\n",
      "42000/42000 [==============================] - 2s 59us/step - loss: 0.0296 - val_loss: 0.0267\n",
      "Epoch 24/80\n",
      "42000/42000 [==============================] - 2s 59us/step - loss: 0.0290 - val_loss: 0.0262\n",
      "Epoch 25/80\n",
      "42000/42000 [==============================] - 2s 59us/step - loss: 0.0285 - val_loss: 0.0254\n",
      "Epoch 26/80\n",
      "42000/42000 [==============================] - 2s 59us/step - loss: 0.0279 - val_loss: 0.0249\n",
      "Epoch 27/80\n",
      "42000/42000 [==============================] - 2s 59us/step - loss: 0.0275 - val_loss: 0.0245\n",
      "Epoch 28/80\n",
      "42000/42000 [==============================] - 2s 59us/step - loss: 0.0270 - val_loss: 0.0239\n",
      "Epoch 29/80\n",
      "42000/42000 [==============================] - 2s 59us/step - loss: 0.0265 - val_loss: 0.0235\n",
      "Epoch 30/80\n",
      "42000/42000 [==============================] - 3s 60us/step - loss: 0.0261 - val_loss: 0.0232\n",
      "Epoch 31/80\n",
      "42000/42000 [==============================] - 3s 65us/step - loss: 0.0257 - val_loss: 0.0227\n",
      "Epoch 32/80\n",
      "42000/42000 [==============================] - 3s 64us/step - loss: 0.0253 - val_loss: 0.0222\n",
      "Epoch 33/80\n",
      "42000/42000 [==============================] - 3s 65us/step - loss: 0.0250 - val_loss: 0.0219\n",
      "Epoch 34/80\n",
      "42000/42000 [==============================] - 3s 61us/step - loss: 0.0247 - val_loss: 0.0217\n",
      "Epoch 35/80\n",
      "42000/42000 [==============================] - 2s 59us/step - loss: 0.0244 - val_loss: 0.0213\n",
      "Epoch 36/80\n",
      "42000/42000 [==============================] - 2s 59us/step - loss: 0.0241 - val_loss: 0.0211\n",
      "Epoch 37/80\n",
      "42000/42000 [==============================] - 2s 59us/step - loss: 0.0238 - val_loss: 0.0207\n",
      "Epoch 38/80\n",
      "42000/42000 [==============================] - 2s 59us/step - loss: 0.0235 - val_loss: 0.0206\n",
      "Epoch 39/80\n",
      "42000/42000 [==============================] - 2s 58us/step - loss: 0.0233 - val_loss: 0.0203\n",
      "Epoch 40/80\n",
      "42000/42000 [==============================] - 2s 59us/step - loss: 0.0230 - val_loss: 0.0201\n",
      "Epoch 41/80\n",
      "42000/42000 [==============================] - 2s 59us/step - loss: 0.0228 - val_loss: 0.0200\n",
      "Epoch 42/80\n",
      "42000/42000 [==============================] - 2s 59us/step - loss: 0.0226 - val_loss: 0.0197\n",
      "Epoch 43/80\n",
      "42000/42000 [==============================] - 2s 59us/step - loss: 0.0223 - val_loss: 0.0195\n",
      "Epoch 44/80\n",
      "42000/42000 [==============================] - 2s 59us/step - loss: 0.0221 - val_loss: 0.0193\n",
      "Epoch 45/80\n",
      "42000/42000 [==============================] - 2s 59us/step - loss: 0.0220 - val_loss: 0.0191\n",
      "Epoch 46/80\n",
      "42000/42000 [==============================] - 2s 58us/step - loss: 0.0218 - val_loss: 0.0189\n",
      "Epoch 47/80\n",
      "42000/42000 [==============================] - 3s 65us/step - loss: 0.0216 - val_loss: 0.0188\n",
      "Epoch 48/80\n",
      "42000/42000 [==============================] - 3s 66us/step - loss: 0.0214 - val_loss: 0.0186\n",
      "Epoch 49/80\n",
      "42000/42000 [==============================] - 2s 59us/step - loss: 0.0212 - val_loss: 0.0184\n",
      "Epoch 50/80\n",
      "42000/42000 [==============================] - 2s 59us/step - loss: 0.0211 - val_loss: 0.0183\n",
      "Epoch 51/80\n",
      "42000/42000 [==============================] - 2s 59us/step - loss: 0.0209 - val_loss: 0.0181\n",
      "Epoch 52/80\n",
      "42000/42000 [==============================] - 2s 59us/step - loss: 0.0207 - val_loss: 0.0180\n",
      "Epoch 53/80\n",
      "42000/42000 [==============================] - 2s 59us/step - loss: 0.0206 - val_loss: 0.0179\n",
      "Epoch 54/80\n",
      "42000/42000 [==============================] - 2s 59us/step - loss: 0.0204 - val_loss: 0.0177\n",
      "Epoch 55/80\n",
      "42000/42000 [==============================] - 2s 59us/step - loss: 0.0203 - val_loss: 0.0175\n",
      "Epoch 56/80\n",
      "42000/42000 [==============================] - 2s 59us/step - loss: 0.0202 - val_loss: 0.0175\n",
      "Epoch 57/80\n",
      "42000/42000 [==============================] - 2s 59us/step - loss: 0.0200 - val_loss: 0.0173\n",
      "Epoch 58/80\n",
      "42000/42000 [==============================] - 2s 59us/step - loss: 0.0199 - val_loss: 0.0173\n",
      "Epoch 59/80\n",
      "42000/42000 [==============================] - 2s 59us/step - loss: 0.0198 - val_loss: 0.0171\n",
      "Epoch 60/80\n",
      "42000/42000 [==============================] - 2s 59us/step - loss: 0.0196 - val_loss: 0.0170\n",
      "Epoch 61/80\n",
      "42000/42000 [==============================] - 2s 59us/step - loss: 0.0195 - val_loss: 0.0169\n",
      "Epoch 62/80\n",
      "42000/42000 [==============================] - 3s 60us/step - loss: 0.0194 - val_loss: 0.0167\n",
      "Epoch 63/80\n",
      "42000/42000 [==============================] - 3s 65us/step - loss: 0.0193 - val_loss: 0.0167\n",
      "Epoch 64/80\n",
      "42000/42000 [==============================] - 3s 64us/step - loss: 0.0192 - val_loss: 0.0166\n",
      "Epoch 65/80\n",
      "42000/42000 [==============================] - 3s 64us/step - loss: 0.0191 - val_loss: 0.0165\n",
      "Epoch 66/80\n",
      "42000/42000 [==============================] - 3s 62us/step - loss: 0.0190 - val_loss: 0.0164\n",
      "Epoch 67/80\n",
      "42000/42000 [==============================] - 2s 59us/step - loss: 0.0189 - val_loss: 0.0163\n",
      "Epoch 68/80\n",
      "42000/42000 [==============================] - 2s 59us/step - loss: 0.0188 - val_loss: 0.0161\n",
      "Epoch 69/80\n",
      "42000/42000 [==============================] - 2s 59us/step - loss: 0.0187 - val_loss: 0.0161\n",
      "Epoch 70/80\n",
      "42000/42000 [==============================] - 2s 58us/step - loss: 0.0186 - val_loss: 0.0159\n",
      "Epoch 71/80\n",
      "42000/42000 [==============================] - 2s 59us/step - loss: 0.0185 - val_loss: 0.0159\n",
      "Epoch 72/80\n",
      "42000/42000 [==============================] - 2s 59us/step - loss: 0.0184 - val_loss: 0.0158\n",
      "Epoch 73/80\n",
      "42000/42000 [==============================] - 2s 59us/step - loss: 0.0184 - val_loss: 0.0157\n",
      "Epoch 74/80\n",
      "42000/42000 [==============================] - 2s 59us/step - loss: 0.0183 - val_loss: 0.0156\n",
      "Epoch 75/80\n",
      "42000/42000 [==============================] - 2s 59us/step - loss: 0.0182 - val_loss: 0.0156\n",
      "Epoch 76/80\n",
      "42000/42000 [==============================] - 2s 59us/step - loss: 0.0181 - val_loss: 0.0155\n",
      "Epoch 77/80\n",
      "42000/42000 [==============================] - 2s 59us/step - loss: 0.0181 - val_loss: 0.0154\n",
      "Epoch 78/80\n",
      "42000/42000 [==============================] - 2s 59us/step - loss: 0.0180 - val_loss: 0.0153\n",
      "Epoch 79/80\n",
      "42000/42000 [==============================] - 2s 59us/step - loss: 0.0179 - val_loss: 0.0153\n",
      "Epoch 80/80\n",
      "42000/42000 [==============================] - 2s 59us/step - loss: 0.0178 - val_loss: 0.0151\n"
     ]
    }
   ],
   "source": [
    "CA_X_train = X_train.reshape(-1, 28, 28, 1)\n",
    "CA_X_test = X_test.reshape(-1, 28, 28, 1)\n",
    "CA_X_train = CA_X_train / 255\n",
    "CA_X_test = CA_X_test / 255\n",
    "print(CA_X_train.shape, CA_X_test.shape)\n",
    "\n",
    "K.clear_session()\n",
    "\n",
    "model2 = Sequential()\n",
    "\n",
    "'''\n",
    "Encoder:\n",
    "'''\n",
    "model2.add(Conv2D(16, (3, 3), activation='relu', padding='same', input_shape=(28, 28, 1)))\n",
    "model2.add(MaxPool2D(pool_size=(2, 2)))\n",
    "model2.add(Dropout(0.2))\n",
    "\n",
    "model2.add(Conv2D(8, (3, 3), padding='same', activation='relu'))\n",
    "model2.add(MaxPool2D(pool_size=(2, 2)))\n",
    "\n",
    "'''\n",
    "Decoder:\n",
    "'''\n",
    "model2.add(Conv2D(8, (3, 3), padding='same', activation='relu'))\n",
    "model2.add(UpSampling2D(size=(2, 2)))\n",
    "model2.add(Dropout(0.2))\n",
    "\n",
    "model2.add(Conv2D(16, (3, 3),  padding='same', activation='relu'))\n",
    "model2.add(UpSampling2D(size=(2, 2)))\n",
    "model2.add(Dropout(0.3))\n",
    "\n",
    "'''\n",
    "Output:\n",
    "'''\n",
    "model2.add(Conv2D(1, (3, 3),  padding='same',activation='relu'))\n",
    "\n",
    "optimizer = Adam(lr=10e-6)\n",
    "model2.compile(optimizer=optimizer,\n",
    "              loss='mean_squared_error')\n",
    "\n",
    "model2.summary()\n",
    "\n",
    "h2 = model2.fit(CA_X_train, CA_X_train, batch_size=128, epochs=80, \n",
    "               verbose=1, validation_split=0.3)"
   ]
  },
  {
   "cell_type": "markdown",
   "metadata": {
    "colab_type": "text",
    "id": "55SRLLWWRH0d"
   },
   "source": [
    "### View Training Loss"
   ]
  },
  {
   "cell_type": "code",
   "execution_count": 47,
   "metadata": {
    "colab": {
     "base_uri": "https://localhost:8080/",
     "height": 287
    },
    "colab_type": "code",
    "id": "bA_BaY36QA0b",
    "outputId": "5e37deb8-1959-443b-fb59-05287a4d43ea"
   },
   "outputs": [
    {
     "data": {
      "text/plain": [
       "<matplotlib.legend.Legend at 0x7fb644421748>"
      ]
     },
     "execution_count": 47,
     "metadata": {
      "tags": []
     },
     "output_type": "execute_result"
    },
    {
     "data": {
      "image/png": "[encoded data removed]",
      "text/plain": [
       "<Figure size 432x288 with 1 Axes>"
      ]
     },
     "metadata": {
      "tags": []
     },
     "output_type": "display_data"
    }
   ],
   "source": [
    "plt.plot(h2.history['loss'], label='Training Loss')\n",
    "plt.plot(h2.history['val_loss'], label='Validation Loss')\n",
    "plt.legend()"
   ]
  },
  {
   "cell_type": "markdown",
   "metadata": {
    "colab_type": "text",
    "id": "MmJVtiedRLR7"
   },
   "source": [
    "### Print Auto-Encoded Data and Real Input Data"
   ]
  },
  {
   "cell_type": "code",
   "execution_count": 0,
   "metadata": {
    "colab": {},
    "colab_type": "code",
    "id": "q-i1Sym0r-3A"
   },
   "outputs": [],
   "source": [
    "CA_test_encoded = model2.predict(CA_X_test)[:, :, :, 0]"
   ]
  },
  {
   "cell_type": "code",
   "execution_count": 49,
   "metadata": {
    "colab": {
     "base_uri": "https://localhost:8080/",
     "height": 302
    },
    "colab_type": "code",
    "id": "5MUNqAUCTAZf",
    "outputId": "c548a3d7-92cf-4c65-f1a6-d4c9a99f6077"
   },
   "outputs": [
    {
     "name": "stdout",
     "output_type": "stream",
     "text": [
      "Auto-encoded data:\n"
     ]
    },
    {
     "data": {
      "image/png": "[encoded data removed]",
      "text/plain": [
       "<Figure size 432x288 with 9 Axes>"
      ]
     },
     "metadata": {
      "tags": []
     },
     "output_type": "display_data"
    }
   ],
   "source": [
    "print(\"Auto-encoded data:\")\n",
    "print_first_9(CA_test_encoded)"
   ]
  },
  {
   "cell_type": "code",
   "execution_count": 50,
   "metadata": {
    "colab": {
     "base_uri": "https://localhost:8080/",
     "height": 302
    },
    "colab_type": "code",
    "id": "bXBmeSodTBgd",
    "outputId": "772d8ccc-8615-41f9-a032-781a00478306"
   },
   "outputs": [
    {
     "name": "stdout",
     "output_type": "stream",
     "text": [
      "Original data:\n"
     ]
    },
    {
     "data": {
      "image/png": "[encoded data removed]",
      "text/plain": [
       "<Figure size 432x288 with 9 Axes>"
      ]
     },
     "metadata": {
      "tags": []
     },
     "output_type": "display_data"
    }
   ],
   "source": [
    "print(\"Original data:\")\n",
    "print_first_9(CA_X_test[:, :, :, 0])"
   ]
  }
 ],
 "metadata": {
  "accelerator": "GPU",
  "colab": {
   "collapsed_sections": [],
   "include_colab_link": true,
   "name": "C6 Autoencoder Homework.ipynb",
   "provenance": [],
   "version": "0.3.2"
  },
  "kernelspec": {
   "display_name": "Python 3",
   "language": "python",
   "name": "python3"
  },
  "language_info": {
   "codemirror_mode": {
    "name": "ipython",
    "version": 3
   },
   "file_extension": ".py",
   "mimetype": "text/x-python",
   "name": "python",
   "nbconvert_exporter": "python",
   "pygments_lexer": "ipython3",
   "version": "3.7.2"
  }
 },
 "nbformat": 4,
 "nbformat_minor": 1
}
