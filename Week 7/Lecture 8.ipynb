{
 "cells": [
  {
   "cell_type": "markdown",
   "metadata": {},
   "source": [
    "# Lecture 8"
   ]
  },
  {
   "cell_type": "markdown",
   "metadata": {},
   "source": [
    "### The google app converting images of texts in one language to another requires:\n",
    "\n",
    "    1) Autoencoder to extract images of just letters/numbers\n",
    "    2) CNN to identify letters & convert to text\n",
    "    3) CNN for font detection\n",
    "    4) RNN/LSTM for translation\n",
    "    5) Autoencoder to hide the letters\n",
    "    6) Put translation back on hidden space"
   ]
  },
  {
   "cell_type": "markdown",
   "metadata": {},
   "source": [
    "### Uses for autoencoders:\n",
    "\n",
    "    - Anomaly detection\n",
    "    - PCA\n",
    "    - Denoising\n",
    "    - Generating data\n",
    "    - Segmentation/Semantic Segmentation"
   ]
  },
  {
   "cell_type": "markdown",
   "metadata": {},
   "source": [
    "## Performance Improvements"
   ]
  },
  {
   "cell_type": "markdown",
   "metadata": {},
   "source": [
    "Interpreting your Learning Curves:\n",
    "    - You need more data if the test set isn't plateauing OR train for more epochs\n",
    "    - If your test set curve plateaus you need to beefen up your model"
   ]
  },
  {
   "cell_type": "markdown",
   "metadata": {},
   "source": [
    "### Batch Normalization"
   ]
  },
  {
   "cell_type": "markdown",
   "metadata": {},
   "source": [
    "- Standardizes the output of a layer\n",
    "- Rescales by the learned parameters\n",
    "- Gives higher learning rates -> faster learning\n",
    "- Regularizes the model\n",
    "- Improves accuracy"
   ]
  },
  {
   "cell_type": "code",
   "execution_count": null,
   "metadata": {},
   "outputs": [],
   "source": []
  }
 ],
 "metadata": {
  "kernelspec": {
   "display_name": "Python 3",
   "language": "python",
   "name": "python3"
  },
  "language_info": {
   "codemirror_mode": {
    "name": "ipython",
    "version": 3
   },
   "file_extension": ".py",
   "mimetype": "text/x-python",
   "name": "python",
   "nbconvert_exporter": "python",
   "pygments_lexer": "ipython3",
   "version": "3.7.2"
  }
 },
 "nbformat": 4,
 "nbformat_minor": 2
}
