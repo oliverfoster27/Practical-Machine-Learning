{
  "nbformat": 4,
  "nbformat_minor": 0,
  "metadata": {
    "colab": {
      "name": "C7 Exercises.ipynb",
      "version": "0.3.2",
      "provenance": [],
      "collapsed_sections": [],
      "include_colab_link": true
    },
    "kernelspec": {
      "name": "python3",
      "display_name": "Python 3"
    },
    "accelerator": "GPU"
  },
  "cells": [
    {
      "cell_type": "markdown",
      "metadata": {
        "id": "view-in-github",
        "colab_type": "text"
      },
      "source": [
        "<a href=\"https://colab.research.google.com/github/oliverfoster27/Practical-Machine-Learning/blob/master/Week%207/C7_Exercises.ipynb\" target=\"_parent\"><img src=\"https://colab.research.google.com/assets/colab-badge.svg\" alt=\"Open In Colab\"/></a>"
      ]
    },
    {
      "metadata": {
        "id": "ywZ2fsAxP6ON",
        "colab_type": "code",
        "colab": {}
      },
      "cell_type": "code",
      "source": [
        "from keras.layers import Dropout\n",
        "\n",
        "\n",
        "import pandas as pd\n",
        "import numpy as np\n",
        "%matplotlib inline\n",
        "import matplotlib.pyplot as plt\n",
        "\n",
        "from sklearn.datasets import load_digits\n",
        "from sklearn.model_selection import train_test_split\n",
        "\n",
        "from keras.utils import to_categorical\n",
        "from tensorflow.keras.models import Sequential\n",
        "from keras.layers import Dense, Flatten, Conv2D, MaxPool2D, Dropout, BatchNormalization\n",
        "from keras.utils import to_categorical\n",
        "import keras.backend as K\n",
        "from keras.callbacks import EarlyStopping\n",
        "from tensorflow.keras.datasets import mnist\n",
        "from keras.optimizers import Adam"
      ],
      "execution_count": 0,
      "outputs": []
    },
    {
      "metadata": {
        "id": "l94hdaVKQTtF",
        "colab_type": "code",
        "outputId": "9b80b373-ec95-4bb4-f6c4-3e68b219dacc",
        "colab": {
          "base_uri": "https://localhost:8080/",
          "height": 85
        }
      },
      "cell_type": "code",
      "source": [
        "(X_train, y_train), (X_test, y_test) = mnist.load_data('/tmp/mnist.npz')\n",
        "y_train_cat = to_categorical(y_train)\n",
        "y_test_cat = to_categorical(y_test)\n",
        "\n",
        "X_train = X_train.reshape(-1, 28*28)\n",
        "X_test = X_test.reshape(-1, 28*28)\n",
        "X_train.shape, X_test.shape, y_train, y_test"
      ],
      "execution_count": 8,
      "outputs": [
        {
          "output_type": "execute_result",
          "data": {
            "text/plain": [
              "((60000, 784),\n",
              " (10000, 784),\n",
              " array([5, 0, 4, ..., 5, 6, 8], dtype=uint8),\n",
              " array([7, 2, 1, ..., 4, 5, 6], dtype=uint8))"
            ]
          },
          "metadata": {
            "tags": []
          },
          "execution_count": 8
        }
      ]
    },
    {
      "metadata": {
        "id": "Xj0EkNVnxzhl",
        "colab_type": "code",
        "colab": {}
      },
      "cell_type": "code",
      "source": [
        "X_train = X_train / 255\n",
        "X_test = X_test / 255"
      ],
      "execution_count": 0,
      "outputs": []
    },
    {
      "metadata": {
        "id": "sORyfkzHQYRQ",
        "colab_type": "text"
      },
      "cell_type": "markdown",
      "source": [
        "# Exercise\n",
        "Make a dense neural network with 95%+ accuracy on Mnist that has the smallest number of neurons possible by experimenting with Dropout, and Batch Norm"
      ]
    },
    {
      "metadata": {
        "id": "5pISPLb1-XAx",
        "colab_type": "text"
      },
      "cell_type": "markdown",
      "source": [
        "### Strategy:\n",
        "- Decide on a basic layer architecutre (one hidden dense layer with dropout and batch normalization)\n",
        "- Iterate starting with 10 neurons to 100 on the hidden layer and find the optimal learning rate & p value for dropout\n",
        "- If early stopping happens during training it indicates that the network may not be powerful enough. At this point increase the size of the dense layer\n",
        "- When validation accuracy reaches 95% return that network's architecture"
      ]
    },
    {
      "metadata": {
        "id": "t7S3iZx1QWrB",
        "colab_type": "code",
        "colab": {}
      },
      "cell_type": "code",
      "source": [
        "from keras.models import Sequential\n",
        "\n",
        "# Grids to iterate through\n",
        "learning_grid = [10e-6, 10e-5, 10e-4]\n",
        "input_dense_grid = np.linspace(10, 100, 19).astype(int)\n",
        "p_grid = [0.2, 0.4, 0.6]\n",
        "\n",
        "def find_minimal_network(features, output, val_thresh=0.95):\n",
        "\n",
        "  data = []\n",
        "\n",
        "  for input_dense in input_dense_grid:\n",
        "    \n",
        "    stopped_early = False\n",
        "    \n",
        "    for learning_rate in learning_grid:\n",
        "      \n",
        "      if stopped_early:\n",
        "        break\n",
        "      \n",
        "      for p in p_grid:\n",
        "\n",
        "        K.clear_session()\n",
        "\n",
        "        model = Sequential()\n",
        "\n",
        "        # Baseline architecture\n",
        "        model.add(Dense(input_dense, activation='relu', input_shape=(784,)))\n",
        "        model.add(Dropout(p))\n",
        "        model.add(BatchNormalization())\n",
        "        model.add(Dense(10, activation='softmax'))\n",
        "\n",
        "        callback_list = [EarlyStopping(monitor='val_acc', mode='max',\n",
        "                                       verbose=0, patience=5)]\n",
        "\n",
        "        optimizer = Adam(lr=learning_rate)\n",
        "        model.compile(optimizer=optimizer,\n",
        "                     loss='sparse_categorical_crossentropy',\n",
        "                     metrics=['accuracy'])\n",
        "\n",
        "        print(\"\\nNumber of Dense Nodes: {}\".format(input_dense))\n",
        "        print(\"Learning Rate: {}\".format(learning_rate))\n",
        "        print(\"Dropout P: {}\".format(p))\n",
        "\n",
        "        h = model.fit(features, output, epochs=100, validation_split=0.3,\n",
        "                     callbacks=callback_list, verbose=0)\n",
        "\n",
        "        # If we stop early our learning rate doesn't need to increase\n",
        "        # so once we're done iterating through p increase the layer size\n",
        "        stopping_interval = callback_list[0].stopped_epoch\n",
        "        if stopping_interval > 0:\n",
        "          stopped_early = True\n",
        "\n",
        "        print(\"Early Stopping: {}\".format(stopping_interval))\n",
        "        print(\"Trained Validation Accuracy: {}\".format(h.history['val_acc'][-1]))\n",
        "\n",
        "        if h.history['val_acc'][-1] >= val_thresh:\n",
        "          res={\n",
        "            'Input Dense Layer Size': input_dense,\n",
        "            'Learning Rate': learning_rate,\n",
        "            'Dropout Proportion': p,\n",
        "            'Validation Accuracy': h.history['acc'][-1]\n",
        "          }\n",
        "          # If we've satisfied 95% accuracy leave the learning rate grid\n",
        "          return res"
      ],
      "execution_count": 0,
      "outputs": []
    },
    {
      "metadata": {
        "id": "r4ddfMEDzDSx",
        "colab_type": "code",
        "outputId": "2bc87ea8-a28d-4259-cf9a-15aeb32e39a4",
        "colab": {
          "base_uri": "https://localhost:8080/",
          "height": 1822
        }
      },
      "cell_type": "code",
      "source": [
        "optimal_network = find_minimal_network(X_train, y_train)"
      ],
      "execution_count": 5,
      "outputs": [
        {
          "output_type": "stream",
          "text": [
            "WARNING:tensorflow:From /usr/local/lib/python3.6/dist-packages/tensorflow/python/framework/op_def_library.py:263: colocate_with (from tensorflow.python.framework.ops) is deprecated and will be removed in a future version.\n",
            "Instructions for updating:\n",
            "Colocations handled automatically by placer.\n",
            "WARNING:tensorflow:From /usr/local/lib/python3.6/dist-packages/keras/backend/tensorflow_backend.py:3445: calling dropout (from tensorflow.python.ops.nn_ops) with keep_prob is deprecated and will be removed in a future version.\n",
            "Instructions for updating:\n",
            "Please use `rate` instead of `keep_prob`. Rate should be set to `rate = 1 - keep_prob`.\n",
            "\n",
            "Number of Dense Nodes: 10\n",
            "Learning Rate: 1e-05\n",
            "Dropout P: 0.2\n",
            "WARNING:tensorflow:From /usr/local/lib/python3.6/dist-packages/tensorflow/python/ops/math_ops.py:3066: to_int32 (from tensorflow.python.ops.math_ops) is deprecated and will be removed in a future version.\n",
            "Instructions for updating:\n",
            "Use tf.cast instead.\n",
            "Early Stopping: 0\n",
            "Trained Validation Accuracy: 0.8922777777777777\n",
            "\n",
            "Number of Dense Nodes: 10\n",
            "Learning Rate: 1e-05\n",
            "Dropout P: 0.4\n",
            "Early Stopping: 0\n",
            "Trained Validation Accuracy: 0.8823888888888889\n",
            "\n",
            "Number of Dense Nodes: 10\n",
            "Learning Rate: 1e-05\n",
            "Dropout P: 0.6\n",
            "Early Stopping: 0\n",
            "Trained Validation Accuracy: 0.8424444444444444\n",
            "\n",
            "Number of Dense Nodes: 10\n",
            "Learning Rate: 0.0001\n",
            "Dropout P: 0.2\n",
            "Early Stopping: 30\n",
            "Trained Validation Accuracy: 0.9103888888888889\n",
            "\n",
            "Number of Dense Nodes: 10\n",
            "Learning Rate: 0.0001\n",
            "Dropout P: 0.4\n",
            "Early Stopping: 30\n",
            "Trained Validation Accuracy: 0.8892222222222222\n",
            "\n",
            "Number of Dense Nodes: 10\n",
            "Learning Rate: 0.0001\n",
            "Dropout P: 0.6\n",
            "Early Stopping: 31\n",
            "Trained Validation Accuracy: 0.8757777777777778\n",
            "\n",
            "Number of Dense Nodes: 15\n",
            "Learning Rate: 1e-05\n",
            "Dropout P: 0.2\n",
            "Early Stopping: 78\n",
            "Trained Validation Accuracy: 0.9126111111111112\n",
            "\n",
            "Number of Dense Nodes: 15\n",
            "Learning Rate: 1e-05\n",
            "Dropout P: 0.4\n",
            "Early Stopping: 0\n",
            "Trained Validation Accuracy: 0.9080555555555555\n",
            "\n",
            "Number of Dense Nodes: 15\n",
            "Learning Rate: 1e-05\n",
            "Dropout P: 0.6\n",
            "Early Stopping: 0\n",
            "Trained Validation Accuracy: 0.8847222222222222\n",
            "\n",
            "Number of Dense Nodes: 20\n",
            "Learning Rate: 1e-05\n",
            "Dropout P: 0.2\n",
            "Early Stopping: 88\n",
            "Trained Validation Accuracy: 0.9285555555555556\n",
            "\n",
            "Number of Dense Nodes: 20\n",
            "Learning Rate: 1e-05\n",
            "Dropout P: 0.4\n",
            "Early Stopping: 0\n",
            "Trained Validation Accuracy: 0.9137222222222222\n",
            "\n",
            "Number of Dense Nodes: 20\n",
            "Learning Rate: 1e-05\n",
            "Dropout P: 0.6\n",
            "Early Stopping: 0\n",
            "Trained Validation Accuracy: 0.8990555555555556\n",
            "\n",
            "Number of Dense Nodes: 25\n",
            "Learning Rate: 1e-05\n",
            "Dropout P: 0.2\n",
            "Early Stopping: 0\n",
            "Trained Validation Accuracy: 0.9355555555555556\n",
            "\n",
            "Number of Dense Nodes: 25\n",
            "Learning Rate: 1e-05\n",
            "Dropout P: 0.4\n",
            "Early Stopping: 0\n",
            "Trained Validation Accuracy: 0.9193888888888889\n",
            "\n",
            "Number of Dense Nodes: 25\n",
            "Learning Rate: 1e-05\n",
            "Dropout P: 0.6\n",
            "Early Stopping: 0\n",
            "Trained Validation Accuracy: 0.9048888888888889\n",
            "\n",
            "Number of Dense Nodes: 25\n",
            "Learning Rate: 0.0001\n",
            "Dropout P: 0.2\n",
            "Early Stopping: 59\n",
            "Trained Validation Accuracy: 0.9515\n"
          ],
          "name": "stdout"
        }
      ]
    },
    {
      "metadata": {
        "id": "9F_Xz0aq0XGZ",
        "colab_type": "text"
      },
      "cell_type": "markdown",
      "source": [
        "### Train network on minimum architecture"
      ]
    },
    {
      "metadata": {
        "id": "LhlvmVKd0Urx",
        "colab_type": "code",
        "colab": {
          "base_uri": "https://localhost:8080/",
          "height": 2720
        },
        "outputId": "656fc19a-b732-4b36-a466-adc2e74dd739"
      },
      "cell_type": "code",
      "source": [
        "from keras.models import Sequential\n",
        "\n",
        "input_dense = optimal_network['Input Dense Layer Size']\n",
        "learning_rate = optimal_network['Learning Rate']\n",
        "p = optimal_network['Dropout Proportion']\n",
        "\n",
        "print(\"\\nNumber of Dense Nodes: {}\".format(input_dense))\n",
        "print(\"Learning Rate: {}\".format(learning_rate))\n",
        "print(\"Dropout P: {}\\n\".format(p))\n",
        "\n",
        "K.clear_session()\n",
        "\n",
        "model = Sequential()\n",
        "\n",
        "model.add(Dense(input_dense, activation='relu', input_shape=(784,)))\n",
        "model.add(Dropout(p))\n",
        "model.add(BatchNormalization())\n",
        "model.add(Dense(10, activation='softmax'))\n",
        "\n",
        "callback_list = [EarlyStopping(monitor='val_acc', mode='max',\n",
        "                               verbose=0, patience=5)]\n",
        "\n",
        "optimizer = Adam(lr=learning_rate)\n",
        "model.compile(optimizer=optimizer,\n",
        "             loss='sparse_categorical_crossentropy',\n",
        "             metrics=['accuracy'])\n",
        "\n",
        "model.summary()\n",
        "\n",
        "h = model.fit(X_train, y_train, epochs=100, validation_split=0.3,\n",
        "             callbacks=callback_list, verbose=1)"
      ],
      "execution_count": 25,
      "outputs": [
        {
          "output_type": "stream",
          "text": [
            "\n",
            "Number of Dense Nodes: 25\n",
            "Learning Rate: 0.0001\n",
            "Dropout P: 0.2\n",
            "\n",
            "_________________________________________________________________\n",
            "Layer (type)                 Output Shape              Param #   \n",
            "=================================================================\n",
            "dense_1 (Dense)              (None, 25)                19625     \n",
            "_________________________________________________________________\n",
            "dropout_1 (Dropout)          (None, 25)                0         \n",
            "_________________________________________________________________\n",
            "batch_normalization_1 (Batch (None, 25)                100       \n",
            "_________________________________________________________________\n",
            "dense_2 (Dense)              (None, 10)                260       \n",
            "=================================================================\n",
            "Total params: 19,985\n",
            "Trainable params: 19,935\n",
            "Non-trainable params: 50\n",
            "_________________________________________________________________\n",
            "Train on 42000 samples, validate on 18000 samples\n",
            "Epoch 1/100\n",
            "42000/42000 [==============================] - 7s 161us/step - loss: 1.3284 - acc: 0.5979 - val_loss: 0.7249 - val_acc: 0.8461\n",
            "Epoch 2/100\n",
            "42000/42000 [==============================] - 7s 161us/step - loss: 0.7479 - acc: 0.8036 - val_loss: 0.4941 - val_acc: 0.8882\n",
            "Epoch 3/100\n",
            "42000/42000 [==============================] - 7s 155us/step - loss: 0.5929 - acc: 0.8377 - val_loss: 0.4051 - val_acc: 0.9016\n",
            "Epoch 4/100\n",
            "42000/42000 [==============================] - 6s 151us/step - loss: 0.5049 - acc: 0.8593 - val_loss: 0.3496 - val_acc: 0.9085\n",
            "Epoch 5/100\n",
            "42000/42000 [==============================] - 6s 152us/step - loss: 0.4636 - acc: 0.8674 - val_loss: 0.3149 - val_acc: 0.9147\n",
            "Epoch 6/100\n",
            "42000/42000 [==============================] - 6s 151us/step - loss: 0.4289 - acc: 0.8758 - val_loss: 0.2948 - val_acc: 0.9199\n",
            "Epoch 7/100\n",
            "42000/42000 [==============================] - 6s 148us/step - loss: 0.4036 - acc: 0.8849 - val_loss: 0.2824 - val_acc: 0.9231\n",
            "Epoch 8/100\n",
            "42000/42000 [==============================] - 6s 151us/step - loss: 0.3875 - acc: 0.8862 - val_loss: 0.2693 - val_acc: 0.9252\n",
            "Epoch 9/100\n",
            "42000/42000 [==============================] - 7s 163us/step - loss: 0.3661 - acc: 0.8935 - val_loss: 0.2606 - val_acc: 0.9284\n",
            "Epoch 10/100\n",
            "42000/42000 [==============================] - 6s 149us/step - loss: 0.3585 - acc: 0.8940 - val_loss: 0.2524 - val_acc: 0.9291\n",
            "Epoch 11/100\n",
            "42000/42000 [==============================] - 6s 151us/step - loss: 0.3498 - acc: 0.8963 - val_loss: 0.2446 - val_acc: 0.9332\n",
            "Epoch 12/100\n",
            "42000/42000 [==============================] - 6s 150us/step - loss: 0.3389 - acc: 0.8998 - val_loss: 0.2383 - val_acc: 0.9342\n",
            "Epoch 13/100\n",
            "42000/42000 [==============================] - 6s 150us/step - loss: 0.3332 - acc: 0.9011 - val_loss: 0.2298 - val_acc: 0.9372\n",
            "Epoch 14/100\n",
            "42000/42000 [==============================] - 7s 157us/step - loss: 0.3254 - acc: 0.9039 - val_loss: 0.2284 - val_acc: 0.9373\n",
            "Epoch 15/100\n",
            "42000/42000 [==============================] - 7s 160us/step - loss: 0.3165 - acc: 0.9041 - val_loss: 0.2240 - val_acc: 0.9387\n",
            "Epoch 16/100\n",
            "42000/42000 [==============================] - 6s 149us/step - loss: 0.3131 - acc: 0.9065 - val_loss: 0.2226 - val_acc: 0.9388\n",
            "Epoch 17/100\n",
            "42000/42000 [==============================] - 6s 151us/step - loss: 0.3094 - acc: 0.9074 - val_loss: 0.2195 - val_acc: 0.9390\n",
            "Epoch 18/100\n",
            "42000/42000 [==============================] - 6s 149us/step - loss: 0.3035 - acc: 0.9082 - val_loss: 0.2157 - val_acc: 0.9407\n",
            "Epoch 19/100\n",
            "42000/42000 [==============================] - 6s 149us/step - loss: 0.3002 - acc: 0.9093 - val_loss: 0.2136 - val_acc: 0.9408\n",
            "Epoch 20/100\n",
            "42000/42000 [==============================] - 6s 149us/step - loss: 0.2998 - acc: 0.9091 - val_loss: 0.2105 - val_acc: 0.9426\n",
            "Epoch 21/100\n",
            "42000/42000 [==============================] - 6s 149us/step - loss: 0.2912 - acc: 0.9112 - val_loss: 0.2092 - val_acc: 0.9422\n",
            "Epoch 22/100\n",
            "42000/42000 [==============================] - 6s 150us/step - loss: 0.2884 - acc: 0.9126 - val_loss: 0.2087 - val_acc: 0.9430\n",
            "Epoch 23/100\n",
            "42000/42000 [==============================] - 6s 148us/step - loss: 0.2851 - acc: 0.9141 - val_loss: 0.2035 - val_acc: 0.9442\n",
            "Epoch 24/100\n",
            "42000/42000 [==============================] - 6s 149us/step - loss: 0.2798 - acc: 0.9156 - val_loss: 0.2020 - val_acc: 0.9450\n",
            "Epoch 25/100\n",
            "42000/42000 [==============================] - 6s 150us/step - loss: 0.2775 - acc: 0.9157 - val_loss: 0.2046 - val_acc: 0.9436\n",
            "Epoch 26/100\n",
            "42000/42000 [==============================] - 6s 149us/step - loss: 0.2704 - acc: 0.9171 - val_loss: 0.2000 - val_acc: 0.9457\n",
            "Epoch 27/100\n",
            "42000/42000 [==============================] - 7s 160us/step - loss: 0.2707 - acc: 0.9175 - val_loss: 0.1968 - val_acc: 0.9457\n",
            "Epoch 28/100\n",
            "42000/42000 [==============================] - 7s 156us/step - loss: 0.2664 - acc: 0.9186 - val_loss: 0.1981 - val_acc: 0.9456\n",
            "Epoch 29/100\n",
            "42000/42000 [==============================] - 6s 150us/step - loss: 0.2658 - acc: 0.9172 - val_loss: 0.1945 - val_acc: 0.9468\n",
            "Epoch 30/100\n",
            "42000/42000 [==============================] - 6s 148us/step - loss: 0.2631 - acc: 0.9194 - val_loss: 0.1936 - val_acc: 0.9475\n",
            "Epoch 31/100\n",
            "42000/42000 [==============================] - 6s 149us/step - loss: 0.2646 - acc: 0.9206 - val_loss: 0.1959 - val_acc: 0.9467\n",
            "Epoch 32/100\n",
            "42000/42000 [==============================] - 7s 170us/step - loss: 0.2598 - acc: 0.9205 - val_loss: 0.1926 - val_acc: 0.9481\n",
            "Epoch 33/100\n",
            "42000/42000 [==============================] - 7s 161us/step - loss: 0.2553 - acc: 0.9229 - val_loss: 0.1945 - val_acc: 0.9476\n",
            "Epoch 34/100\n",
            "42000/42000 [==============================] - 6s 150us/step - loss: 0.2570 - acc: 0.9218 - val_loss: 0.1942 - val_acc: 0.9468\n",
            "Epoch 35/100\n",
            "42000/42000 [==============================] - 6s 150us/step - loss: 0.2499 - acc: 0.9224 - val_loss: 0.1909 - val_acc: 0.9476\n",
            "Epoch 36/100\n",
            "42000/42000 [==============================] - 6s 149us/step - loss: 0.2548 - acc: 0.9210 - val_loss: 0.1905 - val_acc: 0.9483\n",
            "Epoch 37/100\n",
            "42000/42000 [==============================] - 6s 148us/step - loss: 0.2490 - acc: 0.9228 - val_loss: 0.1913 - val_acc: 0.9475\n",
            "Epoch 38/100\n",
            "42000/42000 [==============================] - 6s 151us/step - loss: 0.2485 - acc: 0.9235 - val_loss: 0.1889 - val_acc: 0.9481\n",
            "Epoch 39/100\n",
            "42000/42000 [==============================] - 7s 155us/step - loss: 0.2502 - acc: 0.9224 - val_loss: 0.1872 - val_acc: 0.9478\n",
            "Epoch 40/100\n",
            "42000/42000 [==============================] - 7s 162us/step - loss: 0.2457 - acc: 0.9241 - val_loss: 0.1876 - val_acc: 0.9474\n",
            "Epoch 41/100\n",
            "42000/42000 [==============================] - 6s 151us/step - loss: 0.2446 - acc: 0.9251 - val_loss: 0.1864 - val_acc: 0.9490\n",
            "Epoch 42/100\n",
            "42000/42000 [==============================] - 6s 149us/step - loss: 0.2414 - acc: 0.9271 - val_loss: 0.1868 - val_acc: 0.9485\n",
            "Epoch 43/100\n",
            "42000/42000 [==============================] - 6s 150us/step - loss: 0.2415 - acc: 0.9256 - val_loss: 0.1857 - val_acc: 0.9485\n",
            "Epoch 44/100\n",
            "42000/42000 [==============================] - 6s 151us/step - loss: 0.2386 - acc: 0.9264 - val_loss: 0.1848 - val_acc: 0.9482\n",
            "Epoch 45/100\n",
            "42000/42000 [==============================] - 6s 150us/step - loss: 0.2363 - acc: 0.9271 - val_loss: 0.1838 - val_acc: 0.9491\n",
            "Epoch 46/100\n",
            "42000/42000 [==============================] - 6s 150us/step - loss: 0.2331 - acc: 0.9284 - val_loss: 0.1849 - val_acc: 0.9481\n",
            "Epoch 47/100\n",
            "42000/42000 [==============================] - 6s 149us/step - loss: 0.2382 - acc: 0.9275 - val_loss: 0.1866 - val_acc: 0.9484\n",
            "Epoch 48/100\n",
            "42000/42000 [==============================] - 6s 151us/step - loss: 0.2350 - acc: 0.9282 - val_loss: 0.1858 - val_acc: 0.9480\n",
            "Epoch 49/100\n",
            "42000/42000 [==============================] - 6s 151us/step - loss: 0.2357 - acc: 0.9254 - val_loss: 0.1861 - val_acc: 0.9490\n",
            "Epoch 50/100\n",
            "42000/42000 [==============================] - 6s 150us/step - loss: 0.2352 - acc: 0.9275 - val_loss: 0.1836 - val_acc: 0.9497\n",
            "Epoch 51/100\n",
            "42000/42000 [==============================] - 6s 151us/step - loss: 0.2301 - acc: 0.9283 - val_loss: 0.1857 - val_acc: 0.9491\n",
            "Epoch 52/100\n",
            "42000/42000 [==============================] - 7s 159us/step - loss: 0.2339 - acc: 0.9275 - val_loss: 0.1845 - val_acc: 0.9495\n",
            "Epoch 53/100\n",
            "42000/42000 [==============================] - 7s 159us/step - loss: 0.2274 - acc: 0.9282 - val_loss: 0.1813 - val_acc: 0.9491\n",
            "Epoch 54/100\n",
            "42000/42000 [==============================] - 6s 149us/step - loss: 0.2320 - acc: 0.9276 - val_loss: 0.1851 - val_acc: 0.9494\n",
            "Epoch 55/100\n",
            "42000/42000 [==============================] - 6s 150us/step - loss: 0.2287 - acc: 0.9277 - val_loss: 0.1803 - val_acc: 0.9502\n",
            "Epoch 56/100\n",
            "42000/42000 [==============================] - 6s 153us/step - loss: 0.2284 - acc: 0.9285 - val_loss: 0.1829 - val_acc: 0.9494\n",
            "Epoch 57/100\n",
            "42000/42000 [==============================] - 7s 162us/step - loss: 0.2290 - acc: 0.9285 - val_loss: 0.1816 - val_acc: 0.9501\n",
            "Epoch 58/100\n",
            "42000/42000 [==============================] - 6s 149us/step - loss: 0.2262 - acc: 0.9282 - val_loss: 0.1837 - val_acc: 0.9501\n",
            "Epoch 59/100\n",
            "42000/42000 [==============================] - 6s 149us/step - loss: 0.2281 - acc: 0.9276 - val_loss: 0.1806 - val_acc: 0.9507\n",
            "Epoch 60/100\n",
            "42000/42000 [==============================] - 6s 150us/step - loss: 0.2222 - acc: 0.9318 - val_loss: 0.1803 - val_acc: 0.9500\n",
            "Epoch 61/100\n",
            "42000/42000 [==============================] - 6s 148us/step - loss: 0.2198 - acc: 0.9300 - val_loss: 0.1834 - val_acc: 0.9501\n",
            "Epoch 62/100\n",
            "42000/42000 [==============================] - 6s 149us/step - loss: 0.2250 - acc: 0.9293 - val_loss: 0.1832 - val_acc: 0.9504\n",
            "Epoch 63/100\n",
            "42000/42000 [==============================] - 6s 148us/step - loss: 0.2249 - acc: 0.9300 - val_loss: 0.1805 - val_acc: 0.9499\n",
            "Epoch 64/100\n",
            "42000/42000 [==============================] - 6s 150us/step - loss: 0.2233 - acc: 0.9310 - val_loss: 0.1825 - val_acc: 0.9516\n",
            "Epoch 65/100\n",
            "42000/42000 [==============================] - 7s 161us/step - loss: 0.2194 - acc: 0.9307 - val_loss: 0.1832 - val_acc: 0.9498\n",
            "Epoch 66/100\n",
            "42000/42000 [==============================] - 6s 153us/step - loss: 0.2210 - acc: 0.9309 - val_loss: 0.1824 - val_acc: 0.9498\n",
            "Epoch 67/100\n",
            "42000/42000 [==============================] - 6s 148us/step - loss: 0.2151 - acc: 0.9321 - val_loss: 0.1813 - val_acc: 0.9508\n",
            "Epoch 68/100\n",
            "42000/42000 [==============================] - 6s 147us/step - loss: 0.2127 - acc: 0.9327 - val_loss: 0.1813 - val_acc: 0.9510\n",
            "Epoch 69/100\n",
            "42000/42000 [==============================] - 6s 147us/step - loss: 0.2199 - acc: 0.9298 - val_loss: 0.1796 - val_acc: 0.9516\n"
          ],
          "name": "stdout"
        }
      ]
    },
    {
      "metadata": {
        "id": "U1riebZa2x1Z",
        "colab_type": "code",
        "colab": {
          "base_uri": "https://localhost:8080/",
          "height": 286
        },
        "outputId": "520f85f4-2d32-4e30-aaaa-b4f86b685f2c"
      },
      "cell_type": "code",
      "source": [
        "plt.plot(h.history['acc'], label='Training Accuracy')\n",
        "plt.plot(h.history['val_acc'], label='Validation Accuracy')\n",
        "plt.legend()"
      ],
      "execution_count": 26,
      "outputs": [
        {
          "output_type": "execute_result",
          "data": {
            "text/plain": [
              "<matplotlib.legend.Legend at 0x7f942e27a320>"
            ]
          },
          "metadata": {
            "tags": []
          },
          "execution_count": 26
        },
        {
          "output_type": "display_data",
          "data": {
            "image/png": "[encoded data removed]",
            "text/plain": [
              "<Figure size 432x288 with 1 Axes>"
            ]
          },
          "metadata": {
            "tags": []
          }
        }
      ]
    }
  ]
}